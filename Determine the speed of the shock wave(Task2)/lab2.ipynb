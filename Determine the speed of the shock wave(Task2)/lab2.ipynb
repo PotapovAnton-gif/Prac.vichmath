{
  "cells": [
    {
      "cell_type": "code",
      "execution_count": 5,
      "metadata": {
        "id": "rYb_GENnAaKN"
      },
      "outputs": [],
      "source": [
        "import math\n",
        "import numpy as np\n",
        "import matplotlib.pyplot as plt"
      ]
    },
    {
      "cell_type": "code",
      "execution_count": 6,
      "metadata": {
        "id": "0KfYpvOKAHfF"
      },
      "outputs": [],
      "source": [
        "gamma0 = 7/5\n",
        "rho0 = 1e-5\n",
        "P0 = 3.848e3\n",
        "U0 = 0\n",
        "gamma3 = 5/3\n",
        "C3 = 1.31478e4\n",
        "P3 = 1.17928e9\n",
        "U3 = 5e4"
      ]
    },
    {
      "cell_type": "code",
      "execution_count": 7,
      "metadata": {
        "id": "DBM3wlyxAdOH"
      },
      "outputs": [],
      "source": [
        "rho3 = gamma3 * P3 / (C3**2)\n",
        "\n",
        "alpha0 = (gamma0 + 1)/(gamma0 - 1)\n",
        "n = 2*gamma3 / (gamma3 - 1)\n",
        "mu = (U3 - U0) * math.sqrt((gamma0 - 1)*rho0 / (2 * P0))\n",
        "v = (2 / (gamma3 - 1)) * math.sqrt( gamma3 * (gamma0 - 1) * P3 * rho0 / (2 * P0 * rho3) )\n",
        "# v = (2 * C3 / (gamma3 - 1)) * math.sqrt((gamma0 - 1) * rho0 / (2 * P0))\n",
        "X = P3 / P0"
      ]
    },
    {
      "cell_type": "code",
      "execution_count": 8,
      "metadata": {
        "colab": {
          "base_uri": "https://localhost:8080/"
        },
        "id": "skgEsT_2ASye",
        "outputId": "9984e48c-4dac-47ea-8dcf-c4e7519dd26b"
      },
      "outputs": [
        {
          "name": "stdout",
          "output_type": "stream",
          "text": [
            "coefficients:  93921223110.20439 -1486882.8086590618 6743427.483838409 -8258761.643467001 -0.8086184010187105 3.6673095671101854 -3.1580674654677736\n",
            "\n",
            "num of roots:  3\n"
          ]
        }
      ],
      "source": [
        "c = []\n",
        "c.append(X**2)\n",
        "c.append(-alpha0 * (v**2) * X)\n",
        "c.append(2 * alpha0 * v * (mu + v) * X)\n",
        "c.append(-(2 + alpha0 * ((mu + v)**2)) * X)\n",
        "c.append(-v**2)\n",
        "c.append(2 * v * (mu + v))\n",
        "c.append( -(mu + v)**2 + 1)\n",
        "\n",
        "c = np.array(c)\n",
        "print('coefficients: ', *c)\n",
        "print('')\n",
        "print('num of roots: ', (c > 0).sum())"
      ]
    },
    {
      "cell_type": "code",
      "execution_count": 9,
      "metadata": {
        "id": "sK0tnc_2AP8f"
      },
      "outputs": [],
      "source": [
        "f = lambda z: (c[0] * math.pow(z, 2 * n)) + (c[1] * math.pow(z, n + 2)) + (c[2] * math.pow(z, n + 1)) + (c[3] * math.pow(z, n)) + (c[4] * math.pow(z, 2)) + (c[5] * z) + c[6]"
      ]
    },
    {
      "cell_type": "code",
      "execution_count": 10,
      "metadata": {
        "id": "uyXA4ROmAw_l"
      },
      "outputs": [],
      "source": [
        "A = max([abs(x) for x in c[1:]])\n",
        "B = max([abs(x) for x in c[:-1]])\n",
        "a = abs(c[-1]) / (abs(c[-1]) + B)\n",
        "b = 1 + (A / abs(c[0]))"
      ]
    },
    {
      "cell_type": "code",
      "execution_count": 11,
      "metadata": {
        "colab": {
          "base_uri": "https://localhost:8080/"
        },
        "id": "CAi_rDQoBbUa",
        "outputId": "6f5f6e74-cb2a-412a-f3d1-3c8b0326b98f"
      },
      "outputs": [
        {
          "data": {
            "text/plain": [
              "(3.362464159624499e-11, 1.0000879328587298)"
            ]
          },
          "execution_count": 11,
          "metadata": {},
          "output_type": "execute_result"
        }
      ],
      "source": [
        "a, b"
      ]
    },
    {
      "cell_type": "code",
      "execution_count": 12,
      "metadata": {
        "colab": {
          "base_uri": "https://localhost:8080/",
          "height": 265
        },
        "id": "LtwL-wZBAx6n",
        "outputId": "83f833cc-86e0-4749-c103-3f97a17316dd"
      },
      "outputs": [
        {
          "data": {
            "image/png": "[encoded data removed]",
            "text/plain": [
              "<Figure size 432x288 with 1 Axes>"
            ]
          },
          "metadata": {
            "needs_background": "light"
          },
          "output_type": "display_data"
        }
      ],
      "source": [
        "points = np.linspace(0.01, 1.01, 1000)\n",
        "plt.plot(points, [f(p) for p in points])\n",
        "plt.plot(points, np.zeros(len(points)))\n",
        "ax = plt.gca()\n",
        "ax.set_xticks(np.arange(0, 1, 0.1))\n",
        "plt.xlim([0.01, 1.01])\n",
        "plt.grid()"
      ]
    },
    {
      "cell_type": "code",
      "execution_count": 13,
      "metadata": {
        "colab": {
          "base_uri": "https://localhost:8080/"
        },
        "id": "Unizol1CAPCI",
        "outputId": "3ff4020d-ed5a-44a3-a954-fe1e5afff8b0"
      },
      "outputs": [
        {
          "name": "stdout",
          "output_type": "stream",
          "text": [
            "roots localized:\n",
            "(0.1500131899573904, 0.1510132778902155)\n"
          ]
        }
      ],
      "source": [
        "# print(a)\n",
        "\n",
        "# print(z1, z2)\n",
        "\n",
        "N = 1000\n",
        "h = (b - a) / N\n",
        "\n",
        "loc = []\n",
        "for x in np.arange(a, b, h):\n",
        "    if f(x) * f(x + h) < 0:\n",
        "        loc.append(x)\n",
        "\n",
        "# print('h: ', h)\n",
        "print('roots localized:')\n",
        "for x in loc:\n",
        "    print('(', x, ', ', x + h, ')', sep='')"
      ]
    },
    {
      "cell_type": "code",
      "execution_count": 14,
      "metadata": {
        "id": "Y1dVt_xsALFF"
      },
      "outputs": [],
      "source": [
        "def find_root(x1, x2):\n",
        "    if abs(x1 - x2) < 1e-8:\n",
        "        return x1\n",
        "\n",
        "    if f(x1) * f((x1 + x2) / 2) < 0:\n",
        "        return find_root(x1, (x1 + x2) / 2)\n",
        "    if f((x1 + x2) / 2) * f(x2) < 0:\n",
        "        return find_root((x1 + x2) / 2, x2)\n",
        "\n",
        "    return (x1 + x2) / 2"
      ]
    },
    {
      "cell_type": "code",
      "execution_count": 15,
      "metadata": {
        "colab": {
          "base_uri": "https://localhost:8080/"
        },
        "id": "qClBNQ4sAM_y",
        "outputId": "0caf5ba6-d3f3-4b9f-96c4-a6969621481b"
      },
      "outputs": [
        {
          "name": "stdout",
          "output_type": "stream",
          "text": [
            "roots:  [0.15073975530556039]\n"
          ]
        }
      ],
      "source": [
        "roots = [find_root(x, x + h) for x in loc]\n",
        "\n",
        "print('roots: ', roots)\n",
        "\n",
        "C0 = math.sqrt(gamma0 * P0 / rho0)\n",
        "# P1 = [P3 * math.pow(x, n) for x in roots]"
      ]
    },
    {
      "cell_type": "code",
      "execution_count": 16,
      "metadata": {
        "colab": {
          "base_uri": "https://localhost:8080/"
        },
        "id": "LS1hMoZXAJca",
        "outputId": "a8ac2eec-bfbd-47de-d6f2-a3761ca8d9ea"
      },
      "outputs": [
        {
          "name": "stdout",
          "output_type": "stream",
          "text": [
            "\n",
            "D0:      105312.68759662306\n",
            "l1, l0:  -0.4551316664826729 -2.1971667020628325\n",
            "l1  l0:  1.0000001426500953\n"
          ]
        }
      ],
      "source": [
        "for x in roots:\n",
        "    P1 = P3 * math.pow(x, n)\n",
        "    P2 = P1\n",
        "\n",
        "    C2 = C3 * math.pow(P2 / P3, (gamma3 - 1) / (2 * gamma3))\n",
        "\n",
        "    U2 = U3 + (2 / (gamma3 - 1)) * (C3 - C2)\n",
        "    U1 = U2\n",
        "\n",
        "    rho1 = rho0 * ( (gamma0 - 1) + ((gamma0 + 1) * P1 / P0) ) / ( (gamma0 + 1) + ((gamma0 - 1) * P1 / P0) )\n",
        "\n",
        "    D0 = ((rho1 * U1) - (rho0 * U0)) / (rho1 - rho0)\n",
        "\n",
        "    print('')\n",
        "    print('D0:     ', D0)\n",
        "\n",
        "    a = math.sqrt((P1 - P0) / (rho1 - rho0))\n",
        "    l1 = (U1 - D0) / a\n",
        "    l0 = (U0 - D0) / a\n",
        "    # print('l1, l2: ', l1, l2)\n",
        "    print('l1, l0: ', l1, l0)\n",
        "    print('l1  l0: ', l1 * l0)"
      ]
    }
  ],
  "metadata": {
    "colab": {
      "collapsed_sections": [],
      "name": "lab2.ipynb",
      "provenance": []
    },
    "kernelspec": {
      "display_name": "Python 3",
      "name": "python3"
    },
    "language_info": {
      "codemirror_mode": {
        "name": "ipython",
        "version": 3
      },
      "file_extension": ".py",
      "mimetype": "text/x-python",
      "name": "python",
      "nbconvert_exporter": "python",
      "pygments_lexer": "ipython3",
      "version": "3.9.7"
    }
  },
  "nbformat": 4,
  "nbformat_minor": 0
}
