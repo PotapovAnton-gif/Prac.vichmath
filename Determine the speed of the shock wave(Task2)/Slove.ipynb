{
  "cells": [
    {
      "cell_type": "code",
      "execution_count": 1,
      "metadata": {
        "id": "rYb_GENnAaKN"
      },
      "outputs": [],
      "source": [
        "import math\n",
        "import numpy as np\n",
        "import matplotlib.pyplot as plt"
      ]
    },
    {
      "cell_type": "code",
      "execution_count": 2,
      "metadata": {
        "id": "0KfYpvOKAHfF"
      },
      "outputs": [],
      "source": [
        "gamma0 = 7./5\n",
        "rho0 = 1.694e-4\n",
        "P0 = 1.013e6\n",
        "U0 = 1e-3\n",
        "gamma3 = 7/5\n",
        "C3 = 3.6537e4\n",
        "P3 = 1.6768e6\n",
        "U3 = 1.229e4"
      ]
    },
    {
      "cell_type": "code",
      "execution_count": 3,
      "metadata": {
        "id": "DBM3wlyxAdOH"
      },
      "outputs": [],
      "source": [
        "rho3 = gamma3 * P3 / (C3**2)\n",
        "\n",
        "alpha0 = (gamma0 + 1)/(gamma0 - 1)\n",
        "n = 2*gamma3 / (gamma3 - 1)\n",
        "mu = (U3 - U0) * math.sqrt((gamma0 - 1)*rho0 / (2 * P0))\n",
        "v = (2 / (gamma3 - 1)) * math.sqrt( gamma3 * (gamma0 - 1) * P3 * rho0 / (2 * P0 * rho3) )\n",
        "# v = (2 * C3 / (gamma3 - 1)) * math.sqrt((gamma0 - 1) * rho0 / (2 * P0))\n",
        "X = P3 / P0"
      ]
    },
    {
      "cell_type": "code",
      "execution_count": 4,
      "metadata": {
        "colab": {
          "base_uri": "https://localhost:8080/"
        },
        "id": "skgEsT_2ASye",
        "outputId": "9984e48c-4dac-47ea-8dcf-c4e7519dd26b"
      },
      "outputs": [
        {
          "name": "stdout",
          "output_type": "stream",
          "text": [
            "coefficients:  2.739956322983836 -11.085691936267631 23.662947414271446 -15.937990083168685 -1.1161941328163871 2.382570544157221 -0.27142811250098164\n",
            "\n",
            "num of roots:  3\n"
          ]
        }
      ],
      "source": [
        "c = []\n",
        "c.append(X**2)\n",
        "c.append(-alpha0 * (v**2) * X)\n",
        "c.append(2 * alpha0 * v * (mu + v) * X)\n",
        "c.append(-(2 + alpha0 * ((mu + v)**2)) * X)\n",
        "c.append(-v**2)\n",
        "c.append(2 * v * (mu + v))\n",
        "c.append( -(mu + v)**2 + 1)\n",
        "\n",
        "c = np.array(c)\n",
        "print('coefficients: ', *c)\n",
        "print('')\n",
        "print('num of roots: ', (c > 0).sum())"
      ]
    },
    {
      "cell_type": "code",
      "execution_count": 5,
      "metadata": {
        "id": "sK0tnc_2AP8f"
      },
      "outputs": [],
      "source": [
        "f = lambda z: (c[0] * math.pow(z, 2 * n)) + (c[1] * math.pow(z, n + 2)) + (c[2] * math.pow(z, n + 1)) + (c[3] * math.pow(z, n)) + (c[4] * math.pow(z, 2)) + (c[5] * z) + c[6]"
      ]
    },
    {
      "cell_type": "code",
      "execution_count": 6,
      "metadata": {
        "id": "uyXA4ROmAw_l"
      },
      "outputs": [],
      "source": [
        "A = max([abs(x) for x in c[1:]])\n",
        "B = max([abs(x) for x in c[:-1]])\n",
        "a = abs(c[-1]) / (abs(c[-1]) + B)\n",
        "b = 1 + (A / abs(c[0]))"
      ]
    },
    {
      "cell_type": "code",
      "execution_count": 7,
      "metadata": {
        "colab": {
          "base_uri": "https://localhost:8080/"
        },
        "id": "CAi_rDQoBbUa",
        "outputId": "6f5f6e74-cb2a-412a-f3d1-3c8b0326b98f"
      },
      "outputs": [
        {
          "data": {
            "text/plain": [
              "(0.011340513655656843, 9.636249861275997)"
            ]
          },
          "execution_count": 7,
          "metadata": {},
          "output_type": "execute_result"
        }
      ],
      "source": [
        "a, b"
      ]
    },
    {
      "cell_type": "code",
      "execution_count": 8,
      "metadata": {
        "colab": {
          "base_uri": "https://localhost:8080/",
          "height": 265
        },
        "id": "LtwL-wZBAx6n",
        "outputId": "83f833cc-86e0-4749-c103-3f97a17316dd"
      },
      "outputs": [
        {
          "data": {
            "image/png": "[encoded data removed]",
            "text/plain": [
              "<Figure size 432x288 with 1 Axes>"
            ]
          },
          "metadata": {
            "needs_background": "light"
          },
          "output_type": "display_data"
        }
      ],
      "source": [
        "points = np.linspace(0.01, 1.01, 1000)\n",
        "plt.plot(points, [f(p) for p in points])\n",
        "plt.plot(points, np.zeros(len(points)))\n",
        "ax = plt.gca()\n",
        "ax.set_xticks(np.arange(0, 1, 0.1))\n",
        "plt.xlim([0.01, 1.01])\n",
        "plt.grid()"
      ]
    },
    {
      "cell_type": "code",
      "execution_count": 9,
      "metadata": {
        "colab": {
          "base_uri": "https://localhost:8080/"
        },
        "id": "Unizol1CAPCI",
        "outputId": "3ff4020d-ed5a-44a3-a954-fe1e5afff8b0"
      },
      "outputs": [
        {
          "name": "stdout",
          "output_type": "stream",
          "text": [
            "roots localized:\n",
            "(0.11721451647948056, 0.1268394258271009)\n",
            "(0.8487076268986262, 0.8583325362462466)\n",
            "(0.9642065390700703, 0.9738314484176906)\n"
          ]
        }
      ],
      "source": [
        "# print(a)\n",
        "\n",
        "# print(z1, z2)\n",
        "\n",
        "N = 1000\n",
        "h = (b - a) / N\n",
        "\n",
        "loc = []\n",
        "for x in np.arange(a, b, h):\n",
        "    if f(x) * f(x + h) < 0:\n",
        "        loc.append(x)\n",
        "\n",
        "# print('h: ', h)\n",
        "print('roots localized:')\n",
        "for x in loc:\n",
        "    print('(', x, ', ', x + h, ')', sep='')"
      ]
    },
    {
      "cell_type": "code",
      "execution_count": 10,
      "metadata": {
        "id": "Y1dVt_xsALFF"
      },
      "outputs": [],
      "source": [
        "def find_root(x1, x2):\n",
        "    if abs(x1 - x2) < 1e-8:\n",
        "        return x1\n",
        "\n",
        "    if f(x1) * f((x1 + x2) / 2) < 0:\n",
        "        return find_root(x1, (x1 + x2) / 2)\n",
        "    if f((x1 + x2) / 2) * f(x2) < 0:\n",
        "        return find_root((x1 + x2) / 2, x2)\n",
        "\n",
        "    return (x1 + x2) / 2"
      ]
    },
    {
      "cell_type": "code",
      "execution_count": 11,
      "metadata": {
        "colab": {
          "base_uri": "https://localhost:8080/"
        },
        "id": "qClBNQ4sAM_y",
        "outputId": "0caf5ba6-d3f3-4b9f-96c4-a6969621481b"
      },
      "outputs": [
        {
          "name": "stdout",
          "output_type": "stream",
          "text": [
            "roots:  [0.1207558684182013, 0.8499511925471879, 0.9675550487918376]\n"
          ]
        }
      ],
      "source": [
        "roots = [find_root(x, x + h) for x in loc]\n",
        "\n",
        "print('roots: ', roots)\n",
        "\n",
        "C0 = math.sqrt(gamma0 * P0 / rho0)\n",
        "# P1 = [P3 * math.pow(x, n) for x in roots]"
      ]
    },
    {
      "cell_type": "code",
      "execution_count": 12,
      "metadata": {
        "colab": {
          "base_uri": "https://localhost:8080/"
        },
        "id": "LS1hMoZXAJca",
        "outputId": "a8ac2eec-bfbd-47de-d6f2-a3761ca8d9ea"
      },
      "outputs": [
        {
          "name": "stdout",
          "output_type": "stream",
          "text": [
            "\n",
            "D0:      -34583.091669640104\n",
            "l1, l0:  2.4494853342491276 0.4082490316521909\n",
            "l1  l0:  1.0000000157534494\n",
            "\n",
            "D0:      -70727.08434074702\n",
            "l1, l0:  1.2495343085349702 0.8002981025458973\n",
            "l1  l0:  0.9999999361865364\n",
            "\n",
            "D0:      103078.97089829991\n",
            "l1, l0:  -0.9073419786275564 -1.1021203308335763\n",
            "l1  l0:  1.000000041664194\n"
          ]
        }
      ],
      "source": [
        "for x in roots:\n",
        "    P1 = P3 * math.pow(x, n)\n",
        "    P2 = P1\n",
        "\n",
        "    C2 = C3 * math.pow(P2 / P3, (gamma3 - 1) / (2 * gamma3))\n",
        "\n",
        "    U2 = U3 + (2 / (gamma3 - 1)) * (C3 - C2)\n",
        "    U1 = U2\n",
        "\n",
        "    rho1 = rho0 * ( (gamma0 - 1) + ((gamma0 + 1) * P1 / P0) ) / ( (gamma0 + 1) + ((gamma0 - 1) * P1 / P0) )\n",
        "\n",
        "    D0 = ((rho1 * U1) - (rho0 * U0)) / (rho1 - rho0)\n",
        "\n",
        "    print('')\n",
        "    print('D0:     ', D0)\n",
        "\n",
        "    a = math.sqrt((P1 - P0) / (rho1 - rho0))\n",
        "    l1 = (U1 - D0) / a\n",
        "    l0 = (U0 - D0) / a\n",
        "    # print('l1, l2: ', l1, l2)\n",
        "    print('l1, l0: ', l1, l0)\n",
        "    print('l1  l0: ', l1 * l0)"
      ]
    }
  ],
  "metadata": {
    "colab": {
      "collapsed_sections": [],
      "name": "lab2.ipynb",
      "provenance": []
    },
    "kernelspec": {
      "display_name": "Python 3",
      "name": "python3"
    },
    "language_info": {
      "codemirror_mode": {
        "name": "ipython",
        "version": 3
      },
      "file_extension": ".py",
      "mimetype": "text/x-python",
      "name": "python",
      "nbconvert_exporter": "python",
      "pygments_lexer": "ipython3",
      "version": "3.8.8"
    }
  },
  "nbformat": 4,
  "nbformat_minor": 0
}
