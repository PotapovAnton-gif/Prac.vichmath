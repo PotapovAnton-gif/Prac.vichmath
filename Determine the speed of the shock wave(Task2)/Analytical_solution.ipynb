{
 "cells": [
  {
   "cell_type": "markdown",
   "source": [
    "1ый раздел 2ой вариант задание номер 5"
   ],
   "metadata": {}
  },
  {
   "cell_type": "markdown",
   "source": [],
   "metadata": {}
  }
 ],
 "metadata": {
  "orig_nbformat": 4,
  "language_info": {
   "name": "python"
  }
 },
 "nbformat": 4,
 "nbformat_minor": 2
}