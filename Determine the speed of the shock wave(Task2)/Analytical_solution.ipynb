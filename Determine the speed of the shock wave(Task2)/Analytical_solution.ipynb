{
 "cells": [
  {
   "cell_type": "markdown",
   "metadata": {},
   "source": [
    "1ый раздел 2ой вариант задание номер 5"
   ]
  },
  {
   "cell_type": "markdown",
   "metadata": {},
   "source": [
    "Зададим основные велечины"
   ]
  },
  {
   "cell_type": "markdown",
   "metadata": {},
   "source": []
  },
  {
   "cell_type": "code",
   "execution_count": null,
   "metadata": {},
   "outputs": [],
   "source": [
    "gamma_0 = 7/5\n",
    "ro_0 = 10**-5 # г/см^3\n",
    "P_0 = 3.848*10**3 # дин/см^2\n",
    "U_0 = 0\n",
    "\n",
    "gamma_3 = 5/3  \n",
    "C_3 = 1.31478*10**4 # см/с\n",
    "U_3 = 5*10**4 # см/с\n",
    "P_3 = 1.17928*10**9 # дин/см^2\n"
   ]
  }
 ],
 "metadata": {
  "interpreter": {
   "hash": "adecd6b6d58611e84e3e7b2ac98042998dbb0b3f7cea641082e40b408a19065e"
  },
  "kernelspec": {
   "display_name": "Python 3.8.8 64-bit ('base': conda)",
   "name": "python3"
  },
  "language_info": {
   "name": "python",
   "version": "3.8.8"
  },
  "orig_nbformat": 4
 },
 "nbformat": 4,
 "nbformat_minor": 2
}
