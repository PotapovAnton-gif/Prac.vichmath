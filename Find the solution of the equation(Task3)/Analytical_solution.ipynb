{
 "cells": [
  {
   "cell_type": "markdown",
   "metadata": {},
   "source": [
    "Необходимо найти все действительные корни уравнения:\n",
    "\n",
    "$x^6 - 6x^5 + 20x^4 - 40x^3 + 49x^2 - 34x + 10 = 0$\n",
    "\n",
    "с точностью до $\\epsilon = 10^{-6}$"
   ]
  },
  {
   "cell_type": "code",
   "execution_count": 11,
   "metadata": {},
   "outputs": [],
   "source": [
    "import numpy as np \n",
    "import matplotlib.pyplot as plt \n",
    "import math"
   ]
  },
  {
   "cell_type": "code",
   "execution_count": 12,
   "metadata": {},
   "outputs": [],
   "source": [
    "a = [1, -6, 20, -40, 49, -34, 10]   #Коэфициенты уравнения\n",
    "\n",
    "for i in range(len(a)):\n",
    "    a[i] = int(a[i])"
   ]
  },
  {
   "cell_type": "code",
   "execution_count": 13,
   "metadata": {},
   "outputs": [],
   "source": [
    "def f(x):\n",
    "    return x**6 + a[1]*x**5 + a[2]*x**4 + a[3] * x**3 + a[4] * x**2 + a[5] * x + a[6]  "
   ]
  },
  {
   "cell_type": "code",
   "execution_count": 14,
   "metadata": {},
   "outputs": [
    {
     "data": {
      "image/png": "[encoded data removed]",
      "text/plain": [
       "<Figure size 432x288 with 1 Axes>"
      ]
     },
     "metadata": {
      "needs_background": "light"
     },
     "output_type": "display_data"
    }
   ],
   "source": [
    "x_es = np.arange(0, 2, 0.01)\n",
    "y_es = f(x_es)\n",
    "\n",
    "fig, ax = plt.subplots()\n",
    "\n",
    "ax.plot(x_es, y_es)\n",
    "ax.grid()\n",
    "\n",
    "plt.show()"
   ]
  },
  {
   "cell_type": "markdown",
   "metadata": {},
   "source": [
    "Покажем, что корень находится на отрезке от 0 до 2, и при том единственный:\n",
    "\n",
    "1. при $\\;\\; x < 0 \\to f(x) = x^6 + 6x^5 + 20x^4 + 40x^3 + 49x^2 + 34x + 10 > 0 \\;\\;$ для $\\;\\; \\forall x$\n",
    "\n",
    "2. при $\\;\\; x > 2 \\to f(x) = x^6 - 6x^5 + 20x^4 - 40x^3 + 49x^2 - 34x + 10 = (x^6 + 20x^4 + 49x^2) - (6x^5 + 40x^3 + 34x) + 10 = h(x) - g(x) + 10 \\Rightarrow$\n",
    "\n",
    "$h'(x) > 0,\\; g'(x) > 0 \\;\\;\\forall x \\in [2, \\infty] $\n",
    "\n",
    "Очевидно, что h(x) растет быстрее g(x), начиная с какой - то точки, так как у h(x) - больше старшая степень, проверим точку 2.\n",
    "Если в этой точке h(x) 1) растет быстрее и 2) - больше, тогда начиная с точки 2 и далее f(x) - строго положительна:"
   ]
  },
  {
   "cell_type": "code",
   "execution_count": 21,
   "metadata": {},
   "outputs": [],
   "source": [
    "def h(x):\n",
    "    return x**6 + 20*x**4 + 49*x**2\n",
    "def h_1(x):\n",
    "    return 6*x**5 + 80*x**3 + 98*x\n",
    "def g(x):\n",
    "    return 6*x**5 + 40*x**3 + 34*x\n",
    "def g_1(x):\n",
    "    return 30*x**4 + 120*x**2 + 34"
   ]
  },
  {
   "cell_type": "code",
   "execution_count": 22,
   "metadata": {},
   "outputs": [
    {
     "name": "stdout",
     "output_type": "stream",
     "text": [
      "Значения функций в точке х = 2:  580 580\n",
      "Значения производных функций в точке х = 2:  1028 994\n"
     ]
    }
   ],
   "source": [
    "print(\"Значения функций в точке х = 2: \", h(2), g(2))\n",
    "print(\"Значения производных функций в точке х = 2: \", h1(2), g1(2))"
   ]
  },
  {
   "cell_type": "markdown",
   "metadata": {},
   "source": [
    "Из полученных результатов можно придти к выводу, что корень уравнения находится на отрезке от [0, 2]"
   ]
  },
  {
   "cell_type": "code",
   "execution_count": 23,
   "metadata": {},
   "outputs": [],
   "source": [
    "def next_x(x):\n",
    "    return x - (f(x)/(h1(x) - g1(x)))\n",
    "def f_2(x):\n",
    "    return 30*x**4 -120*x**3 + 240*x**2 - 240*x+98\n",
    "def f_1(x):\n",
    "    return h_1(x) - g_1(x)"
   ]
  },
  {
   "cell_type": "markdown",
   "metadata": {},
   "source": [
    "Возьмем отрезок от [1, 4], на нем выполняются все условия теормы Ньютона $\\to$"
   ]
  },
  {
   "cell_type": "code",
   "execution_count": 36,
   "metadata": {},
   "outputs": [
    {
     "name": "stdout",
     "output_type": "stream",
     "text": [
      "1.0000005836656813\n"
     ]
    }
   ],
   "source": [
    "pr_x = 3\n",
    "x = 2\n",
    "while abs(pr_x - x) >= f_2(4)/(2*f_1(4)) * 10**-6:\n",
    "    pr_x = x\n",
    "    x = next_x(x)\n",
    "    \n",
    "\n",
    "    \n",
    "print(x)"
   ]
  }
 ],
 "metadata": {
  "interpreter": {
   "hash": "adecd6b6d58611e84e3e7b2ac98042998dbb0b3f7cea641082e40b408a19065e"
  },
  "kernelspec": {
   "display_name": "Python 3.8.8 64-bit ('base': conda)",
   "name": "python3"
  },
  "language_info": {
   "codemirror_mode": {
    "name": "ipython",
    "version": 3
   },
   "file_extension": ".py",
   "mimetype": "text/x-python",
   "name": "python",
   "nbconvert_exporter": "python",
   "pygments_lexer": "ipython3",
   "version": "3.8.8"
  },
  "orig_nbformat": 4
 },
 "nbformat": 4,
 "nbformat_minor": 2
}
