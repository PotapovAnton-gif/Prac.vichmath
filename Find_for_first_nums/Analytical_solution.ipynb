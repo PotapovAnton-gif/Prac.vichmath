{
 "cells": [
  {
   "cell_type": "markdown",
   "metadata": {},
   "source": [
    "$\\left. \\begin{gathered} \\frac{d}{dx}[(2-x)\\frac{dy}{dx}] + \\frac{\\lambda x^2 y}{1+x} = 0 \\\\ y'_x(0) = y(1) = 0 \\end{gathered}  \\right \\}, \\space 0 < x < D = 1$"
   ]
  },
  {
   "cell_type": "code",
   "execution_count": 3,
   "metadata": {},
   "outputs": [],
   "source": [
    "import numpy as np\n",
    "from scipy.sparse import dia_matrix\n",
    "from numpy import linalg as LA"
   ]
  },
  {
   "cell_type": "code",
   "execution_count": 4,
   "metadata": {},
   "outputs": [],
   "source": [
    "def alpha(x):\n",
    "    return 2 - x\n",
    "\n",
    "def q(x):\n",
    "    return x**2/(1 + x)\n",
    "\n"
   ]
  },
  {
   "cell_type": "code",
   "execution_count": 5,
   "metadata": {},
   "outputs": [],
   "source": [
    "x0, xN = 0, 1\n",
    "h = 0.0002\n",
    "L = int(xN / h)  # число отрезков\n",
    "x_arr = [x0 + i * (xN - x0) / L for i in range(L + 1)]\n",
    "beta = [q(x) for x in x_arr]\n",
    "a_arr = [1 for i in range(L - 1)] + [0] + [1000]\n",
    "c_arr = [1000] + [2] + [1 for i in range(2, L + 1)]\n",
    "\n",
    "\n",
    "def calcDet(lam):\n",
    "    b_arr = [lam * beta[i] * h * h - 2 for i in range(L)] + [1]\n",
    "    return LA.det(dia_matrix((np.array([b_arr, a_arr, c_arr]), [0, -1, 1]), shape=(L + 1, L + 1)).toarray())\n",
    "\n"
   ]
  },
  {
   "cell_type": "code",
   "execution_count": null,
   "metadata": {},
   "outputs": [],
   "source": []
  },
  {
   "cell_type": "code",
   "execution_count": 6,
   "metadata": {},
   "outputs": [
    {
     "name": "stdout",
     "output_type": "stream",
     "text": [
      "Локализуем корни:\n",
      "(0.0, 100.0)\n",
      "(100.0, 200.0)\n",
      "(400.0, 500.0)\n",
      "(800.0, 900.0)\n"
     ]
    }
   ],
   "source": [
    "n = 10\n",
    "z1, z2 = 0, 1000\n",
    "value = [calcDet(z1 + i * (z2 - z1) / n) for i in range(n + 1)]\n",
    "roots = []\n",
    "for i in range(n):\n",
    "    if value[i] * value[i + 1] < 0:\n",
    "        x1 = z1 + i * (z2 - z1) / n\n",
    "        x2 = z1 + (i + 1) * (z2 - z1) / n\n",
    "        roots.append((x1, x2))\n",
    "print('Локализуем корни:')\n",
    "for i in range(len(roots)):\n",
    "    print(roots[i])"
   ]
  },
  {
   "cell_type": "code",
   "execution_count": 7,
   "metadata": {},
   "outputs": [
    {
     "name": "stdout",
     "output_type": "stream",
     "text": [
      "Уточняем значение корней:\n",
      "25.060224533081055\n",
      "169.6977138519287\n",
      "443.9626216888428\n",
      "847.7759838104248\n"
     ]
    }
   ],
   "source": [
    "eps = 1e-4\n",
    "Y = []\n",
    "for i in range(len(roots)):\n",
    "    a = roots[i][0]\n",
    "    b = roots[i][1]\n",
    "    while (b - a > eps):\n",
    "        c = (a + b) / 2\n",
    "        if calcDet(c) * calcDet(a) < 0:\n",
    "            b = c\n",
    "        else:\n",
    "            a = c\n",
    "    Y.append((a + b) / 2)\n",
    "print('Уточняем значение корней:')\n",
    "for i in range(len(Y)): print(Y[i])"
   ]
  }
 ],
 "metadata": {
  "interpreter": {
   "hash": "958b4ba616b4167876068ea87d2abe5fd1ac49bae82ce1f61d1b83892be8c5fd"
  },
  "kernelspec": {
   "display_name": "Python 3.9.7 ('base')",
   "language": "python",
   "name": "python3"
  },
  "language_info": {
   "codemirror_mode": {
    "name": "ipython",
    "version": 3
   },
   "file_extension": ".py",
   "mimetype": "text/x-python",
   "name": "python",
   "nbconvert_exporter": "python",
   "pygments_lexer": "ipython3",
   "version": "3.9.7"
  },
  "orig_nbformat": 4
 },
 "nbformat": 4,
 "nbformat_minor": 2
}
