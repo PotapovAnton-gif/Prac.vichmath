{
 "cells": [
  {
   "cell_type": "markdown",
   "metadata": {},
   "source": [
    "# 7"
   ]
  },
  {
   "cell_type": "code",
   "execution_count": 129,
   "metadata": {},
   "outputs": [],
   "source": [
    "from math import *\n",
    "import numpy as np\n",
    "import matplotlib.pyplot as plt\n",
    "import pandas as pd\n",
    "from random import randint"
   ]
  },
  {
   "cell_type": "code",
   "execution_count": 130,
   "metadata": {},
   "outputs": [
    {
     "name": "stdout",
     "output_type": "stream",
     "text": [
      "3.9367067093471655\n"
     ]
    }
   ],
   "source": [
    "u0 = lambda x: x**2 + cos(x)\n",
    "ul = lambda t: (1 + t)**2 + cos(1)\n",
    "\n",
    "du0 = lambda x: 2*x - sin(x)\n",
    "d2u0 = lambda x: 2 - cos(x)\n",
    "d3u0 = lambda x: sin(x)\n",
    "\n",
    "dul = lambda t: 2*(1 + t)\n",
    "d2ul = lambda t: 2\n",
    "d3ul = lambda t: 0\n",
    "a = lambda x: -1\n",
    "b = lambda x: sin(x)\n",
    "dadx = lambda x: 0\n",
    "dadt = 0\n",
    "\n",
    "u_an = lambda x, t: (x + t)**2 + cos(x)\n",
    "print(u_an(0.8, 1))\n",
    "t0, t1 = 0, 1\n",
    "x0, x1 = 0, 1\n",
    "#N = 1000   # по времени\n",
    "L = 161  # по пространству\n",
    "CFL = 1.5  # -0.25\n",
    "\n",
    "xx = np.linspace(x0, x1, L + 1)\n",
    "h = np.diff(xx)[0]\n",
    "tau = CFL * h\n",
    "N = int((t1 - t0) / tau)\n",
    "tt = np.linspace(t0, t1, N+1)\n",
    "tau = np.diff(tt)[0]\n",
    "\n",
    "u = np.zeros([N+1, L + 1])\n",
    "# u[:, 0] = [ul(t) for t in tt]\n",
    "u[0, :] = [u0(x) for x in xx]"
   ]
  },
  {
   "cell_type": "code",
   "execution_count": 131,
   "metadata": {},
   "outputs": [
    {
     "data": {
      "text/plain": [
       "[<matplotlib.lines.Line2D at 0x7fb25e8ac8b0>]"
      ]
     },
     "execution_count": 131,
     "metadata": {},
     "output_type": "execute_result"
    },
    {
     "data": {
      "image/png": "[encoded data removed]",
      "text/plain": [
       "<Figure size 432x288 with 1 Axes>"
      ]
     },
     "metadata": {
      "needs_background": "light"
     },
     "output_type": "display_data"
    }
   ],
   "source": [
    "for n in range(N):\n",
    "    for l in range(L):\n",
    "        if l <= L-3:\n",
    "            a1 = tau/(6*h) * (2*u[n][l+3] - 9*u[n][l+2] + 18*u[n][l+1] - 11*u[n][l])\n",
    "            a2 = tau**2/(2*h**2) * (-u[n][l+3] + 4*u[n][l+2] - 5*u[n][l+1] + 2*u[n][l]) + tau*sin(h*l) + 1/2*tau**2*cos(h*l)\n",
    "            a3 = tau**3/(6*h**3) * (u[n][l+3] - 3*u[n][l+2] + 3*u[n][l+1] - u[n][l]) - tau**3/6*sin(h*l)\n",
    "            u[n+1][l] = u[n][l] + a1 + a2 + a3\n",
    "        elif l == L - 1:\n",
    "            u[n+1][l] = ul(tt[n+1])\n",
    "        elif l == L - 3:   \n",
    "            t = tt[n+1]\n",
    "            u0l =  (dul(t) + t) + 1/b(h*l) * (du0(h*l) + h*l)\n",
    "            u0ll = (d2ul(t) - 1) + 1/(b(h*l)**2) * (d2u0(h*l) - 1)\n",
    "            u0lll= (d3ul(t) + 1)/(b(h*l)**3) * (d3u0(h*l))\n",
    "            u[n+1][l] = ul(t) + u0l*2*h + u0ll*2*h*h + u0lll*4/3*h**3\n",
    "        elif l == L - 2:\n",
    "            t = tt[n+1]\n",
    "            u0l = (dul(t) + t) + 1/b(h*l) * (du0(h*l) + h*l)\n",
    "            u0ll = (d2ul(t) - 1) + 1/(b(h*l)**2) * (d2u0(h*l) - 1)\n",
    "            u0lll=  (d3ul(t) + 1)/(b(h*l)**3) * (d3u0(h*l))\n",
    "            u[n+1][l] = ul(t) + u0l*h + u0ll*h*h/2 + u0lll*h**3 / 6\n",
    "\n",
    "plt.plot(xx, u[-1])"
   ]
  },
  {
   "cell_type": "code",
   "execution_count": 132,
   "metadata": {},
   "outputs": [
    {
     "data": {
      "text/html": [
       "<div>\n",
       "<style scoped>\n",
       "    .dataframe tbody tr th:only-of-type {\n",
       "        vertical-align: middle;\n",
       "    }\n",
       "\n",
       "    .dataframe tbody tr th {\n",
       "        vertical-align: top;\n",
       "    }\n",
       "\n",
       "    .dataframe thead th {\n",
       "        text-align: right;\n",
       "    }\n",
       "</style>\n",
       "<table border=\"1\" class=\"dataframe\">\n",
       "  <thead>\n",
       "    <tr style=\"text-align: right;\">\n",
       "      <th></th>\n",
       "      <th>x</th>\n",
       "      <th>u</th>\n",
       "      <th>u*</th>\n",
       "      <th>d</th>\n",
       "    </tr>\n",
       "  </thead>\n",
       "  <tbody>\n",
       "    <tr>\n",
       "      <th>0</th>\n",
       "      <td>0.000000</td>\n",
       "      <td>2.068679</td>\n",
       "      <td>2.000000</td>\n",
       "      <td>0.068679</td>\n",
       "    </tr>\n",
       "    <tr>\n",
       "      <th>1</th>\n",
       "      <td>0.099379</td>\n",
       "      <td>2.313743</td>\n",
       "      <td>2.203700</td>\n",
       "      <td>0.110044</td>\n",
       "    </tr>\n",
       "    <tr>\n",
       "      <th>2</th>\n",
       "      <td>0.198758</td>\n",
       "      <td>2.540435</td>\n",
       "      <td>2.417333</td>\n",
       "      <td>0.123102</td>\n",
       "    </tr>\n",
       "    <tr>\n",
       "      <th>3</th>\n",
       "      <td>0.298137</td>\n",
       "      <td>2.778026</td>\n",
       "      <td>2.641044</td>\n",
       "      <td>0.136982</td>\n",
       "    </tr>\n",
       "    <tr>\n",
       "      <th>4</th>\n",
       "      <td>0.397516</td>\n",
       "      <td>3.026760</td>\n",
       "      <td>2.875075</td>\n",
       "      <td>0.151685</td>\n",
       "    </tr>\n",
       "    <tr>\n",
       "      <th>5</th>\n",
       "      <td>0.496894</td>\n",
       "      <td>3.286971</td>\n",
       "      <td>3.119760</td>\n",
       "      <td>0.167211</td>\n",
       "    </tr>\n",
       "    <tr>\n",
       "      <th>6</th>\n",
       "      <td>0.596273</td>\n",
       "      <td>3.559082</td>\n",
       "      <td>3.375523</td>\n",
       "      <td>0.183559</td>\n",
       "    </tr>\n",
       "    <tr>\n",
       "      <th>7</th>\n",
       "      <td>0.695652</td>\n",
       "      <td>3.843603</td>\n",
       "      <td>3.642872</td>\n",
       "      <td>0.200731</td>\n",
       "    </tr>\n",
       "    <tr>\n",
       "      <th>8</th>\n",
       "      <td>0.795031</td>\n",
       "      <td>4.141125</td>\n",
       "      <td>3.922399</td>\n",
       "      <td>0.218726</td>\n",
       "    </tr>\n",
       "    <tr>\n",
       "      <th>9</th>\n",
       "      <td>0.894410</td>\n",
       "      <td>4.452343</td>\n",
       "      <td>4.214768</td>\n",
       "      <td>0.237575</td>\n",
       "    </tr>\n",
       "    <tr>\n",
       "      <th>10</th>\n",
       "      <td>0.993789</td>\n",
       "      <td>4.540302</td>\n",
       "      <td>4.520712</td>\n",
       "      <td>0.019590</td>\n",
       "    </tr>\n",
       "  </tbody>\n",
       "</table>\n",
       "</div>"
      ],
      "text/plain": [
       "           x         u        u*         d\n",
       "0   0.000000  2.068679  2.000000  0.068679\n",
       "1   0.099379  2.313743  2.203700  0.110044\n",
       "2   0.198758  2.540435  2.417333  0.123102\n",
       "3   0.298137  2.778026  2.641044  0.136982\n",
       "4   0.397516  3.026760  2.875075  0.151685\n",
       "5   0.496894  3.286971  3.119760  0.167211\n",
       "6   0.596273  3.559082  3.375523  0.183559\n",
       "7   0.695652  3.843603  3.642872  0.200731\n",
       "8   0.795031  4.141125  3.922399  0.218726\n",
       "9   0.894410  4.452343  4.214768  0.237575\n",
       "10  0.993789  4.540302  4.520712  0.019590"
      ]
     },
     "execution_count": 132,
     "metadata": {},
     "output_type": "execute_result"
    }
   ],
   "source": [
    "\n",
    "n = L//10\n",
    "u_ann = [u_an(x, tt[-1]) for x in xx[::n]]\n",
    "diff = abs(u[-1][::n] - u_ann)\n",
    "\n",
    "df = pd.DataFrame({'x': xx[::n], 'u': u[-1][::n], 'u*': u_ann, 'd': diff})\n",
    "df"
   ]
  },
  {
   "cell_type": "code",
   "execution_count": 133,
   "metadata": {},
   "outputs": [
    {
     "data": {
      "text/plain": [
       "3.1275825618903728"
      ]
     },
     "execution_count": 133,
     "metadata": {},
     "output_type": "execute_result"
    }
   ],
   "source": [
    "u_an(0.5, 1)"
   ]
  },
  {
   "cell_type": "code",
   "execution_count": 134,
   "metadata": {},
   "outputs": [
    {
     "data": {
      "text/plain": [
       "0.2375751901652441"
      ]
     },
     "execution_count": 134,
     "metadata": {},
     "output_type": "execute_result"
    }
   ],
   "source": [
    "max(diff)"
   ]
  },
  {
   "cell_type": "code",
   "execution_count": null,
   "metadata": {},
   "outputs": [],
   "source": []
  }
 ],
 "metadata": {
  "interpreter": {
   "hash": "958b4ba616b4167876068ea87d2abe5fd1ac49bae82ce1f61d1b83892be8c5fd"
  },
  "kernelspec": {
   "display_name": "Python 3.9.7 ('base')",
   "language": "python",
   "name": "python3"
  },
  "language_info": {
   "codemirror_mode": {
    "name": "ipython",
    "version": 3
   },
   "file_extension": ".py",
   "mimetype": "text/x-python",
   "name": "python",
   "nbconvert_exporter": "python",
   "pygments_lexer": "ipython3",
   "version": "3.9.7"
  },
  "orig_nbformat": 4
 },
 "nbformat": 4,
 "nbformat_minor": 2
}
