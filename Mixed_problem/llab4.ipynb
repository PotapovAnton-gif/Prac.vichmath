{
 "cells": [
  {
   "cell_type": "markdown",
   "metadata": {},
   "source": [
    "# 14"
   ]
  },
  {
   "cell_type": "code",
   "execution_count": 24,
   "metadata": {
    "id": "Sy-24cRMzzHm"
   },
   "outputs": [],
   "source": [
    "from math import *\n",
    "import numpy as np\n",
    "import matplotlib.pyplot as plt\n",
    "import pandas as pd"
   ]
  },
  {
   "cell_type": "code",
   "execution_count": 25,
   "metadata": {
    "id": "JGkEjbiY0Ipk"
   },
   "outputs": [],
   "source": [
    "u0 = lambda x: exp(x)\n",
    "ul = lambda t: exp(-8*t) + 0.5*t**2\n",
    "\n",
    "dul = lambda t: -8*exp(-8*t) + t\n",
    "d2ul = lambda t: 64*exp(-8*t) + 1\n",
    "d3ul = lambda t: -512*exp(-8*t)\n",
    "a = lambda x: 8\n",
    "dadx = lambda x: 0\n",
    "dadt = 0\n",
    "\n",
    "u_an = lambda x, t: t**2/2 + exp(x)*exp(-8*t)"
   ]
  },
  {
   "cell_type": "code",
   "execution_count": 26,
   "metadata": {
    "id": "W053w5yy0glX"
   },
   "outputs": [],
   "source": [
    "t0, t1 = 0, 1\n",
    "x0, x1 = 0, 1\n",
    "# N = 1000   # по времени\n",
    "L = 21  # по пространству\n",
    "CFL = 0.375  # -0.25\n",
    "\n",
    "xx = np.linspace(x0, x1, L + 1)\n",
    "h = np.diff(xx)[0]\n",
    "tau = CFL * h\n",
    "N = int((t1 - t0) / tau)\n",
    "tt = np.linspace(t0, t1, N+1)\n",
    "tau = np.diff(tt)[0]"
   ]
  },
  {
   "cell_type": "code",
   "execution_count": 27,
   "metadata": {
    "id": "14-Zgw_M0lLY"
   },
   "outputs": [],
   "source": [
    "u = np.zeros([N+1, L + 1])\n",
    "# u[:, 0] = [ul(t) for t in tt]\n",
    "u[0, :] = [u0(x) for x in xx]"
   ]
  },
  {
   "cell_type": "code",
   "execution_count": 28,
   "metadata": {
    "id": "Y4zzyAfo1ab3"
   },
   "outputs": [],
   "source": [
    "for n in range(N):\n",
    "    for l in range(L+1):\n",
    "        if l>=3:\n",
    "            a1 = 4*tau/(3*h)*(2*u[n][l-3] - 9*u[n][l-2] + 18*u[n][l-1]-11*u[n][l])\n",
    "            a2 = 32*tau**2/h**2*(-u[n][l-3] + 4*u[n][l-2] -5*u[n][l-1] + 2*u[n][l])\n",
    "            a3 = -256*tau**3/(3*h**3)*(-u[n][l-3] + 3*u[n][l-2] - 3*u[n][l-1] + u[n][l]) + tau*tt[n] + 0.5*tau**2\n",
    "            u[n+1][l] = u[n][l] + a1 + a2 + a3\n",
    "        elif l == 0:\n",
    "            u[n+1][l] = ul(tt[n+1])\n",
    "        elif l == 2:   \n",
    "            t = tt[n+1]\n",
    "            u0l = 1/8*(-dul(t) + t)\n",
    "            u0ll = 1/64*(d2ul(t) - 1)\n",
    "            u0lll= -1/8**3 * d3ul(t)\n",
    "            u[n+1][l] = ul(t) + u0l*2*h + u0ll*2*h*h + u0lll*4/3*h**3\n",
    "        elif l == 1:\n",
    "            t = tt[n+1]\n",
    "            u0l = 1/a(0)*(-dul(t) + t)\n",
    "            u0ll = 1/64*(d2ul(t) - 1)\n",
    "            u0lll= -1/8**3 * d3ul(t)\n",
    "            u[n+1][l] = ul(t) + u0l*h + u0ll*h*h/2 + u0lll*h**3 / 6"
   ]
  },
  {
   "cell_type": "code",
   "execution_count": 29,
   "metadata": {
    "colab": {
     "base_uri": "https://localhost:8080/",
     "height": 282
    },
    "id": "h7qKKX2H3_hD",
    "outputId": "33e06f72-02f4-4ff1-dfce-40b85bf3601a",
    "scrolled": false
   },
   "outputs": [
    {
     "data": {
      "text/plain": [
       "[<matplotlib.lines.Line2D at 0x7f8320c0bca0>]"
      ]
     },
     "execution_count": 29,
     "metadata": {},
     "output_type": "execute_result"
    },
    {
     "data": {
      "image/png": "[encoded data removed]",
      "text/plain": [
       "<Figure size 432x288 with 1 Axes>"
      ]
     },
     "metadata": {
      "needs_background": "light"
     },
     "output_type": "display_data"
    }
   ],
   "source": [
    "plt.plot(xx, u[-1])"
   ]
  },
  {
   "cell_type": "code",
   "execution_count": 30,
   "metadata": {
    "colab": {
     "base_uri": "https://localhost:8080/",
     "height": 394
    },
    "id": "ZrztkIkzLMsm",
    "outputId": "2b4cc40a-ebc5-4542-ad8f-d6b51e9d33d4",
    "scrolled": true
   },
   "outputs": [
    {
     "data": {
      "text/html": [
       "<div>\n",
       "<style scoped>\n",
       "    .dataframe tbody tr th:only-of-type {\n",
       "        vertical-align: middle;\n",
       "    }\n",
       "\n",
       "    .dataframe tbody tr th {\n",
       "        vertical-align: top;\n",
       "    }\n",
       "\n",
       "    .dataframe thead th {\n",
       "        text-align: right;\n",
       "    }\n",
       "</style>\n",
       "<table border=\"1\" class=\"dataframe\">\n",
       "  <thead>\n",
       "    <tr style=\"text-align: right;\">\n",
       "      <th></th>\n",
       "      <th>x</th>\n",
       "      <th>u</th>\n",
       "      <th>u*</th>\n",
       "      <th>d</th>\n",
       "    </tr>\n",
       "  </thead>\n",
       "  <tbody>\n",
       "    <tr>\n",
       "      <th>0</th>\n",
       "      <td>0.000000</td>\n",
       "      <td>0.500335</td>\n",
       "      <td>0.500335</td>\n",
       "      <td>0.000000e+00</td>\n",
       "    </tr>\n",
       "    <tr>\n",
       "      <th>1</th>\n",
       "      <td>0.095238</td>\n",
       "      <td>0.500369</td>\n",
       "      <td>0.500369</td>\n",
       "      <td>1.172197e-09</td>\n",
       "    </tr>\n",
       "    <tr>\n",
       "      <th>2</th>\n",
       "      <td>0.190476</td>\n",
       "      <td>0.500406</td>\n",
       "      <td>0.500406</td>\n",
       "      <td>8.370460e-11</td>\n",
       "    </tr>\n",
       "    <tr>\n",
       "      <th>3</th>\n",
       "      <td>0.285714</td>\n",
       "      <td>0.500446</td>\n",
       "      <td>0.500446</td>\n",
       "      <td>3.330669e-16</td>\n",
       "    </tr>\n",
       "    <tr>\n",
       "      <th>4</th>\n",
       "      <td>0.380952</td>\n",
       "      <td>0.500491</td>\n",
       "      <td>0.500491</td>\n",
       "      <td>1.559858e-09</td>\n",
       "    </tr>\n",
       "    <tr>\n",
       "      <th>5</th>\n",
       "      <td>0.476190</td>\n",
       "      <td>0.500540</td>\n",
       "      <td>0.500540</td>\n",
       "      <td>1.113868e-10</td>\n",
       "    </tr>\n",
       "    <tr>\n",
       "      <th>6</th>\n",
       "      <td>0.571429</td>\n",
       "      <td>0.500594</td>\n",
       "      <td>0.500594</td>\n",
       "      <td>8.881784e-16</td>\n",
       "    </tr>\n",
       "    <tr>\n",
       "      <th>7</th>\n",
       "      <td>0.666667</td>\n",
       "      <td>0.500653</td>\n",
       "      <td>0.500653</td>\n",
       "      <td>2.075720e-09</td>\n",
       "    </tr>\n",
       "    <tr>\n",
       "      <th>8</th>\n",
       "      <td>0.761905</td>\n",
       "      <td>0.500719</td>\n",
       "      <td>0.500719</td>\n",
       "      <td>1.482228e-10</td>\n",
       "    </tr>\n",
       "    <tr>\n",
       "      <th>9</th>\n",
       "      <td>0.857143</td>\n",
       "      <td>0.500790</td>\n",
       "      <td>0.500790</td>\n",
       "      <td>2.442491e-15</td>\n",
       "    </tr>\n",
       "    <tr>\n",
       "      <th>10</th>\n",
       "      <td>0.952381</td>\n",
       "      <td>0.500869</td>\n",
       "      <td>0.500869</td>\n",
       "      <td>2.762191e-09</td>\n",
       "    </tr>\n",
       "  </tbody>\n",
       "</table>\n",
       "</div>"
      ],
      "text/plain": [
       "           x         u        u*             d\n",
       "0   0.000000  0.500335  0.500335  0.000000e+00\n",
       "1   0.095238  0.500369  0.500369  1.172197e-09\n",
       "2   0.190476  0.500406  0.500406  8.370460e-11\n",
       "3   0.285714  0.500446  0.500446  3.330669e-16\n",
       "4   0.380952  0.500491  0.500491  1.559858e-09\n",
       "5   0.476190  0.500540  0.500540  1.113868e-10\n",
       "6   0.571429  0.500594  0.500594  8.881784e-16\n",
       "7   0.666667  0.500653  0.500653  2.075720e-09\n",
       "8   0.761905  0.500719  0.500719  1.482228e-10\n",
       "9   0.857143  0.500790  0.500790  2.442491e-15\n",
       "10  0.952381  0.500869  0.500869  2.762191e-09"
      ]
     },
     "execution_count": 30,
     "metadata": {},
     "output_type": "execute_result"
    }
   ],
   "source": [
    "n = L//10\n",
    "u_ann = [u_an(x, tt[-1]) for x in xx[::n]]\n",
    "diff = abs(u[-1][::n] - u_ann)\n",
    "\n",
    "df = pd.DataFrame({'x': xx[::n], 'u': u[-1][::n], 'u*': u_ann, 'd': diff})\n",
    "df"
   ]
  },
  {
   "cell_type": "code",
   "execution_count": 31,
   "metadata": {
    "scrolled": true
   },
   "outputs": [
    {
     "data": {
      "text/plain": [
       "0.5005530843701478"
      ]
     },
     "execution_count": 31,
     "metadata": {},
     "output_type": "execute_result"
    }
   ],
   "source": [
    "u_an(0.5, 1)"
   ]
  },
  {
   "cell_type": "code",
   "execution_count": 32,
   "metadata": {},
   "outputs": [
    {
     "data": {
      "text/plain": [
       "2.762190809413312e-09"
      ]
     },
     "execution_count": 32,
     "metadata": {},
     "output_type": "execute_result"
    }
   ],
   "source": [
    "max(diff)"
   ]
  },
  {
   "cell_type": "code",
   "execution_count": 33,
   "metadata": {},
   "outputs": [
    {
     "data": {
      "text/plain": [
       "15.45086705202312"
      ]
     },
     "execution_count": 33,
     "metadata": {},
     "output_type": "execute_result"
    }
   ],
   "source": [
    "8.90287843446913e-13 / 5.762057497804562e-14"
   ]
  },
  {
   "cell_type": "code",
   "execution_count": 34,
   "metadata": {},
   "outputs": [
    {
     "ename": "SyntaxError",
     "evalue": "invalid syntax (1868760064.py, line 1)",
     "output_type": "error",
     "traceback": [
      "\u001b[0;36m  File \u001b[0;32m\"/tmp/ipykernel_22597/1868760064.py\"\u001b[0;36m, line \u001b[0;32m1\u001b[0m\n\u001b[0;31m    14.7 15.35 15.45\u001b[0m\n\u001b[0m         ^\u001b[0m\n\u001b[0;31mSyntaxError\u001b[0m\u001b[0;31m:\u001b[0m invalid syntax\n"
     ]
    }
   ],
   "source": [
    "14.7 15.35 15.45"
   ]
  },
  {
   "cell_type": "code",
   "execution_count": null,
   "metadata": {},
   "outputs": [
    {
     "data": {
      "text/plain": [
       "14.717719691909874"
      ]
     },
     "execution_count": 65,
     "metadata": {},
     "output_type": "execute_result"
    }
   ],
   "source": [
    "4.0653150068514776e-08/2.762190809413312e-09"
   ]
  },
  {
   "cell_type": "code",
   "execution_count": null,
   "metadata": {},
   "outputs": [],
   "source": []
  }
 ],
 "metadata": {
  "colab": {
   "collapsed_sections": [],
   "name": "llab4.ipynb",
   "provenance": []
  },
  "interpreter": {
   "hash": "958b4ba616b4167876068ea87d2abe5fd1ac49bae82ce1f61d1b83892be8c5fd"
  },
  "kernelspec": {
   "display_name": "Python 3.9.7 ('base')",
   "language": "python",
   "name": "python3"
  },
  "language_info": {
   "codemirror_mode": {
    "name": "ipython",
    "version": 3
   },
   "file_extension": ".py",
   "mimetype": "text/x-python",
   "name": "python",
   "nbconvert_exporter": "python",
   "pygments_lexer": "ipython3",
   "version": "3.9.7"
  }
 },
 "nbformat": 4,
 "nbformat_minor": 1
}
