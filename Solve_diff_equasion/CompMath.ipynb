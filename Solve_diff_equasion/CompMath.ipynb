{
 "cells": [
  {
   "cell_type": "markdown",
   "id": "b37f56f8",
   "metadata": {},
   "source": [
    "# Задание 1"
   ]
  },
  {
   "cell_type": "code",
   "execution_count": 41,
   "id": "a037be9d",
   "metadata": {},
   "outputs": [
    {
     "data": {
      "text/plain": [
       "array([0.31415927, 0.31415927, 0.31415927, 0.31415927, 0.31415927,\n",
       "       0.31415927, 0.31415927, 0.31415927, 0.31415927, 0.31415927,\n",
       "       0.31415927, 0.31415927, 0.31415927, 0.31415927, 0.31415927,\n",
       "       0.31415927, 0.31415927, 0.31415927, 0.31415927, 0.31415927,\n",
       "       0.31415927, 0.31415927, 0.31415927, 0.31415927, 0.31415927,\n",
       "       0.31415927, 0.31415927, 0.31415927, 0.31415927, 0.31415927,\n",
       "       0.31415927, 0.31415927, 0.31415927, 0.31415927, 0.31415927,\n",
       "       0.31415927, 0.31415927, 0.31415927, 0.31415927, 0.31415927,\n",
       "       0.31415927, 0.31415927, 0.31415927, 0.31415927, 0.31415927,\n",
       "       0.31415927, 0.31415927, 0.31415927, 0.31415927, 0.31415927,\n",
       "       0.31415927, 0.31415927, 0.31415927, 0.31415927, 0.31415927,\n",
       "       0.31415927, 0.31415927, 0.31415927, 0.31415927, 0.31415927,\n",
       "       0.31415927, 0.31415927, 0.31415927, 0.31415927, 0.31415927,\n",
       "       0.31415927, 0.31415927, 0.31415927, 0.31415927, 0.31415927,\n",
       "       0.31415927, 0.31415927, 0.31415927, 0.31415927, 0.31415927,\n",
       "       0.31415927, 0.31415927, 0.31415927, 0.31415927, 0.31415927,\n",
       "       0.31415927, 0.31415927, 0.31415927, 0.31415927, 0.31415927,\n",
       "       0.31415927, 0.31415927, 0.31415927, 0.31415927, 0.31415927,\n",
       "       0.31415927, 0.31415927, 0.31415927, 0.31415927, 0.31415927,\n",
       "       0.31415927, 0.31415927, 0.31415927, 0.31415927, 0.31415927,\n",
       "       0.31415927])"
      ]
     },
     "execution_count": 41,
     "metadata": {},
     "output_type": "execute_result"
    }
   ],
   "source": [
    "import math\n",
    "import numpy as np\n",
    "\n",
    "N = 100 #N - любое\n",
    "y = []\n",
    "y.append(np.pi/10 + 10**(-17))\n",
    "y.append((np.pi)/10)\n",
    "a = 1\n",
    "\n",
    "while a < N:\n",
    "    h = np.pi - 5 * y[a] - 4 * y[a-1]\n",
    "    a += 1\n",
    "    y.append(h)\n",
    "y = np.array(y)\n",
    "y #вывод первого и последнего элементов массива"
   ]
  },
  {
   "cell_type": "markdown",
   "id": "690c9d8b",
   "metadata": {},
   "source": [
    "# Задание 2 "
   ]
  },
  {
   "cell_type": "code",
   "execution_count": 18,
   "id": "7168874a",
   "metadata": {},
   "outputs": [],
   "source": [
    "import numpy as np\n",
    "import matplotlib.pyplot as plt\n",
    "from math import sqrt"
   ]
  },
  {
   "cell_type": "markdown",
   "id": "43cc573b",
   "metadata": {},
   "source": [
    "начальные значения"
   ]
  },
  {
   "cell_type": "code",
   "execution_count": 19,
   "id": "e88e55a3",
   "metadata": {},
   "outputs": [],
   "source": [
    "y0 = 5/3\n",
    "p0 = 7.92 * (10 ** (-3))\n",
    "P0 = 3.04 * (10**9)\n",
    "U0 = 0\n",
    "\n",
    "y3 = 5/3\n",
    "p3 = 11.37\n",
    "P3 = 10 ** 6\n",
    "U3 = 5 * (10**4)\n"
   ]
  },
  {
   "cell_type": "markdown",
   "id": "8c3b1850",
   "metadata": {},
   "source": [
    "переобозначения"
   ]
  },
  {
   "cell_type": "code",
   "execution_count": 20,
   "id": "983737ba",
   "metadata": {},
   "outputs": [],
   "source": [
    "X = P3/P0\n",
    "alpha0 = (y0 + 1)/(y0 - 1)\n",
    "alpha3 = (y3 + 1)/(y3 - 1)\n",
    "C0 = sqrt(y0 * (P0/p0))\n",
    "C3 = sqrt(y3 * (P3/p3))\n",
    "e0 = (2 * C0**2)/(y0 * (y0 - 1) * (U3 - U0))\n",
    "e3 = (2 * C3**2)/(y3 * (y3 - 1) * (U3 - U0))"
   ]
  },
  {
   "cell_type": "markdown",
   "id": "363d8b5e",
   "metadata": {},
   "source": [
    "находим коэффициенты"
   ]
  },
  {
   "cell_type": "code",
   "execution_count": 21,
   "id": "a3a6d239",
   "metadata": {},
   "outputs": [],
   "source": [
    "a0 = (alpha0 * e3 - alpha3 * X * e0)**2\n",
    "a1 = 2 * ((alpha0 * e3 - alpha3 * X * e0)*(e3 * (1 - 2 * alpha0 * X) - e0*X*(X-2*alpha3))\n",
    "          - alpha0 * alpha3 * X * (alpha0 * e3 + alpha3 * X * e0))\n",
    "a2 = e3**2 * (6 * alpha0**2 * X**2 - 8 * alpha0 * X + 1) - 2 * e0 * e3 * X * (\n",
    "    alpha0 * alpha3 * (X**2 + 4 * X + 1) - 2 * (X + 1) * (alpha3 + alpha0 * X)\n",
    "    + X) + e0**2 * X**2 * (6 * alpha3**2 - 8 * alpha3 * X + X**2) + alpha0**2 * alpha3**2 * X**2 - (\n",
    "    2 * alpha0 * X * e3 * (alpha0 * X - 2 * alpha0 * alpha3 * X + 2 * alpha3)\n",
    "    + 2 * alpha3 * X**2 * e0 * (alpha3 + 2 * alpha0 * X - 2 * alpha0 * alpha3))\n",
    "a3 = -2 * X * (2 * e3**2 * (alpha0**2 * X**2 - 3 * alpha0 * X + 1) + e0 * e3 * ((alpha3 + alpha0 * X)\n",
    "    * (X**2 + 4 * X + 1) - 2 * alpha0 * alpha3 * X * (X + 1) - 2 * X * (X + 1))\n",
    "    + 2 * e0**2 * X * (X**2 - 3 * alpha3 * X + alpha3**2) - alpha0 * alpha3 * X * (alpha0 * X + alpha3)\n",
    "    + e3 * (alpha0**2 * alpha3 * X**2 - 2 * X * (2 * alpha0 * alpha3 + alpha0**2 * X) + (2 * alpha0 * X + alpha3))\n",
    "    + e0 * X * (alpha0 * alpha3**2 - 2 * alpha3 * (alpha3 + 2 * alpha0 * X) + 2 * alpha3 * X + alpha0 * X**2))\n",
    "a4 = X**2 * (e3**2 * (alpha0**2 * X**2 - 8 * alpha0 * X + 6)\n",
    "    - 2 * e0 * e3 * (alpha0 * alpha3 * X - 2 * (X + 1) * (alpha3 + alpha0 * X) + X**2 + 4 * X + 1)\n",
    "    + e0**2 * (alpha3**2 - 8 * alpha3 * X + 6 * X**2) + (alpha3**2 + 4 * alpha0 * alpha3 * X + alpha0**2 * X**2)\n",
    "    - 2 * e3 * ((alpha0**2 * X + 2 * alpha0 * alpha3) * X - 2 * (2 * alpha0 * X + alpha3) + 1)\n",
    "    - 2 * e0 * (alpha3 * (2 * alpha0 * X + alpha3) - 2 * X * (2 * alpha3 + alpha0 * X) + X**2))\n",
    "a5 = 2 * X**3 * (e3**2 * (alpha0 * X - 2) - e0 * e3 * (alpha0 * X - 2 + alpha3 - 2 * X)\n",
    "    + e0**2 * (alpha3 - 2 * X) + (alpha3 + alpha0 * X)\n",
    "    - e3 * (2 * alpha0 * X + alpha3 - 2) - e0 * (2 * alpha3 + alpha0 * X - 2 * X))\n",
    "a6 = X**4 * ((e3 - e0)**2 + 1 - 2 * (e3 + e0))\n"
   ]
  },
  {
   "cell_type": "markdown",
   "id": "977ce1d9",
   "metadata": {},
   "source": [
    "полином"
   ]
  },
  {
   "cell_type": "code",
   "execution_count": 22,
   "id": "1e1248e5",
   "metadata": {},
   "outputs": [],
   "source": [
    "def pol(Y):\n",
    "    return a0 * Y**6 + a1 * Y**5 + a2 * Y**4 + a3 * Y**3 + a4 * Y**2 + a5 * Y + a6"
   ]
  },
  {
   "cell_type": "code",
   "execution_count": 23,
   "id": "0ac69f60",
   "metadata": {},
   "outputs": [],
   "source": [
    "# Локализация корней\n",
    "A = max(abs(a1), abs(a2), abs(a3), abs(a4), abs(a5), abs(a6))\n",
    "B = max(abs(a0), abs(a1), abs(a2), abs(a3), abs(a4), abs(a5))\n",
    "\n",
    "\n",
    "start = abs(a6)/(abs(a6) + B)\n",
    "end = 1 + A/abs(a0) if a0 != 0 else 1 + A/abs(a1)\n",
    "length = end - start\n",
    "\n",
    "n = 1500\n",
    "value = [pol(start + i * length / n) for i in range(n + 1)]\n",
    "roots_distance = []\n",
    "for i in range(n):\n",
    "    if value[i] * value[i + 1] < 0:\n",
    "        x1 = start + i * length / n\n",
    "        x2 = start + (i + 1) * length / n\n",
    "        roots_distance.append((x1, x2))\n"
   ]
  },
  {
   "cell_type": "code",
   "execution_count": 24,
   "id": "bc57a4e4",
   "metadata": {},
   "outputs": [
    {
     "data": {
      "text/plain": [
       "[0.9708177630981016, 0.971715040925049]"
      ]
     },
     "execution_count": 24,
     "metadata": {},
     "output_type": "execute_result"
    }
   ],
   "source": [
    "# Бинарный поиск корней с заданной точностью\n",
    "epsilon = 10**(-8)\n",
    "roots = []\n",
    "for i in range(len(roots_distance)):\n",
    "    a = roots_distance[i][0]\n",
    "    b = roots_distance[i][1]\n",
    "    while b - a > epsilon:\n",
    "        c = (a + b) / 2\n",
    "        if pol(c) * pol(a) < 0:\n",
    "            b = c\n",
    "        else:\n",
    "            a = c\n",
    "    roots.append((a + b) / 2)\n",
    "roots"
   ]
  },
  {
   "cell_type": "code",
   "execution_count": 25,
   "id": "1e159cfb",
   "metadata": {},
   "outputs": [
    {
     "name": "stdout",
     "output_type": "stream",
     "text": [
      "D0: [-446926.49521435756, -435352.0961067575]\n",
      "D3: [39594.63635834401, 39636.86959928436]\n"
     ]
    }
   ],
   "source": [
    "# Итоговые преобразования\n",
    "U1 = [(((2 * C3**2 * (i - X)**2)/(y3 * (y3-1) * X * (X + alpha3 * i))\n",
    "      - (2 * C0**2 * (i-1)**2)/(y0 *(y0 - 1)*(1 + alpha0 * i))) * (1/(U0 - U3)) + U3 + U0)/2 for i in roots]\n",
    "\n",
    "D0 = [U0 - (P0 - i * P0)/((U1[n] - U0) * p0) for n, i in enumerate(roots)]\n",
    "D3 = [U3 - (i * P0 - P3)/((U3 - U1[n]) * p3) for n, i in enumerate(roots)]\n",
    "\n",
    "print(f'D0: {D0}\\nD3: {D3}')"
   ]
  },
  {
   "cell_type": "markdown",
   "id": "89c2e21a",
   "metadata": {},
   "source": [
    "# Задание 3"
   ]
  },
  {
   "cell_type": "code",
   "execution_count": 4,
   "id": "febdac7f",
   "metadata": {},
   "outputs": [
    {
     "data": {
      "text/plain": [
       "[<matplotlib.lines.Line2D at 0x7f497869a8b0>,\n",
       " <matplotlib.lines.Line2D at 0x7f497869a850>]"
      ]
     },
     "execution_count": 4,
     "metadata": {},
     "output_type": "execute_result"
    },
    {
     "data": {
      "image/png": "[encoded data removed]",
      "text/plain": [
       "<Figure size 432x288 with 1 Axes>"
      ]
     },
     "metadata": {
      "needs_background": "light"
     },
     "output_type": "display_data"
    }
   ],
   "source": [
    "import matplotlib.pyplot as plt\n",
    "import numpy as np\n",
    "from sympy import *\n",
    "\n",
    "x = np.linspace(-0.7, 0.7)\n",
    "y = np.arctan(1/(x+10**(-8)) - np.pi/2 + 10**(-8))\n",
    "y1 = [0]*50\n",
    "\n",
    "plt.plot(x, y, x, y1)"
   ]
  },
  {
   "cell_type": "markdown",
   "id": "b5dfe366",
   "metadata": {},
   "source": [
    "функция"
   ]
  },
  {
   "cell_type": "code",
   "execution_count": 5,
   "id": "0da31333",
   "metadata": {},
   "outputs": [],
   "source": [
    "def newton(x_1, x_0, f, f_):\n",
    "    i = 0\n",
    "    print(f\"x0 = {x_0}\")\n",
    "    while abs(x_1.subs(x, x_0) - x_0) > e:\n",
    "        i += 1\n",
    "        x_0 = x_1.subs(x, x_0)\n",
    "        x_1 = x_0 - f / f_\n",
    "    return x_0"
   ]
  },
  {
   "cell_type": "code",
   "execution_count": 16,
   "id": "79031e85",
   "metadata": {},
   "outputs": [
    {
     "name": "stdout",
     "output_type": "stream",
     "text": [
      "x0 = 0.6\n",
      "0.636619766370902\n",
      "7.75156902235207\n"
     ]
    }
   ],
   "source": [
    "e = 10**(-6)\n",
    "x = Symbol(\"x\")\n",
    "x_0 = 0.6\n",
    "f = atan(1./(x+10**(-8)) - pi/2. + 10**(-8))\n",
    "f_ = f.diff(x)\n",
    "f2 = f_.diff(x)\n",
    "x_1 = x_0 - f / f_\n",
    "x0 = newton(x_1, x_0, f, f_)\n",
    "print(x0.evalf())\n",
    "print(f2.subs(x, x0).evalf())"
   ]
  },
  {
   "cell_type": "markdown",
   "id": "ddbbd6fd",
   "metadata": {},
   "source": [
    "# Задание 4"
   ]
  },
  {
   "cell_type": "markdown",
   "id": "8263e21f",
   "metadata": {},
   "source": [
    "алгебраический многочлен"
   ]
  },
  {
   "cell_type": "code",
   "execution_count": 23,
   "id": "d968f161",
   "metadata": {},
   "outputs": [],
   "source": [
    "import numpy as np\n",
    "import pandas as ps\n",
    "from scipy import linalg\n",
    "x = np.array([1.22173, 1.57080, 1.91986, 2.26893, 2.61799])\n",
    "f = np.array([0.01849, 0.09802, 0.40638, 1.38085, 4.01768])"
   ]
  },
  {
   "cell_type": "code",
   "execution_count": 33,
   "id": "75c0096c",
   "metadata": {},
   "outputs": [
    {
     "data": {
      "text/html": [
       "<div>\n",
       "<style scoped>\n",
       "    .dataframe tbody tr th:only-of-type {\n",
       "        vertical-align: middle;\n",
       "    }\n",
       "\n",
       "    .dataframe tbody tr th {\n",
       "        vertical-align: top;\n",
       "    }\n",
       "\n",
       "    .dataframe thead th {\n",
       "        text-align: right;\n",
       "    }\n",
       "</style>\n",
       "<table border=\"1\" class=\"dataframe\">\n",
       "  <thead>\n",
       "    <tr style=\"text-align: right;\">\n",
       "      <th></th>\n",
       "      <th>a0</th>\n",
       "      <th>a1</th>\n",
       "      <th>a2</th>\n",
       "      <th>a3</th>\n",
       "      <th>a4</th>\n",
       "    </tr>\n",
       "  </thead>\n",
       "  <tbody>\n",
       "    <tr>\n",
       "      <th></th>\n",
       "      <td>8.345802</td>\n",
       "      <td>-21.619217</td>\n",
       "      <td>21.063982</td>\n",
       "      <td>-9.24046</td>\n",
       "      <td>1.569027</td>\n",
       "    </tr>\n",
       "  </tbody>\n",
       "</table>\n",
       "</div>"
      ],
      "text/plain": [
       "         a0         a1         a2       a3        a4\n",
       "   8.345802 -21.619217  21.063982 -9.24046  1.569027"
      ]
     },
     "execution_count": 33,
     "metadata": {},
     "output_type": "execute_result"
    }
   ],
   "source": [
    "#возвращает коэффициенты алгебраического многочлена\n",
    "def alg_coef(x,f):\n",
    "    length = len(x)\n",
    "    \n",
    "#поиск столбца коэффициентов а[i] многочлена\n",
    "    array = np.zeros((length,length))\n",
    "    for i in range(0,length):\n",
    "        for j in range(0,length):\n",
    "            array[i][j] = x[i]**j\n",
    "    a = linalg.solve(array,f)\n",
    "    return a\n",
    "\n",
    "#таблица коэффициентов алгебраического многочлена(надо редактировать при смене размерности x,f)\n",
    "table1 = ps.DataFrame(data=alg_coef(x,f).reshape(1,5), index=np.arange(0,1), columns=np.arange(0,5))\n",
    "table1.columns = ['a0','a1','a2','a3','a4']\n",
    "table1.index = [' ']\n",
    "table1"
   ]
  },
  {
   "cell_type": "code",
   "execution_count": 53,
   "id": "769bf9f5",
   "metadata": {},
   "outputs": [],
   "source": [
    "#возвращает значения алгебраического полинома в х0\n",
    "def alg_pol(x,f,x0):\n",
    "    length = len(x)\n",
    "    \n",
    "#матрица степеней х\n",
    "    xx = np.zeros(length)\n",
    "    for i in range(0,length):\n",
    "        xx[i] = x0**i\n",
    "\n",
    "    return alg_coef(x,f).dot(xx)"
   ]
  },
  {
   "cell_type": "code",
   "execution_count": 87,
   "id": "afc30fca",
   "metadata": {},
   "outputs": [
    {
     "data": {
      "text/plain": [
       "0.5440465156825027"
      ]
     },
     "execution_count": 87,
     "metadata": {},
     "output_type": "execute_result"
    }
   ],
   "source": [
    "alg_pol(x,f,2)"
   ]
  },
  {
   "cell_type": "markdown",
   "id": "3a311945",
   "metadata": {},
   "source": [
    "сплайн"
   ]
  },
  {
   "cell_type": "code",
   "execution_count": 73,
   "id": "16180756",
   "metadata": {},
   "outputs": [],
   "source": [
    "#подсчет производной алг. полинома в точке\n",
    "def derivative_alg_pol(x,f,x0):\n",
    "    length = len(x)\n",
    "\n",
    "#матрица степеней х производной\n",
    "    der = np.zeros(length)\n",
    "    for i in range(1,length):\n",
    "        der[i] = i * x0**(i-1)\n",
    "    \n",
    "    return alg_coef(x,f).dot(der)"
   ]
  },
  {
   "cell_type": "code",
   "execution_count": 74,
   "id": "da489fbe",
   "metadata": {},
   "outputs": [
    {
     "data": {
      "text/html": [
       "<div>\n",
       "<style scoped>\n",
       "    .dataframe tbody tr th:only-of-type {\n",
       "        vertical-align: middle;\n",
       "    }\n",
       "\n",
       "    .dataframe tbody tr th {\n",
       "        vertical-align: top;\n",
       "    }\n",
       "\n",
       "    .dataframe thead th {\n",
       "        text-align: right;\n",
       "    }\n",
       "</style>\n",
       "<table border=\"1\" class=\"dataframe\">\n",
       "  <thead>\n",
       "    <tr style=\"text-align: right;\">\n",
       "      <th></th>\n",
       "      <th>a0</th>\n",
       "      <th>a1</th>\n",
       "      <th>a2</th>\n",
       "      <th>a3</th>\n",
       "    </tr>\n",
       "  </thead>\n",
       "  <tbody>\n",
       "    <tr>\n",
       "      <th>S1</th>\n",
       "      <td>2.567201</td>\n",
       "      <td>-4.801990</td>\n",
       "      <td>2.806140</td>\n",
       "      <td>-0.477350</td>\n",
       "    </tr>\n",
       "    <tr>\n",
       "      <th>S2</th>\n",
       "      <td>-5.923782</td>\n",
       "      <td>11.414574</td>\n",
       "      <td>-7.517632</td>\n",
       "      <td>1.713419</td>\n",
       "    </tr>\n",
       "    <tr>\n",
       "      <th>S3</th>\n",
       "      <td>-21.426453</td>\n",
       "      <td>35.639242</td>\n",
       "      <td>-20.135556</td>\n",
       "      <td>3.904189</td>\n",
       "    </tr>\n",
       "    <tr>\n",
       "      <th>S4</th>\n",
       "      <td>-47.015790</td>\n",
       "      <td>69.473723</td>\n",
       "      <td>-35.047653</td>\n",
       "      <td>6.094958</td>\n",
       "    </tr>\n",
       "  </tbody>\n",
       "</table>\n",
       "</div>"
      ],
      "text/plain": [
       "           a0         a1         a2        a3\n",
       "S1   2.567201  -4.801990   2.806140 -0.477350\n",
       "S2  -5.923782  11.414574  -7.517632  1.713419\n",
       "S3 -21.426453  35.639242 -20.135556  3.904189\n",
       "S4 -47.015790  69.473723 -35.047653  6.094958"
      ]
     },
     "execution_count": 74,
     "metadata": {},
     "output_type": "execute_result"
    }
   ],
   "source": [
    "#возвращает коэффициенты i-го сплайна\n",
    "def spline_coef(i,x,f):\n",
    "    d = derivative_alg_pol(x,f,x[i])\n",
    "    dd = derivative_alg_pol(x,f,x[i+1])\n",
    "    \n",
    "    a_s = np.zeros(4)\n",
    "    a_s[0] = (-dd * x[i]**2 * x[i+1] * (x[i+1] - x[i]) + f[i+1] * x[i]**2 * (3*x[i+1] - x[i]))/(x[i+1] - x[i])**3  +  (-d * x[i+1]**2 * x[i] * (x[i+1] - x[i]) + f[i] * x[i+1]**2 * (x[i+1] - 3 * x[i]))/(x[i+1] - x[i])**3\n",
    "    a_s[1] = (dd * x[i] * (2 * x[i+1] + x[i]) * (x[i+1] - x[i]) - 6 * (f[i+1] - f[i]) * x[i] * x[i+1])/(x[i+1] - x[i])**3  +  (d * x[i+1] * (x[i+1] + 2 * x[i]) * (x[i+1] - x[i]))/(x[i+1] - x[i])**3\n",
    "    a_s[2] = (-dd * (2 *x[i] + x[i+1]) * (x[i+1] - x[i]) + 3 * (f[i+1] - f[i]) * (x[i] + x[i+1]))/(x[i+1] - x[i])**3  -  (d * (x[i] + 2 * x[i+1]) * (x[i+1] - x[i]))/(x[i+1] - x[i])**3\n",
    "    a_s[3] = (dd * (x[i+1] - x[i]) - 2 * (f[i+1] - f[i]) + d * (x[i+1] - x[i]))/(x[i+1] - x[i])**3\n",
    "    return a_s\n",
    "\n",
    "#таблица коэффициентов i-го сплайна\n",
    "spline_coef_tab = np.zeros((4,4))\n",
    "for i in range(0,len(f)-1):\n",
    "    spline_coef_tab[i] = spline_coef(i,x,f).reshape(1,4)\n",
    "table = ps.DataFrame(data=spline_coef_tab, index=np.arange(0,4), columns=np.arange(0,4))\n",
    "table.columns = ['a0','a1','a2','a3']\n",
    "table.index = ['S1','S2','S3','S4']\n",
    "table"
   ]
  },
  {
   "cell_type": "code",
   "execution_count": 75,
   "id": "45b22f74",
   "metadata": {},
   "outputs": [],
   "source": [
    "#значение i-го кубического сплайна S3i в х0\n",
    "def spline(i,x,f,x0):\n",
    "    \n",
    "#матрица степеней х сплайна 3 степени    \n",
    "    xx = np.zeros(4)\n",
    "    for j in range(0,4):\n",
    "        xx[j] = x0**j\n",
    "        \n",
    "    return spline_coef(i,x,f).dot(xx)"
   ]
  },
  {
   "cell_type": "code",
   "execution_count": 76,
   "id": "0020bdbb",
   "metadata": {},
   "outputs": [],
   "source": [
    "#выдает значение функции в точке - интерполяция\n",
    "def spline_pol(x,f,x0):\n",
    "    length = len(x)\n",
    "    answer = 0\n",
    "    parametr = 0\n",
    "        \n",
    "    while parametr < length:\n",
    "        \n",
    "        if (x[parametr] <= x0) & (x0 <= x[parametr+1]) :\n",
    "            answer = spline(parametr,x,f,x0)\n",
    "            parametr = 11\n",
    "        else:\n",
    "            parametr += 1\n",
    "            \n",
    "    return answer"
   ]
  },
  {
   "cell_type": "code",
   "execution_count": 77,
   "id": "d3834ed4",
   "metadata": {},
   "outputs": [],
   "source": [
    "def qwe(x0):\n",
    "    tab = np.array([alg_pol(x,f,x0),spline_pol(x,f,x0)])\n",
    "    table = ps.DataFrame(data=tab.reshape(1,2), index=np.arange(0,1), columns=np.arange(0,2))\n",
    "    table.columns = ['alg', 'spline']\n",
    "    table.index = [' ']\n",
    "    return table"
   ]
  },
  {
   "cell_type": "code",
   "execution_count": 88,
   "id": "88850ad8",
   "metadata": {},
   "outputs": [
    {
     "data": {
      "text/html": [
       "<div>\n",
       "<style scoped>\n",
       "    .dataframe tbody tr th:only-of-type {\n",
       "        vertical-align: middle;\n",
       "    }\n",
       "\n",
       "    .dataframe tbody tr th {\n",
       "        vertical-align: top;\n",
       "    }\n",
       "\n",
       "    .dataframe thead th {\n",
       "        text-align: right;\n",
       "    }\n",
       "</style>\n",
       "<table border=\"1\" class=\"dataframe\">\n",
       "  <thead>\n",
       "    <tr style=\"text-align: right;\">\n",
       "      <th></th>\n",
       "      <th>alg</th>\n",
       "      <th>spline</th>\n",
       "    </tr>\n",
       "  </thead>\n",
       "  <tbody>\n",
       "    <tr>\n",
       "      <th></th>\n",
       "      <td>0.050156</td>\n",
       "      <td>0.048963</td>\n",
       "    </tr>\n",
       "  </tbody>\n",
       "</table>\n",
       "</div>"
      ],
      "text/plain": [
       "        alg    spline\n",
       "   0.050156  0.048963"
      ]
     },
     "execution_count": 88,
     "metadata": {},
     "output_type": "execute_result"
    }
   ],
   "source": [
    "qwe(1.45)"
   ]
  },
  {
   "cell_type": "code",
   "execution_count": 81,
   "id": "7d496a7c",
   "metadata": {},
   "outputs": [
    {
     "data": {
      "text/html": [
       "<div>\n",
       "<style scoped>\n",
       "    .dataframe tbody tr th:only-of-type {\n",
       "        vertical-align: middle;\n",
       "    }\n",
       "\n",
       "    .dataframe tbody tr th {\n",
       "        vertical-align: top;\n",
       "    }\n",
       "\n",
       "    .dataframe thead th {\n",
       "        text-align: right;\n",
       "    }\n",
       "</style>\n",
       "<table border=\"1\" class=\"dataframe\">\n",
       "  <thead>\n",
       "    <tr style=\"text-align: right;\">\n",
       "      <th></th>\n",
       "      <th>0</th>\n",
       "      <th>1</th>\n",
       "      <th>2</th>\n",
       "      <th>3</th>\n",
       "      <th>4</th>\n",
       "    </tr>\n",
       "  </thead>\n",
       "  <tbody>\n",
       "    <tr>\n",
       "      <th>0</th>\n",
       "      <td>0.01849</td>\n",
       "      <td>0.09802</td>\n",
       "      <td>0.40638</td>\n",
       "      <td>1.38085</td>\n",
       "      <td>4.01768</td>\n",
       "    </tr>\n",
       "    <tr>\n",
       "      <th>1</th>\n",
       "      <td>0.01849</td>\n",
       "      <td>0.09802</td>\n",
       "      <td>0.40638</td>\n",
       "      <td>1.38085</td>\n",
       "      <td>4.01768</td>\n",
       "    </tr>\n",
       "  </tbody>\n",
       "</table>\n",
       "</div>"
      ],
      "text/plain": [
       "         0        1        2        3        4\n",
       "0  0.01849  0.09802  0.40638  1.38085  4.01768\n",
       "1  0.01849  0.09802  0.40638  1.38085  4.01768"
      ]
     },
     "execution_count": 81,
     "metadata": {},
     "output_type": "execute_result"
    }
   ],
   "source": [
    "qwer = np.zeros((2,5))\n",
    "for i in range(0,5):\n",
    "    qwer[0][i] = alg_pol(x,f,x[i])\n",
    "    qwer[1][i] = spline_pol(x,f,x[i])\n",
    "table = ps.DataFrame(data=qwer, index=np.arange(0,2), columns=np.arange(0,5))\n",
    "table"
   ]
  },
  {
   "cell_type": "code",
   "execution_count": 86,
   "id": "5b215c5a",
   "metadata": {},
   "outputs": [
    {
     "data": {
      "text/plain": [
       "0.54331771698293"
      ]
     },
     "execution_count": 86,
     "metadata": {},
     "output_type": "execute_result"
    }
   ],
   "source": [
    "def spline_interp0late(x,f,x0):\n",
    "    length = len(x)\n",
    "    S = np.zeros(length - 1)\n",
    "    answer = 0\n",
    "    v = 0\n",
    "    \n",
    "    for i in range(0,length - 1):\n",
    "        S[i] = spline(i,x,f,x0)\n",
    "        \n",
    "    while v < length:\n",
    "        if (x[v] <= x0) & (x0 < x[v+1]) :\n",
    "            w = S[v]\n",
    "            v=11\n",
    "        else:\n",
    "            v+=1\n",
    "    return w\n",
    "\n",
    "spline_interp0late(x,f,2)"
   ]
  },
  {
   "cell_type": "markdown",
   "id": "c2e2381e",
   "metadata": {},
   "source": [
    "# Задача 5 "
   ]
  },
  {
   "cell_type": "markdown",
   "id": "f22498ce",
   "metadata": {},
   "source": [
    "вариант 9"
   ]
  },
  {
   "cell_type": "markdown",
   "id": "675de493",
   "metadata": {},
   "source": [
    "# Задача 6"
   ]
  },
  {
   "cell_type": "markdown",
   "id": "b42f0d1c",
   "metadata": {},
   "source": [
    "вариант 4"
   ]
  }
 ],
 "metadata": {
  "kernelspec": {
   "display_name": "Python 3 (ipykernel)",
   "language": "python",
   "name": "python3"
  },
  "language_info": {
   "codemirror_mode": {
    "name": "ipython",
    "version": 3
   },
   "file_extension": ".py",
   "mimetype": "text/x-python",
   "name": "python",
   "nbconvert_exporter": "python",
   "pygments_lexer": "ipython3",
   "version": "3.9.7"
  }
 },
 "nbformat": 4,
 "nbformat_minor": 5
}
