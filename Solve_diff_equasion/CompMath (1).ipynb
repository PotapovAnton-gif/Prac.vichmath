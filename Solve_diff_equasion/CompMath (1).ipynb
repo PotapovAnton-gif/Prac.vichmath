{
 "cells": [
  {
   "cell_type": "markdown",
   "id": "b37f56f8",
   "metadata": {},
   "source": [
    "# Задание 1"
   ]
  },
  {
   "cell_type": "code",
   "execution_count": 41,
   "id": "a037be9d",
   "metadata": {},
   "outputs": [
    {
     "data": {
      "text/plain": [
       "array([0.31415927, 0.31415927, 0.31415927, 0.31415927, 0.31415927,\n",
       "       0.31415927, 0.31415927, 0.31415927, 0.31415927, 0.31415927,\n",
       "       0.31415927, 0.31415927, 0.31415927, 0.31415927, 0.31415927,\n",
       "       0.31415927, 0.31415927, 0.31415927, 0.31415927, 0.31415927,\n",
       "       0.31415927, 0.31415927, 0.31415927, 0.31415927, 0.31415927,\n",
       "       0.31415927, 0.31415927, 0.31415927, 0.31415927, 0.31415927,\n",
       "       0.31415927, 0.31415927, 0.31415927, 0.31415927, 0.31415927,\n",
       "       0.31415927, 0.31415927, 0.31415927, 0.31415927, 0.31415927,\n",
       "       0.31415927, 0.31415927, 0.31415927, 0.31415927, 0.31415927,\n",
       "       0.31415927, 0.31415927, 0.31415927, 0.31415927, 0.31415927,\n",
       "       0.31415927, 0.31415927, 0.31415927, 0.31415927, 0.31415927,\n",
       "       0.31415927, 0.31415927, 0.31415927, 0.31415927, 0.31415927,\n",
       "       0.31415927, 0.31415927, 0.31415927, 0.31415927, 0.31415927,\n",
       "       0.31415927, 0.31415927, 0.31415927, 0.31415927, 0.31415927,\n",
       "       0.31415927, 0.31415927, 0.31415927, 0.31415927, 0.31415927,\n",
       "       0.31415927, 0.31415927, 0.31415927, 0.31415927, 0.31415927,\n",
       "       0.31415927, 0.31415927, 0.31415927, 0.31415927, 0.31415927,\n",
       "       0.31415927, 0.31415927, 0.31415927, 0.31415927, 0.31415927,\n",
       "       0.31415927, 0.31415927, 0.31415927, 0.31415927, 0.31415927,\n",
       "       0.31415927, 0.31415927, 0.31415927, 0.31415927, 0.31415927,\n",
       "       0.31415927])"
      ]
     },
     "execution_count": 41,
     "metadata": {},
     "output_type": "execute_result"
    }
   ],
   "source": [
    "import math\n",
    "import numpy as np\n",
    "\n",
    "N = 100 #N - любое\n",
    "y = []\n",
    "y.append(np.pi/10 + 10**(-17))\n",
    "y.append((np.pi)/10)\n",
    "a = 1\n",
    "\n",
    "while a < N:\n",
    "    h = np.pi - 5 * y[a] - 4 * y[a-1]\n",
    "    a += 1\n",
    "    y.append(h)\n",
    "y = np.array(y)\n",
    "y #вывод первого и последнего элементов массива"
   ]
  },
  {
   "cell_type": "markdown",
   "id": "690c9d8b",
   "metadata": {},
   "source": [
    "# Задание 2 "
   ]
  },
  {
   "cell_type": "code",
   "execution_count": 18,
   "id": "7168874a",
   "metadata": {},
   "outputs": [],
   "source": [
    "import numpy as np\n",
    "import matplotlib.pyplot as plt\n",
    "from math import sqrt"
   ]
  },
  {
   "cell_type": "markdown",
   "id": "43cc573b",
   "metadata": {},
   "source": [
    "начальные значения"
   ]
  },
  {
   "cell_type": "code",
   "execution_count": 19,
   "id": "e88e55a3",
   "metadata": {},
   "outputs": [],
   "source": [
    "y0 = 5/3\n",
    "p0 = 7.92 * (10 ** (-3))\n",
    "P0 = 3.04 * (10**9)\n",
    "U0 = 0\n",
    "\n",
    "y3 = 5/3\n",
    "p3 = 11.37\n",
    "P3 = 10 ** 6\n",
    "U3 = 5 * (10**4)\n"
   ]
  },
  {
   "cell_type": "markdown",
   "id": "8c3b1850",
   "metadata": {},
   "source": [
    "переобозначения"
   ]
  },
  {
   "cell_type": "code",
   "execution_count": 20,
   "id": "983737ba",
   "metadata": {},
   "outputs": [],
   "source": [
    "X = P3/P0\n",
    "alpha0 = (y0 + 1)/(y0 - 1)\n",
    "alpha3 = (y3 + 1)/(y3 - 1)\n",
    "C0 = sqrt(y0 * (P0/p0))\n",
    "C3 = sqrt(y3 * (P3/p3))\n",
    "e0 = (2 * C0**2)/(y0 * (y0 - 1) * (U3 - U0))\n",
    "e3 = (2 * C3**2)/(y3 * (y3 - 1) * (U3 - U0))"
   ]
  },
  {
   "cell_type": "markdown",
   "id": "363d8b5e",
   "metadata": {},
   "source": [
    "находим коэффициенты"
   ]
  },
  {
   "cell_type": "code",
   "execution_count": 21,
   "id": "a3a6d239",
   "metadata": {},
   "outputs": [],
   "source": [
    "a0 = (alpha0 * e3 - alpha3 * X * e0)**2\n",
    "a1 = 2 * ((alpha0 * e3 - alpha3 * X * e0)*(e3 * (1 - 2 * alpha0 * X) - e0*X*(X-2*alpha3))\n",
    "          - alpha0 * alpha3 * X * (alpha0 * e3 + alpha3 * X * e0))\n",
    "a2 = e3**2 * (6 * alpha0**2 * X**2 - 8 * alpha0 * X + 1) - 2 * e0 * e3 * X * (\n",
    "    alpha0 * alpha3 * (X**2 + 4 * X + 1) - 2 * (X + 1) * (alpha3 + alpha0 * X)\n",
    "    + X) + e0**2 * X**2 * (6 * alpha3**2 - 8 * alpha3 * X + X**2) + alpha0**2 * alpha3**2 * X**2 - (\n",
    "    2 * alpha0 * X * e3 * (alpha0 * X - 2 * alpha0 * alpha3 * X + 2 * alpha3)\n",
    "    + 2 * alpha3 * X**2 * e0 * (alpha3 + 2 * alpha0 * X - 2 * alpha0 * alpha3))\n",
    "a3 = -2 * X * (2 * e3**2 * (alpha0**2 * X**2 - 3 * alpha0 * X + 1) + e0 * e3 * ((alpha3 + alpha0 * X)\n",
    "    * (X**2 + 4 * X + 1) - 2 * alpha0 * alpha3 * X * (X + 1) - 2 * X * (X + 1))\n",
    "    + 2 * e0**2 * X * (X**2 - 3 * alpha3 * X + alpha3**2) - alpha0 * alpha3 * X * (alpha0 * X + alpha3)\n",
    "    + e3 * (alpha0**2 * alpha3 * X**2 - 2 * X * (2 * alpha0 * alpha3 + alpha0**2 * X) + (2 * alpha0 * X + alpha3))\n",
    "    + e0 * X * (alpha0 * alpha3**2 - 2 * alpha3 * (alpha3 + 2 * alpha0 * X) + 2 * alpha3 * X + alpha0 * X**2))\n",
    "a4 = X**2 * (e3**2 * (alpha0**2 * X**2 - 8 * alpha0 * X + 6)\n",
    "    - 2 * e0 * e3 * (alpha0 * alpha3 * X - 2 * (X + 1) * (alpha3 + alpha0 * X) + X**2 + 4 * X + 1)\n",
    "    + e0**2 * (alpha3**2 - 8 * alpha3 * X + 6 * X**2) + (alpha3**2 + 4 * alpha0 * alpha3 * X + alpha0**2 * X**2)\n",
    "    - 2 * e3 * ((alpha0**2 * X + 2 * alpha0 * alpha3) * X - 2 * (2 * alpha0 * X + alpha3) + 1)\n",
    "    - 2 * e0 * (alpha3 * (2 * alpha0 * X + alpha3) - 2 * X * (2 * alpha3 + alpha0 * X) + X**2))\n",
    "a5 = 2 * X**3 * (e3**2 * (alpha0 * X - 2) - e0 * e3 * (alpha0 * X - 2 + alpha3 - 2 * X)\n",
    "    + e0**2 * (alpha3 - 2 * X) + (alpha3 + alpha0 * X)\n",
    "    - e3 * (2 * alpha0 * X + alpha3 - 2) - e0 * (2 * alpha3 + alpha0 * X - 2 * X))\n",
    "a6 = X**4 * ((e3 - e0)**2 + 1 - 2 * (e3 + e0))\n"
   ]
  },
  {
   "cell_type": "markdown",
   "id": "977ce1d9",
   "metadata": {},
   "source": [
    "полином"
   ]
  },
  {
   "cell_type": "code",
   "execution_count": 22,
   "id": "1e1248e5",
   "metadata": {},
   "outputs": [],
   "source": [
    "def pol(Y):\n",
    "    return a0 * Y**6 + a1 * Y**5 + a2 * Y**4 + a3 * Y**3 + a4 * Y**2 + a5 * Y + a6"
   ]
  },
  {
   "cell_type": "code",
   "execution_count": 23,
   "id": "0ac69f60",
   "metadata": {},
   "outputs": [],
   "source": [
    "# Локализация корней\n",
    "A = max(abs(a1), abs(a2), abs(a3), abs(a4), abs(a5), abs(a6))\n",
    "B = max(abs(a0), abs(a1), abs(a2), abs(a3), abs(a4), abs(a5))\n",
    "\n",
    "\n",
    "start = abs(a6)/(abs(a6) + B)\n",
    "end = 1 + A/abs(a0) if a0 != 0 else 1 + A/abs(a1)\n",
    "length = end - start\n",
    "\n",
    "n = 1500\n",
    "value = [pol(start + i * length / n) for i in range(n + 1)]\n",
    "roots_distance = []\n",
    "for i in range(n):\n",
    "    if value[i] * value[i + 1] < 0:\n",
    "        x1 = start + i * length / n\n",
    "        x2 = start + (i + 1) * length / n\n",
    "        roots_distance.append((x1, x2))\n"
   ]
  },
  {
   "cell_type": "code",
   "execution_count": 24,
   "id": "bc57a4e4",
   "metadata": {},
   "outputs": [
    {
     "data": {
      "text/plain": [
       "[0.9708177630981016, 0.971715040925049]"
      ]
     },
     "execution_count": 24,
     "metadata": {},
     "output_type": "execute_result"
    }
   ],
   "source": [
    "# Бинарный поиск корней с заданной точностью\n",
    "epsilon = 10**(-8)\n",
    "roots = []\n",
    "for i in range(len(roots_distance)):\n",
    "    a = roots_distance[i][0]\n",
    "    b = roots_distance[i][1]\n",
    "    while b - a > epsilon:\n",
    "        c = (a + b) / 2\n",
    "        if pol(c) * pol(a) < 0:\n",
    "            b = c\n",
    "        else:\n",
    "            a = c\n",
    "    roots.append((a + b) / 2)\n",
    "roots"
   ]
  },
  {
   "cell_type": "code",
   "execution_count": 25,
   "id": "1e159cfb",
   "metadata": {},
   "outputs": [
    {
     "name": "stdout",
     "output_type": "stream",
     "text": [
      "D0: [-446926.49521435756, -435352.0961067575]\n",
      "D3: [39594.63635834401, 39636.86959928436]\n"
     ]
    }
   ],
   "source": [
    "# Итоговые преобразования\n",
    "U1 = [(((2 * C3**2 * (i - X)**2)/(y3 * (y3-1) * X * (X + alpha3 * i))\n",
    "      - (2 * C0**2 * (i-1)**2)/(y0 *(y0 - 1)*(1 + alpha0 * i))) * (1/(U0 - U3)) + U3 + U0)/2 for i in roots]\n",
    "\n",
    "D0 = [U0 - (P0 - i * P0)/((U1[n] - U0) * p0) for n, i in enumerate(roots)]\n",
    "D3 = [U3 - (i * P0 - P3)/((U3 - U1[n]) * p3) for n, i in enumerate(roots)]\n",
    "\n",
    "print(f'D0: {D0}\\nD3: {D3}')"
   ]
  },
  {
   "cell_type": "markdown",
   "id": "89c2e21a",
   "metadata": {},
   "source": [
    "# Задание 3"
   ]
  },
  {
   "cell_type": "markdown",
   "id": "70ce7a1c",
   "metadata": {},
   "source": [
    "вариант 9"
   ]
  },
  {
   "cell_type": "code",
   "execution_count": 4,
   "id": "febdac7f",
   "metadata": {},
   "outputs": [
    {
     "data": {
      "text/plain": [
       "[<matplotlib.lines.Line2D at 0x7f497869a8b0>,\n",
       " <matplotlib.lines.Line2D at 0x7f497869a850>]"
      ]
     },
     "execution_count": 4,
     "metadata": {},
     "output_type": "execute_result"
    },
    {
     "data": {
      "image/png": "[encoded data removed]",
      "text/plain": [
       "<Figure size 432x288 with 1 Axes>"
      ]
     },
     "metadata": {
      "needs_background": "light"
     },
     "output_type": "display_data"
    }
   ],
   "source": [
    "import matplotlib.pyplot as plt\n",
    "import numpy as np\n",
    "from sympy import *\n",
    "\n",
    "x = np.linspace(-0.7, 0.7)\n",
    "y = np.arctan(1/(x+10**(-8)) - np.pi/2 + 10**(-8))\n",
    "y1 = [0]*50\n",
    "\n",
    "plt.plot(x, y, x, y1)"
   ]
  },
  {
   "cell_type": "markdown",
   "id": "b5dfe366",
   "metadata": {},
   "source": [
    "функция"
   ]
  },
  {
   "cell_type": "code",
   "execution_count": 5,
   "id": "0da31333",
   "metadata": {},
   "outputs": [],
   "source": [
    "def newton(x_1, x_0, f, f_):\n",
    "    i = 0\n",
    "    print(f\"x0 = {x_0}\")\n",
    "    while abs(x_1.subs(x, x_0) - x_0) > e:\n",
    "        i += 1\n",
    "        x_0 = x_1.subs(x, x_0)\n",
    "        x_1 = x_0 - f / f_\n",
    "    return x_0"
   ]
  },
  {
   "cell_type": "code",
   "execution_count": 37,
   "id": "79031e85",
   "metadata": {},
   "outputs": [
    {
     "name": "stdout",
     "output_type": "stream",
     "text": [
      "x0 = 0.6\n",
      "0.636619766370902\n",
      "0.738081385692018\n"
     ]
    }
   ],
   "source": [
    "e = 10**(-6)\n",
    "x = Symbol(\"x\")\n",
    "x_0 = 0.6\n",
    "f = atan(1./(x+10**(-8)) - pi/2. + 10**(-8))\n",
    "f_ = f.diff(x)\n",
    "f2 = f_.diff(x)\n",
    "x_1 = x_0 - f / f_\n",
    "x0 = newton(x_1, x_0, f, f_)\n",
    "print(x0.evalf())\n",
    "print((f2.subs(x, x_0).evalf())*(f.subs(x, x_0).evalf()))"
   ]
  },
  {
   "cell_type": "markdown",
   "id": "ddbbd6fd",
   "metadata": {},
   "source": [
    "# Задание 4"
   ]
  },
  {
   "cell_type": "markdown",
   "id": "8263e21f",
   "metadata": {},
   "source": [
    "алгебраический многочлен"
   ]
  },
  {
   "cell_type": "code",
   "execution_count": 23,
   "id": "d968f161",
   "metadata": {},
   "outputs": [],
   "source": [
    "import numpy as np\n",
    "import pandas as ps\n",
    "from scipy import linalg\n",
    "x = np.array([1.22173, 1.57080, 1.91986, 2.26893, 2.61799])\n",
    "f = np.array([0.01849, 0.09802, 0.40638, 1.38085, 4.01768])"
   ]
  },
  {
   "cell_type": "code",
   "execution_count": 33,
   "id": "75c0096c",
   "metadata": {},
   "outputs": [
    {
     "data": {
      "text/html": [
       "<div>\n",
       "<style scoped>\n",
       "    .dataframe tbody tr th:only-of-type {\n",
       "        vertical-align: middle;\n",
       "    }\n",
       "\n",
       "    .dataframe tbody tr th {\n",
       "        vertical-align: top;\n",
       "    }\n",
       "\n",
       "    .dataframe thead th {\n",
       "        text-align: right;\n",
       "    }\n",
       "</style>\n",
       "<table border=\"1\" class=\"dataframe\">\n",
       "  <thead>\n",
       "    <tr style=\"text-align: right;\">\n",
       "      <th></th>\n",
       "      <th>a0</th>\n",
       "      <th>a1</th>\n",
       "      <th>a2</th>\n",
       "      <th>a3</th>\n",
       "      <th>a4</th>\n",
       "    </tr>\n",
       "  </thead>\n",
       "  <tbody>\n",
       "    <tr>\n",
       "      <th></th>\n",
       "      <td>8.345802</td>\n",
       "      <td>-21.619217</td>\n",
       "      <td>21.063982</td>\n",
       "      <td>-9.24046</td>\n",
       "      <td>1.569027</td>\n",
       "    </tr>\n",
       "  </tbody>\n",
       "</table>\n",
       "</div>"
      ],
      "text/plain": [
       "         a0         a1         a2       a3        a4\n",
       "   8.345802 -21.619217  21.063982 -9.24046  1.569027"
      ]
     },
     "execution_count": 33,
     "metadata": {},
     "output_type": "execute_result"
    }
   ],
   "source": [
    "#возвращает коэффициенты алгебраического многочлена\n",
    "def alg_coef(x,f):\n",
    "    length = len(x)\n",
    "    \n",
    "#поиск столбца коэффициентов а[i] многочлена\n",
    "    array = np.zeros((length,length))\n",
    "    for i in range(0,length):\n",
    "        for j in range(0,length):\n",
    "            array[i][j] = x[i]**j\n",
    "    a = linalg.solve(array,f)\n",
    "    return a\n",
    "\n",
    "#таблица коэффициентов алгебраического многочлена(надо редактировать при смене размерности x,f)\n",
    "table1 = ps.DataFrame(data=alg_coef(x,f).reshape(1,5), index=np.arange(0,1), columns=np.arange(0,5))\n",
    "table1.columns = ['a0','a1','a2','a3','a4']\n",
    "table1.index = [' ']\n",
    "table1"
   ]
  },
  {
   "cell_type": "code",
   "execution_count": 53,
   "id": "769bf9f5",
   "metadata": {},
   "outputs": [],
   "source": [
    "#возвращает значения алгебраического полинома в х0\n",
    "def alg_pol(x,f,x0):\n",
    "    length = len(x)\n",
    "    \n",
    "#матрица степеней х\n",
    "    xx = np.zeros(length)\n",
    "    for i in range(0,length):\n",
    "        xx[i] = x0**i\n",
    "\n",
    "    return alg_coef(x,f).dot(xx)"
   ]
  },
  {
   "cell_type": "code",
   "execution_count": 87,
   "id": "afc30fca",
   "metadata": {},
   "outputs": [
    {
     "data": {
      "text/plain": [
       "0.5440465156825027"
      ]
     },
     "execution_count": 87,
     "metadata": {},
     "output_type": "execute_result"
    }
   ],
   "source": [
    "alg_pol(x,f,2)"
   ]
  },
  {
   "cell_type": "markdown",
   "id": "3a311945",
   "metadata": {},
   "source": [
    "сплайн"
   ]
  },
  {
   "cell_type": "code",
   "execution_count": 73,
   "id": "16180756",
   "metadata": {},
   "outputs": [],
   "source": [
    "#подсчет производной алг. полинома в точке\n",
    "def derivative_alg_pol(x,f,x0):\n",
    "    length = len(x)\n",
    "\n",
    "#матрица степеней х производной\n",
    "    der = np.zeros(length)\n",
    "    for i in range(1,length):\n",
    "        der[i] = i * x0**(i-1)\n",
    "    \n",
    "    return alg_coef(x,f).dot(der)"
   ]
  },
  {
   "cell_type": "code",
   "execution_count": 74,
   "id": "da489fbe",
   "metadata": {},
   "outputs": [
    {
     "data": {
      "text/html": [
       "<div>\n",
       "<style scoped>\n",
       "    .dataframe tbody tr th:only-of-type {\n",
       "        vertical-align: middle;\n",
       "    }\n",
       "\n",
       "    .dataframe tbody tr th {\n",
       "        vertical-align: top;\n",
       "    }\n",
       "\n",
       "    .dataframe thead th {\n",
       "        text-align: right;\n",
       "    }\n",
       "</style>\n",
       "<table border=\"1\" class=\"dataframe\">\n",
       "  <thead>\n",
       "    <tr style=\"text-align: right;\">\n",
       "      <th></th>\n",
       "      <th>a0</th>\n",
       "      <th>a1</th>\n",
       "      <th>a2</th>\n",
       "      <th>a3</th>\n",
       "    </tr>\n",
       "  </thead>\n",
       "  <tbody>\n",
       "    <tr>\n",
       "      <th>S1</th>\n",
       "      <td>2.567201</td>\n",
       "      <td>-4.801990</td>\n",
       "      <td>2.806140</td>\n",
       "      <td>-0.477350</td>\n",
       "    </tr>\n",
       "    <tr>\n",
       "      <th>S2</th>\n",
       "      <td>-5.923782</td>\n",
       "      <td>11.414574</td>\n",
       "      <td>-7.517632</td>\n",
       "      <td>1.713419</td>\n",
       "    </tr>\n",
       "    <tr>\n",
       "      <th>S3</th>\n",
       "      <td>-21.426453</td>\n",
       "      <td>35.639242</td>\n",
       "      <td>-20.135556</td>\n",
       "      <td>3.904189</td>\n",
       "    </tr>\n",
       "    <tr>\n",
       "      <th>S4</th>\n",
       "      <td>-47.015790</td>\n",
       "      <td>69.473723</td>\n",
       "      <td>-35.047653</td>\n",
       "      <td>6.094958</td>\n",
       "    </tr>\n",
       "  </tbody>\n",
       "</table>\n",
       "</div>"
      ],
      "text/plain": [
       "           a0         a1         a2        a3\n",
       "S1   2.567201  -4.801990   2.806140 -0.477350\n",
       "S2  -5.923782  11.414574  -7.517632  1.713419\n",
       "S3 -21.426453  35.639242 -20.135556  3.904189\n",
       "S4 -47.015790  69.473723 -35.047653  6.094958"
      ]
     },
     "execution_count": 74,
     "metadata": {},
     "output_type": "execute_result"
    }
   ],
   "source": [
    "#возвращает коэффициенты i-го сплайна\n",
    "def spline_coef(i,x,f):\n",
    "    d = derivative_alg_pol(x,f,x[i])\n",
    "    dd = derivative_alg_pol(x,f,x[i+1])\n",
    "    \n",
    "    a_s = np.zeros(4)\n",
    "    a_s[0] = (-dd * x[i]**2 * x[i+1] * (x[i+1] - x[i]) + f[i+1] * x[i]**2 * (3*x[i+1] - x[i]))/(x[i+1] - x[i])**3  +  (-d * x[i+1]**2 * x[i] * (x[i+1] - x[i]) + f[i] * x[i+1]**2 * (x[i+1] - 3 * x[i]))/(x[i+1] - x[i])**3\n",
    "    a_s[1] = (dd * x[i] * (2 * x[i+1] + x[i]) * (x[i+1] - x[i]) - 6 * (f[i+1] - f[i]) * x[i] * x[i+1])/(x[i+1] - x[i])**3  +  (d * x[i+1] * (x[i+1] + 2 * x[i]) * (x[i+1] - x[i]))/(x[i+1] - x[i])**3\n",
    "    a_s[2] = (-dd * (2 *x[i] + x[i+1]) * (x[i+1] - x[i]) + 3 * (f[i+1] - f[i]) * (x[i] + x[i+1]))/(x[i+1] - x[i])**3  -  (d * (x[i] + 2 * x[i+1]) * (x[i+1] - x[i]))/(x[i+1] - x[i])**3\n",
    "    a_s[3] = (dd * (x[i+1] - x[i]) - 2 * (f[i+1] - f[i]) + d * (x[i+1] - x[i]))/(x[i+1] - x[i])**3\n",
    "    return a_s\n",
    "\n",
    "#таблица коэффициентов i-го сплайна\n",
    "spline_coef_tab = np.zeros((4,4))\n",
    "for i in range(0,len(f)-1):\n",
    "    spline_coef_tab[i] = spline_coef(i,x,f).reshape(1,4)\n",
    "table = ps.DataFrame(data=spline_coef_tab, index=np.arange(0,4), columns=np.arange(0,4))\n",
    "table.columns = ['a0','a1','a2','a3']\n",
    "table.index = ['S1','S2','S3','S4']\n",
    "table"
   ]
  },
  {
   "cell_type": "code",
   "execution_count": 75,
   "id": "45b22f74",
   "metadata": {},
   "outputs": [],
   "source": [
    "#значение i-го кубического сплайна S3i в х0\n",
    "def spline(i,x,f,x0):\n",
    "    \n",
    "#матрица степеней х сплайна 3 степени    \n",
    "    xx = np.zeros(4)\n",
    "    for j in range(0,4):\n",
    "        xx[j] = x0**j\n",
    "        \n",
    "    return spline_coef(i,x,f).dot(xx)"
   ]
  },
  {
   "cell_type": "code",
   "execution_count": 76,
   "id": "0020bdbb",
   "metadata": {},
   "outputs": [],
   "source": [
    "#выдает значение функции в точке - интерполяция\n",
    "def spline_pol(x,f,x0):\n",
    "    length = len(x)\n",
    "    answer = 0\n",
    "    parametr = 0\n",
    "        \n",
    "    while parametr < length:\n",
    "        \n",
    "        if (x[parametr] <= x0) & (x0 <= x[parametr+1]) :\n",
    "            answer = spline(parametr,x,f,x0)\n",
    "            parametr = 11\n",
    "        else:\n",
    "            parametr += 1\n",
    "            \n",
    "    return answer"
   ]
  },
  {
   "cell_type": "code",
   "execution_count": 77,
   "id": "d3834ed4",
   "metadata": {},
   "outputs": [],
   "source": [
    "def qwe(x0):\n",
    "    tab = np.array([alg_pol(x,f,x0),spline_pol(x,f,x0)])\n",
    "    table = ps.DataFrame(data=tab.reshape(1,2), index=np.arange(0,1), columns=np.arange(0,2))\n",
    "    table.columns = ['alg', 'spline']\n",
    "    table.index = [' ']\n",
    "    return table"
   ]
  },
  {
   "cell_type": "code",
   "execution_count": 88,
   "id": "88850ad8",
   "metadata": {},
   "outputs": [
    {
     "data": {
      "text/html": [
       "<div>\n",
       "<style scoped>\n",
       "    .dataframe tbody tr th:only-of-type {\n",
       "        vertical-align: middle;\n",
       "    }\n",
       "\n",
       "    .dataframe tbody tr th {\n",
       "        vertical-align: top;\n",
       "    }\n",
       "\n",
       "    .dataframe thead th {\n",
       "        text-align: right;\n",
       "    }\n",
       "</style>\n",
       "<table border=\"1\" class=\"dataframe\">\n",
       "  <thead>\n",
       "    <tr style=\"text-align: right;\">\n",
       "      <th></th>\n",
       "      <th>alg</th>\n",
       "      <th>spline</th>\n",
       "    </tr>\n",
       "  </thead>\n",
       "  <tbody>\n",
       "    <tr>\n",
       "      <th></th>\n",
       "      <td>0.050156</td>\n",
       "      <td>0.048963</td>\n",
       "    </tr>\n",
       "  </tbody>\n",
       "</table>\n",
       "</div>"
      ],
      "text/plain": [
       "        alg    spline\n",
       "   0.050156  0.048963"
      ]
     },
     "execution_count": 88,
     "metadata": {},
     "output_type": "execute_result"
    }
   ],
   "source": [
    "qwe(1.45)"
   ]
  },
  {
   "cell_type": "code",
   "execution_count": 81,
   "id": "7d496a7c",
   "metadata": {},
   "outputs": [
    {
     "data": {
      "text/html": [
       "<div>\n",
       "<style scoped>\n",
       "    .dataframe tbody tr th:only-of-type {\n",
       "        vertical-align: middle;\n",
       "    }\n",
       "\n",
       "    .dataframe tbody tr th {\n",
       "        vertical-align: top;\n",
       "    }\n",
       "\n",
       "    .dataframe thead th {\n",
       "        text-align: right;\n",
       "    }\n",
       "</style>\n",
       "<table border=\"1\" class=\"dataframe\">\n",
       "  <thead>\n",
       "    <tr style=\"text-align: right;\">\n",
       "      <th></th>\n",
       "      <th>0</th>\n",
       "      <th>1</th>\n",
       "      <th>2</th>\n",
       "      <th>3</th>\n",
       "      <th>4</th>\n",
       "    </tr>\n",
       "  </thead>\n",
       "  <tbody>\n",
       "    <tr>\n",
       "      <th>0</th>\n",
       "      <td>0.01849</td>\n",
       "      <td>0.09802</td>\n",
       "      <td>0.40638</td>\n",
       "      <td>1.38085</td>\n",
       "      <td>4.01768</td>\n",
       "    </tr>\n",
       "    <tr>\n",
       "      <th>1</th>\n",
       "      <td>0.01849</td>\n",
       "      <td>0.09802</td>\n",
       "      <td>0.40638</td>\n",
       "      <td>1.38085</td>\n",
       "      <td>4.01768</td>\n",
       "    </tr>\n",
       "  </tbody>\n",
       "</table>\n",
       "</div>"
      ],
      "text/plain": [
       "         0        1        2        3        4\n",
       "0  0.01849  0.09802  0.40638  1.38085  4.01768\n",
       "1  0.01849  0.09802  0.40638  1.38085  4.01768"
      ]
     },
     "execution_count": 81,
     "metadata": {},
     "output_type": "execute_result"
    }
   ],
   "source": [
    "qwer = np.zeros((2,5))\n",
    "for i in range(0,5):\n",
    "    qwer[0][i] = alg_pol(x,f,x[i])\n",
    "    qwer[1][i] = spline_pol(x,f,x[i])\n",
    "table = ps.DataFrame(data=qwer, index=np.arange(0,2), columns=np.arange(0,5))\n",
    "table"
   ]
  },
  {
   "cell_type": "code",
   "execution_count": 86,
   "id": "5b215c5a",
   "metadata": {},
   "outputs": [
    {
     "data": {
      "text/plain": [
       "0.54331771698293"
      ]
     },
     "execution_count": 86,
     "metadata": {},
     "output_type": "execute_result"
    }
   ],
   "source": [
    "def spline_interp0late(x,f,x0):\n",
    "    length = len(x)\n",
    "    S = np.zeros(length - 1)\n",
    "    answer = 0\n",
    "    v = 0\n",
    "    \n",
    "    for i in range(0,length - 1):\n",
    "        S[i] = spline(i,x,f,x0)\n",
    "        \n",
    "    while v < length:\n",
    "        if (x[v] <= x0) & (x0 < x[v+1]) :\n",
    "            w = S[v]\n",
    "            v=11\n",
    "        else:\n",
    "            v+=1\n",
    "    return w\n",
    "\n",
    "spline_interp0late(x,f,2)"
   ]
  },
  {
   "cell_type": "markdown",
   "id": "c2e2381e",
   "metadata": {},
   "source": [
    "# Задача 5 "
   ]
  },
  {
   "cell_type": "markdown",
   "id": "f22498ce",
   "metadata": {},
   "source": [
    "вариант 9"
   ]
  },
  {
   "cell_type": "code",
   "execution_count": 56,
   "id": "b1b48051",
   "metadata": {},
   "outputs": [],
   "source": [
    "from math import sin\n",
    "\n",
    "\n",
    "def f(x):\n",
    "    return cos(1000 * x) / (1 + x)\n",
    "\n",
    "\n",
    "def integrate(f, x0, x, h):\n",
    "    xs = [x0 + h * i for i in range(int((x - x0) / h))]\n",
    "    result = 0\n",
    "    for xi in xs:\n",
    "        result += f(xi) * h\n",
    "    return result\n",
    "\n",
    "\n",
    "from math import sqrt\n",
    "\n",
    "\n",
    "def gauss2(f, a, b):\n",
    "    diff = (b - a) / 2\n",
    "    summ = (b + a) / 2\n",
    "    return diff * (f(summ - diff / sqrt(3)) + f(summ + diff / sqrt(3)))\n",
    "\n",
    "\n",
    "def integrategauss(f, x0, x, h):\n",
    "    xs = [x0 + h * i for i in range(int((x - x0) / h) + 1)]\n",
    "    result = 0\n",
    "    for i in range(1, len(xs)):\n",
    "        result += gauss2(f, xs[i - 1], xs[i])\n",
    "    return result\n"
   ]
  },
  {
   "cell_type": "code",
   "execution_count": 57,
   "id": "bd03a199",
   "metadata": {},
   "outputs": [
    {
     "name": "stdout",
     "output_type": "stream",
     "text": [
      "М. Ньютона-Котеса:\n",
      "Ih = 0.000414658333837915, I2h = 0.000415017635923736, Δ = 3.59302085821325E-7\n",
      "М. Гаусса:\n"
     ]
    },
    {
     "ename": "KeyboardInterrupt",
     "evalue": "",
     "output_type": "error",
     "traceback": [
      "\u001b[0;31m---------------------------------------------------------------------------\u001b[0m",
      "\u001b[0;31mKeyboardInterrupt\u001b[0m                         Traceback (most recent call last)",
      "\u001b[0;32m/tmp/ipykernel_43743/2427393651.py\u001b[0m in \u001b[0;36m<module>\u001b[0;34m\u001b[0m\n\u001b[1;32m      6\u001b[0m \u001b[0mHg\u001b[0m \u001b[0;34m=\u001b[0m \u001b[0;36m0.000001\u001b[0m\u001b[0;34m\u001b[0m\u001b[0;34m\u001b[0m\u001b[0m\n\u001b[1;32m      7\u001b[0m \u001b[0mprint\u001b[0m\u001b[0;34m(\u001b[0m\u001b[0;34m\"М. Гаусса:\"\u001b[0m\u001b[0;34m)\u001b[0m\u001b[0;34m\u001b[0m\u001b[0;34m\u001b[0m\u001b[0m\n\u001b[0;32m----> 8\u001b[0;31m \u001b[0mprint\u001b[0m\u001b[0;34m(\u001b[0m\u001b[0;34mf\"I = {integrategauss(f, 0, 1, Hg)}\"\u001b[0m\u001b[0;34m)\u001b[0m\u001b[0;34m\u001b[0m\u001b[0;34m\u001b[0m\u001b[0m\n\u001b[0m",
      "\u001b[0;32m/tmp/ipykernel_43743/3113325053.py\u001b[0m in \u001b[0;36mintegrategauss\u001b[0;34m(f, x0, x, h)\u001b[0m\n\u001b[1;32m     27\u001b[0m     \u001b[0mresult\u001b[0m \u001b[0;34m=\u001b[0m \u001b[0;36m0\u001b[0m\u001b[0;34m\u001b[0m\u001b[0;34m\u001b[0m\u001b[0m\n\u001b[1;32m     28\u001b[0m     \u001b[0;32mfor\u001b[0m \u001b[0mi\u001b[0m \u001b[0;32min\u001b[0m \u001b[0mrange\u001b[0m\u001b[0;34m(\u001b[0m\u001b[0;36m1\u001b[0m\u001b[0;34m,\u001b[0m \u001b[0mlen\u001b[0m\u001b[0;34m(\u001b[0m\u001b[0mxs\u001b[0m\u001b[0;34m)\u001b[0m\u001b[0;34m)\u001b[0m\u001b[0;34m:\u001b[0m\u001b[0;34m\u001b[0m\u001b[0;34m\u001b[0m\u001b[0m\n\u001b[0;32m---> 29\u001b[0;31m         \u001b[0mresult\u001b[0m \u001b[0;34m+=\u001b[0m \u001b[0mgauss2\u001b[0m\u001b[0;34m(\u001b[0m\u001b[0mf\u001b[0m\u001b[0;34m,\u001b[0m \u001b[0mxs\u001b[0m\u001b[0;34m[\u001b[0m\u001b[0mi\u001b[0m \u001b[0;34m-\u001b[0m \u001b[0;36m1\u001b[0m\u001b[0;34m]\u001b[0m\u001b[0;34m,\u001b[0m \u001b[0mxs\u001b[0m\u001b[0;34m[\u001b[0m\u001b[0mi\u001b[0m\u001b[0;34m]\u001b[0m\u001b[0;34m)\u001b[0m\u001b[0;34m\u001b[0m\u001b[0;34m\u001b[0m\u001b[0m\n\u001b[0m\u001b[1;32m     30\u001b[0m     \u001b[0;32mreturn\u001b[0m \u001b[0mresult\u001b[0m\u001b[0;34m\u001b[0m\u001b[0;34m\u001b[0m\u001b[0m\n",
      "\u001b[0;32m/tmp/ipykernel_43743/3113325053.py\u001b[0m in \u001b[0;36mgauss2\u001b[0;34m(f, a, b)\u001b[0m\n\u001b[1;32m     20\u001b[0m     \u001b[0mdiff\u001b[0m \u001b[0;34m=\u001b[0m \u001b[0;34m(\u001b[0m\u001b[0mb\u001b[0m \u001b[0;34m-\u001b[0m \u001b[0ma\u001b[0m\u001b[0;34m)\u001b[0m \u001b[0;34m/\u001b[0m \u001b[0;36m2\u001b[0m\u001b[0;34m\u001b[0m\u001b[0;34m\u001b[0m\u001b[0m\n\u001b[1;32m     21\u001b[0m     \u001b[0msumm\u001b[0m \u001b[0;34m=\u001b[0m \u001b[0;34m(\u001b[0m\u001b[0mb\u001b[0m \u001b[0;34m+\u001b[0m \u001b[0ma\u001b[0m\u001b[0;34m)\u001b[0m \u001b[0;34m/\u001b[0m \u001b[0;36m2\u001b[0m\u001b[0;34m\u001b[0m\u001b[0;34m\u001b[0m\u001b[0m\n\u001b[0;32m---> 22\u001b[0;31m     \u001b[0;32mreturn\u001b[0m \u001b[0mdiff\u001b[0m \u001b[0;34m*\u001b[0m \u001b[0;34m(\u001b[0m\u001b[0mf\u001b[0m\u001b[0;34m(\u001b[0m\u001b[0msumm\u001b[0m \u001b[0;34m-\u001b[0m \u001b[0mdiff\u001b[0m \u001b[0;34m/\u001b[0m \u001b[0msqrt\u001b[0m\u001b[0;34m(\u001b[0m\u001b[0;36m3\u001b[0m\u001b[0;34m)\u001b[0m\u001b[0;34m)\u001b[0m \u001b[0;34m+\u001b[0m \u001b[0mf\u001b[0m\u001b[0;34m(\u001b[0m\u001b[0msumm\u001b[0m \u001b[0;34m+\u001b[0m \u001b[0mdiff\u001b[0m \u001b[0;34m/\u001b[0m \u001b[0msqrt\u001b[0m\u001b[0;34m(\u001b[0m\u001b[0;36m3\u001b[0m\u001b[0;34m)\u001b[0m\u001b[0;34m)\u001b[0m\u001b[0;34m)\u001b[0m\u001b[0;34m\u001b[0m\u001b[0;34m\u001b[0m\u001b[0m\n\u001b[0m\u001b[1;32m     23\u001b[0m \u001b[0;34m\u001b[0m\u001b[0m\n\u001b[1;32m     24\u001b[0m \u001b[0;34m\u001b[0m\u001b[0m\n",
      "\u001b[0;32m/tmp/ipykernel_43743/3113325053.py\u001b[0m in \u001b[0;36mf\u001b[0;34m(x)\u001b[0m\n\u001b[1;32m      3\u001b[0m \u001b[0;34m\u001b[0m\u001b[0m\n\u001b[1;32m      4\u001b[0m \u001b[0;32mdef\u001b[0m \u001b[0mf\u001b[0m\u001b[0;34m(\u001b[0m\u001b[0mx\u001b[0m\u001b[0;34m)\u001b[0m\u001b[0;34m:\u001b[0m\u001b[0;34m\u001b[0m\u001b[0;34m\u001b[0m\u001b[0m\n\u001b[0;32m----> 5\u001b[0;31m     \u001b[0;32mreturn\u001b[0m \u001b[0mcos\u001b[0m\u001b[0;34m(\u001b[0m\u001b[0;36m1000\u001b[0m \u001b[0;34m*\u001b[0m \u001b[0mx\u001b[0m\u001b[0;34m)\u001b[0m \u001b[0;34m/\u001b[0m \u001b[0;34m(\u001b[0m\u001b[0;36m1\u001b[0m \u001b[0;34m+\u001b[0m \u001b[0mx\u001b[0m\u001b[0;34m)\u001b[0m\u001b[0;34m\u001b[0m\u001b[0;34m\u001b[0m\u001b[0m\n\u001b[0m\u001b[1;32m      6\u001b[0m \u001b[0;34m\u001b[0m\u001b[0m\n\u001b[1;32m      7\u001b[0m \u001b[0;34m\u001b[0m\u001b[0m\n",
      "\u001b[0;32m~/.local/lib/python3.9/site-packages/sympy/core/cache.py\u001b[0m in \u001b[0;36mwrapper\u001b[0;34m(*args, **kwargs)\u001b[0m\n\u001b[1;32m     70\u001b[0m         \u001b[0;32mdef\u001b[0m \u001b[0mwrapper\u001b[0m\u001b[0;34m(\u001b[0m\u001b[0;34m*\u001b[0m\u001b[0margs\u001b[0m\u001b[0;34m,\u001b[0m \u001b[0;34m**\u001b[0m\u001b[0mkwargs\u001b[0m\u001b[0;34m)\u001b[0m\u001b[0;34m:\u001b[0m\u001b[0;34m\u001b[0m\u001b[0;34m\u001b[0m\u001b[0m\n\u001b[1;32m     71\u001b[0m             \u001b[0;32mtry\u001b[0m\u001b[0;34m:\u001b[0m\u001b[0;34m\u001b[0m\u001b[0;34m\u001b[0m\u001b[0m\n\u001b[0;32m---> 72\u001b[0;31m                 \u001b[0mretval\u001b[0m \u001b[0;34m=\u001b[0m \u001b[0mcfunc\u001b[0m\u001b[0;34m(\u001b[0m\u001b[0;34m*\u001b[0m\u001b[0margs\u001b[0m\u001b[0;34m,\u001b[0m \u001b[0;34m**\u001b[0m\u001b[0mkwargs\u001b[0m\u001b[0;34m)\u001b[0m\u001b[0;34m\u001b[0m\u001b[0;34m\u001b[0m\u001b[0m\n\u001b[0m\u001b[1;32m     73\u001b[0m             \u001b[0;32mexcept\u001b[0m \u001b[0mTypeError\u001b[0m \u001b[0;32mas\u001b[0m \u001b[0me\u001b[0m\u001b[0;34m:\u001b[0m\u001b[0;34m\u001b[0m\u001b[0;34m\u001b[0m\u001b[0m\n\u001b[1;32m     74\u001b[0m                 \u001b[0;32mif\u001b[0m \u001b[0;32mnot\u001b[0m \u001b[0me\u001b[0m\u001b[0;34m.\u001b[0m\u001b[0margs\u001b[0m \u001b[0;32mor\u001b[0m \u001b[0;32mnot\u001b[0m \u001b[0me\u001b[0m\u001b[0;34m.\u001b[0m\u001b[0margs\u001b[0m\u001b[0;34m[\u001b[0m\u001b[0;36m0\u001b[0m\u001b[0;34m]\u001b[0m\u001b[0;34m.\u001b[0m\u001b[0mstartswith\u001b[0m\u001b[0;34m(\u001b[0m\u001b[0;34m'unhashable type:'\u001b[0m\u001b[0;34m)\u001b[0m\u001b[0;34m:\u001b[0m\u001b[0;34m\u001b[0m\u001b[0;34m\u001b[0m\u001b[0m\n",
      "\u001b[0;32m~/.local/lib/python3.9/site-packages/sympy/core/function.py\u001b[0m in \u001b[0;36m__new__\u001b[0;34m(cls, *args, **options)\u001b[0m\n\u001b[1;32m    471\u001b[0m \u001b[0;34m\u001b[0m\u001b[0m\n\u001b[1;32m    472\u001b[0m         \u001b[0mevaluate\u001b[0m \u001b[0;34m=\u001b[0m \u001b[0moptions\u001b[0m\u001b[0;34m.\u001b[0m\u001b[0mget\u001b[0m\u001b[0;34m(\u001b[0m\u001b[0;34m'evaluate'\u001b[0m\u001b[0;34m,\u001b[0m \u001b[0mglobal_parameters\u001b[0m\u001b[0;34m.\u001b[0m\u001b[0mevaluate\u001b[0m\u001b[0;34m)\u001b[0m\u001b[0;34m\u001b[0m\u001b[0;34m\u001b[0m\u001b[0m\n\u001b[0;32m--> 473\u001b[0;31m         \u001b[0mresult\u001b[0m \u001b[0;34m=\u001b[0m \u001b[0msuper\u001b[0m\u001b[0;34m(\u001b[0m\u001b[0;34m)\u001b[0m\u001b[0;34m.\u001b[0m\u001b[0m__new__\u001b[0m\u001b[0;34m(\u001b[0m\u001b[0mcls\u001b[0m\u001b[0;34m,\u001b[0m \u001b[0;34m*\u001b[0m\u001b[0margs\u001b[0m\u001b[0;34m,\u001b[0m \u001b[0;34m**\u001b[0m\u001b[0moptions\u001b[0m\u001b[0;34m)\u001b[0m\u001b[0;34m\u001b[0m\u001b[0;34m\u001b[0m\u001b[0m\n\u001b[0m\u001b[1;32m    474\u001b[0m         \u001b[0;32mif\u001b[0m \u001b[0mevaluate\u001b[0m \u001b[0;32mand\u001b[0m \u001b[0misinstance\u001b[0m\u001b[0;34m(\u001b[0m\u001b[0mresult\u001b[0m\u001b[0;34m,\u001b[0m \u001b[0mcls\u001b[0m\u001b[0;34m)\u001b[0m \u001b[0;32mand\u001b[0m \u001b[0mresult\u001b[0m\u001b[0;34m.\u001b[0m\u001b[0margs\u001b[0m\u001b[0;34m:\u001b[0m\u001b[0;34m\u001b[0m\u001b[0;34m\u001b[0m\u001b[0m\n\u001b[1;32m    475\u001b[0m             \u001b[0mpr2\u001b[0m \u001b[0;34m=\u001b[0m \u001b[0mmin\u001b[0m\u001b[0;34m(\u001b[0m\u001b[0mcls\u001b[0m\u001b[0;34m.\u001b[0m\u001b[0m_should_evalf\u001b[0m\u001b[0;34m(\u001b[0m\u001b[0ma\u001b[0m\u001b[0;34m)\u001b[0m \u001b[0;32mfor\u001b[0m \u001b[0ma\u001b[0m \u001b[0;32min\u001b[0m \u001b[0mresult\u001b[0m\u001b[0;34m.\u001b[0m\u001b[0margs\u001b[0m\u001b[0;34m)\u001b[0m\u001b[0;34m\u001b[0m\u001b[0;34m\u001b[0m\u001b[0m\n",
      "\u001b[0;32m~/.local/lib/python3.9/site-packages/sympy/core/cache.py\u001b[0m in \u001b[0;36mwrapper\u001b[0;34m(*args, **kwargs)\u001b[0m\n\u001b[1;32m     70\u001b[0m         \u001b[0;32mdef\u001b[0m \u001b[0mwrapper\u001b[0m\u001b[0;34m(\u001b[0m\u001b[0;34m*\u001b[0m\u001b[0margs\u001b[0m\u001b[0;34m,\u001b[0m \u001b[0;34m**\u001b[0m\u001b[0mkwargs\u001b[0m\u001b[0;34m)\u001b[0m\u001b[0;34m:\u001b[0m\u001b[0;34m\u001b[0m\u001b[0;34m\u001b[0m\u001b[0m\n\u001b[1;32m     71\u001b[0m             \u001b[0;32mtry\u001b[0m\u001b[0;34m:\u001b[0m\u001b[0;34m\u001b[0m\u001b[0;34m\u001b[0m\u001b[0m\n\u001b[0;32m---> 72\u001b[0;31m                 \u001b[0mretval\u001b[0m \u001b[0;34m=\u001b[0m \u001b[0mcfunc\u001b[0m\u001b[0;34m(\u001b[0m\u001b[0;34m*\u001b[0m\u001b[0margs\u001b[0m\u001b[0;34m,\u001b[0m \u001b[0;34m**\u001b[0m\u001b[0mkwargs\u001b[0m\u001b[0;34m)\u001b[0m\u001b[0;34m\u001b[0m\u001b[0;34m\u001b[0m\u001b[0m\n\u001b[0m\u001b[1;32m     73\u001b[0m             \u001b[0;32mexcept\u001b[0m \u001b[0mTypeError\u001b[0m \u001b[0;32mas\u001b[0m \u001b[0me\u001b[0m\u001b[0;34m:\u001b[0m\u001b[0;34m\u001b[0m\u001b[0;34m\u001b[0m\u001b[0m\n\u001b[1;32m     74\u001b[0m                 \u001b[0;32mif\u001b[0m \u001b[0;32mnot\u001b[0m \u001b[0me\u001b[0m\u001b[0;34m.\u001b[0m\u001b[0margs\u001b[0m \u001b[0;32mor\u001b[0m \u001b[0;32mnot\u001b[0m \u001b[0me\u001b[0m\u001b[0;34m.\u001b[0m\u001b[0margs\u001b[0m\u001b[0;34m[\u001b[0m\u001b[0;36m0\u001b[0m\u001b[0;34m]\u001b[0m\u001b[0;34m.\u001b[0m\u001b[0mstartswith\u001b[0m\u001b[0;34m(\u001b[0m\u001b[0;34m'unhashable type:'\u001b[0m\u001b[0;34m)\u001b[0m\u001b[0;34m:\u001b[0m\u001b[0;34m\u001b[0m\u001b[0;34m\u001b[0m\u001b[0m\n",
      "\u001b[0;32m~/.local/lib/python3.9/site-packages/sympy/core/function.py\u001b[0m in \u001b[0;36m__new__\u001b[0;34m(cls, *args, **options)\u001b[0m\n\u001b[1;32m    310\u001b[0m             \u001b[0mnargs\u001b[0m \u001b[0;34m=\u001b[0m \u001b[0mobj\u001b[0m\u001b[0;34m.\u001b[0m\u001b[0m_nargs\u001b[0m  \u001b[0;31m# note the underscore here\u001b[0m\u001b[0;34m\u001b[0m\u001b[0;34m\u001b[0m\u001b[0m\n\u001b[1;32m    311\u001b[0m         \u001b[0;31m# convert to FiniteSet\u001b[0m\u001b[0;34m\u001b[0m\u001b[0;34m\u001b[0m\u001b[0m\n\u001b[0;32m--> 312\u001b[0;31m         \u001b[0mobj\u001b[0m\u001b[0;34m.\u001b[0m\u001b[0mnargs\u001b[0m \u001b[0;34m=\u001b[0m \u001b[0mFiniteSet\u001b[0m\u001b[0;34m(\u001b[0m\u001b[0;34m*\u001b[0m\u001b[0mnargs\u001b[0m\u001b[0;34m)\u001b[0m \u001b[0;32mif\u001b[0m \u001b[0mnargs\u001b[0m \u001b[0;32melse\u001b[0m \u001b[0mNaturals0\u001b[0m\u001b[0;34m(\u001b[0m\u001b[0;34m)\u001b[0m\u001b[0;34m\u001b[0m\u001b[0;34m\u001b[0m\u001b[0m\n\u001b[0m\u001b[1;32m    313\u001b[0m         \u001b[0;32mreturn\u001b[0m \u001b[0mobj\u001b[0m\u001b[0;34m\u001b[0m\u001b[0;34m\u001b[0m\u001b[0m\n\u001b[1;32m    314\u001b[0m \u001b[0;34m\u001b[0m\u001b[0m\n",
      "\u001b[0;32m~/.local/lib/python3.9/site-packages/sympy/sets/sets.py\u001b[0m in \u001b[0;36m__new__\u001b[0;34m(cls, *args, **kwargs)\u001b[0m\n\u001b[1;32m   1793\u001b[0m                     \u001b[0;31m# e.g. i = class without args like `Interval`\u001b[0m\u001b[0;34m\u001b[0m\u001b[0;34m\u001b[0m\u001b[0m\n\u001b[1;32m   1794\u001b[0m                     \u001b[0mdargs\u001b[0m\u001b[0;34m[\u001b[0m\u001b[0mi\u001b[0m\u001b[0;34m]\u001b[0m \u001b[0;34m=\u001b[0m \u001b[0mi\u001b[0m\u001b[0;34m\u001b[0m\u001b[0;34m\u001b[0m\u001b[0m\n\u001b[0;32m-> 1795\u001b[0;31m         \u001b[0m_args_set\u001b[0m \u001b[0;34m=\u001b[0m \u001b[0mset\u001b[0m\u001b[0;34m(\u001b[0m\u001b[0mdargs\u001b[0m\u001b[0;34m.\u001b[0m\u001b[0mvalues\u001b[0m\u001b[0;34m(\u001b[0m\u001b[0;34m)\u001b[0m\u001b[0;34m)\u001b[0m\u001b[0;34m\u001b[0m\u001b[0;34m\u001b[0m\u001b[0m\n\u001b[0m\u001b[1;32m   1796\u001b[0m         \u001b[0margs\u001b[0m \u001b[0;34m=\u001b[0m \u001b[0mlist\u001b[0m\u001b[0;34m(\u001b[0m\u001b[0mordered\u001b[0m\u001b[0;34m(\u001b[0m\u001b[0m_args_set\u001b[0m\u001b[0;34m,\u001b[0m \u001b[0mSet\u001b[0m\u001b[0;34m.\u001b[0m\u001b[0m_infimum_key\u001b[0m\u001b[0;34m)\u001b[0m\u001b[0;34m)\u001b[0m\u001b[0;34m\u001b[0m\u001b[0;34m\u001b[0m\u001b[0m\n\u001b[1;32m   1797\u001b[0m         \u001b[0mobj\u001b[0m \u001b[0;34m=\u001b[0m \u001b[0mBasic\u001b[0m\u001b[0;34m.\u001b[0m\u001b[0m__new__\u001b[0m\u001b[0;34m(\u001b[0m\u001b[0mcls\u001b[0m\u001b[0;34m,\u001b[0m \u001b[0;34m*\u001b[0m\u001b[0margs\u001b[0m\u001b[0;34m)\u001b[0m\u001b[0;34m\u001b[0m\u001b[0;34m\u001b[0m\u001b[0m\n",
      "\u001b[0;32m~/.local/lib/python3.9/site-packages/sympy/core/numbers.py\u001b[0m in \u001b[0;36m__hash__\u001b[0;34m(self)\u001b[0m\n\u001b[1;32m   2292\u001b[0m         \u001b[0;32mreturn\u001b[0m \u001b[0mRational\u001b[0m\u001b[0;34m.\u001b[0m\u001b[0m__le__\u001b[0m\u001b[0;34m(\u001b[0m\u001b[0mself\u001b[0m\u001b[0;34m,\u001b[0m \u001b[0mother\u001b[0m\u001b[0;34m)\u001b[0m\u001b[0;34m\u001b[0m\u001b[0;34m\u001b[0m\u001b[0m\n\u001b[1;32m   2293\u001b[0m \u001b[0;34m\u001b[0m\u001b[0m\n\u001b[0;32m-> 2294\u001b[0;31m     \u001b[0;32mdef\u001b[0m \u001b[0m__hash__\u001b[0m\u001b[0;34m(\u001b[0m\u001b[0mself\u001b[0m\u001b[0;34m)\u001b[0m\u001b[0;34m:\u001b[0m\u001b[0;34m\u001b[0m\u001b[0;34m\u001b[0m\u001b[0m\n\u001b[0m\u001b[1;32m   2295\u001b[0m         \u001b[0;32mreturn\u001b[0m \u001b[0mhash\u001b[0m\u001b[0;34m(\u001b[0m\u001b[0mself\u001b[0m\u001b[0;34m.\u001b[0m\u001b[0mp\u001b[0m\u001b[0;34m)\u001b[0m\u001b[0;34m\u001b[0m\u001b[0;34m\u001b[0m\u001b[0m\n\u001b[1;32m   2296\u001b[0m \u001b[0;34m\u001b[0m\u001b[0m\n",
      "\u001b[0;31mKeyboardInterrupt\u001b[0m: "
     ]
    }
   ],
   "source": [
    "H = 0.000001\n",
    "Ih = integrate(f, 0, 1, H)\n",
    "I2h = integrate(f, 0, 1, 2 * H)\n",
    "print(\"М. Ньютона-Котеса:\")\n",
    "print(f\"Ih = {Ih}, I2h = {I2h}, Δ = {abs(I2h - Ih)}\")\n",
    "Hg = 0.000001\n",
    "print(\"М. Гаусса:\")\n",
    "print(f\"I = {integrategauss(f, 0, 1, Hg)}\")\n"
   ]
  },
  {
   "cell_type": "markdown",
   "id": "675de493",
   "metadata": {},
   "source": [
    "# Задача 6"
   ]
  },
  {
   "cell_type": "markdown",
   "id": "b42f0d1c",
   "metadata": {},
   "source": [
    "вариант 4"
   ]
  },
  {
   "cell_type": "code",
   "execution_count": 58,
   "id": "766e2de3",
   "metadata": {},
   "outputs": [],
   "source": [
    "import numpy as np\n",
    "import math"
   ]
  },
  {
   "cell_type": "code",
   "execution_count": 75,
   "id": "16aabe5d",
   "metadata": {},
   "outputs": [],
   "source": [
    "a = 1\n",
    "b = 2\n",
    "eps = 1e-4\n",
    "k = 1\n",
    "y0 = 1 + math.sqrt(2)\n",
    "target = np.linspace(a, b, 11)"
   ]
  },
  {
   "cell_type": "code",
   "execution_count": 76,
   "id": "bd95f61c",
   "metadata": {},
   "outputs": [],
   "source": [
    "f = lambda x, y: (-y**2+3*x*y+2*x**2) / (x*y - x**2)"
   ]
  },
  {
   "cell_type": "code",
   "execution_count": 77,
   "id": "ec1d9dd3",
   "metadata": {},
   "outputs": [],
   "source": [
    "def genX(n):\n",
    "    xx = []\n",
    "    for i in range(10):\n",
    "        xx.extend(list(np.linspace(target[i], target[i+1], n, endpoint=False)))\n",
    "\n",
    "    xx.append(b)\n",
    "    \n",
    "    return xx\n",
    "    \n",
    "def getStep(xx):\n",
    "    h = (b-a)/(len(xx)-1)\n",
    "    return h"
   ]
  },
  {
   "cell_type": "code",
   "execution_count": 78,
   "id": "a096ebb5",
   "metadata": {},
   "outputs": [],
   "source": [
    "def iterate(x, y, h):\n",
    "    f1 = f(x, y)\n",
    "    f2 = f(x + h / 2, y + h * f1 / 2)\n",
    "    return y + h * f2"
   ]
  },
  {
   "cell_type": "code",
   "execution_count": 79,
   "id": "dd2f72e6",
   "metadata": {},
   "outputs": [],
   "source": [
    "def rk(xx, h):\n",
    "    x = a\n",
    "    y_prev = y0\n",
    "    y_curr = y0\n",
    "\n",
    "    res = []\n",
    "    for x in xx:\n",
    "        for t in target:\n",
    "            if abs(t-x)<1e-8:\n",
    "                res.append(y_curr)\n",
    "        y_prev = y_curr\n",
    "        y_curr = iterate(x, y_curr, h)\n",
    "\n",
    "        yh = iterate(x, y_curr, h)\n",
    "        y2h = iterate(x, y_curr, 2*h)\n",
    "        # assert abs(y2h - yh) <= (2**k - 1) * eps\n",
    "    return res"
   ]
  },
  {
   "cell_type": "code",
   "execution_count": 80,
   "id": "12b5872d",
   "metadata": {},
   "outputs": [],
   "source": [
    "xx = genX(4096)\n",
    "res = rk(xx, getStep(xx))"
   ]
  },
  {
   "cell_type": "code",
   "execution_count": 81,
   "id": "1917ccc6",
   "metadata": {},
   "outputs": [],
   "source": [
    "xxmax = genX(2**20)\n",
    "resmax = rk(xxmax, getStep(xxmax))"
   ]
  },
  {
   "cell_type": "code",
   "execution_count": 82,
   "id": "2e2a806c",
   "metadata": {},
   "outputs": [
    {
     "data": {
      "text/plain": [
       "10485761"
      ]
     },
     "execution_count": 82,
     "metadata": {},
     "output_type": "execute_result"
    }
   ],
   "source": [
    "len(xxmax)"
   ]
  },
  {
   "cell_type": "code",
   "execution_count": 83,
   "id": "d70da40a",
   "metadata": {},
   "outputs": [],
   "source": [
    "diff = []\n",
    "for i in range(len(res)):\n",
    "    diff.append((res[i]-resmax[i]))"
   ]
  },
  {
   "cell_type": "code",
   "execution_count": 84,
   "id": "0b7f6ff2",
   "metadata": {},
   "outputs": [
    {
     "data": {
      "text/html": [
       "<div>\n",
       "<style scoped>\n",
       "    .dataframe tbody tr th:only-of-type {\n",
       "        vertical-align: middle;\n",
       "    }\n",
       "\n",
       "    .dataframe tbody tr th {\n",
       "        vertical-align: top;\n",
       "    }\n",
       "\n",
       "    .dataframe thead th {\n",
       "        text-align: right;\n",
       "    }\n",
       "</style>\n",
       "<table border=\"1\" class=\"dataframe\">\n",
       "  <thead>\n",
       "    <tr style=\"text-align: right;\">\n",
       "      <th></th>\n",
       "      <th>0</th>\n",
       "      <th>1</th>\n",
       "      <th>2</th>\n",
       "      <th>3</th>\n",
       "      <th>4</th>\n",
       "      <th>5</th>\n",
       "      <th>6</th>\n",
       "      <th>7</th>\n",
       "      <th>8</th>\n",
       "      <th>9</th>\n",
       "      <th>10</th>\n",
       "    </tr>\n",
       "  </thead>\n",
       "  <tbody>\n",
       "    <tr>\n",
       "      <th>x</th>\n",
       "      <td>1.000000</td>\n",
       "      <td>1.100000e+00</td>\n",
       "      <td>1.200000e+00</td>\n",
       "      <td>1.300000e+00</td>\n",
       "      <td>1.400000e+00</td>\n",
       "      <td>1.500000e+00</td>\n",
       "      <td>1.600000e+00</td>\n",
       "      <td>1.700000e+00</td>\n",
       "      <td>1.800000e+00</td>\n",
       "      <td>1.900000e+00</td>\n",
       "      <td>2.000000e+00</td>\n",
       "    </tr>\n",
       "    <tr>\n",
       "      <th>y</th>\n",
       "      <td>2.414214</td>\n",
       "      <td>2.655635e+00</td>\n",
       "      <td>2.897056e+00</td>\n",
       "      <td>3.138478e+00</td>\n",
       "      <td>3.379899e+00</td>\n",
       "      <td>3.621320e+00</td>\n",
       "      <td>3.862742e+00</td>\n",
       "      <td>4.104163e+00</td>\n",
       "      <td>4.345584e+00</td>\n",
       "      <td>4.587006e+00</td>\n",
       "      <td>4.828427e+00</td>\n",
       "    </tr>\n",
       "    <tr>\n",
       "      <th>y*</th>\n",
       "      <td>2.414214</td>\n",
       "      <td>2.655635e+00</td>\n",
       "      <td>2.897056e+00</td>\n",
       "      <td>3.138478e+00</td>\n",
       "      <td>3.379899e+00</td>\n",
       "      <td>3.621320e+00</td>\n",
       "      <td>3.862742e+00</td>\n",
       "      <td>4.104163e+00</td>\n",
       "      <td>4.345584e+00</td>\n",
       "      <td>4.587006e+00</td>\n",
       "      <td>4.828427e+00</td>\n",
       "    </tr>\n",
       "    <tr>\n",
       "      <th>d</th>\n",
       "      <td>0.000000</td>\n",
       "      <td>-9.458745e-11</td>\n",
       "      <td>-1.891749e-10</td>\n",
       "      <td>-2.837623e-10</td>\n",
       "      <td>-3.783498e-10</td>\n",
       "      <td>-4.729372e-10</td>\n",
       "      <td>-5.675247e-10</td>\n",
       "      <td>-4.611991e-10</td>\n",
       "      <td>-9.012524e-11</td>\n",
       "      <td>2.809486e-10</td>\n",
       "      <td>6.249170e-10</td>\n",
       "    </tr>\n",
       "  </tbody>\n",
       "</table>\n",
       "</div>"
      ],
      "text/plain": [
       "          0             1             2             3             4   \\\n",
       "x   1.000000  1.100000e+00  1.200000e+00  1.300000e+00  1.400000e+00   \n",
       "y   2.414214  2.655635e+00  2.897056e+00  3.138478e+00  3.379899e+00   \n",
       "y*  2.414214  2.655635e+00  2.897056e+00  3.138478e+00  3.379899e+00   \n",
       "d   0.000000 -9.458745e-11 -1.891749e-10 -2.837623e-10 -3.783498e-10   \n",
       "\n",
       "              5             6             7             8             9   \\\n",
       "x   1.500000e+00  1.600000e+00  1.700000e+00  1.800000e+00  1.900000e+00   \n",
       "y   3.621320e+00  3.862742e+00  4.104163e+00  4.345584e+00  4.587006e+00   \n",
       "y*  3.621320e+00  3.862742e+00  4.104163e+00  4.345584e+00  4.587006e+00   \n",
       "d  -4.729372e-10 -5.675247e-10 -4.611991e-10 -9.012524e-11  2.809486e-10   \n",
       "\n",
       "              10  \n",
       "x   2.000000e+00  \n",
       "y   4.828427e+00  \n",
       "y*  4.828427e+00  \n",
       "d   6.249170e-10  "
      ]
     },
     "execution_count": 84,
     "metadata": {},
     "output_type": "execute_result"
    }
   ],
   "source": [
    "import pandas as pd\n",
    "pd.DataFrame({'x': target, 'y': res, 'y*': resmax, 'd': diff}).transpose()"
   ]
  },
  {
   "cell_type": "code",
   "execution_count": 85,
   "id": "4a14c3f3",
   "metadata": {},
   "outputs": [],
   "source": [
    "N = []\n",
    "d = []\n",
    "\n",
    "for i in range(18):\n",
    "    xx = genX(2**i)\n",
    "    res = rk(xx, getStep(xx))\n",
    "    norm = 0\n",
    "    for j in range(len(res)):\n",
    "        norm = max(abs(res[j]-resmax[j]), norm)\n",
    "    d.append(norm)\n",
    "    N.append(2**i)"
   ]
  },
  {
   "cell_type": "code",
   "execution_count": 70,
   "id": "f1778a0f",
   "metadata": {},
   "outputs": [],
   "source": [
    "rate = [0]\n",
    "for i in range(len(d)-1):\n",
    "    rate.append(d[i]/d[i+1])"
   ]
  },
  {
   "cell_type": "code",
   "execution_count": 71,
   "id": "0609fbf6",
   "metadata": {},
   "outputs": [
    {
     "data": {
      "text/plain": [
       "[0,\n",
       " 4.859167541040563,\n",
       " 4.437932500852455,\n",
       " 4.21615162493506,\n",
       " 4.106806025543876,\n",
       " 4.05302213720692,\n",
       " 4.026408650400513,\n",
       " 4.013178200269677,\n",
       " 4.0065839763745235,\n",
       " 4.003295327939531,\n",
       " 4.001671143595259,\n",
       " 4.000932577109104,\n",
       " 4.00093254860221,\n",
       " 4.002886292669289,\n",
       " 4.008570887394639,\n",
       " 4.046369036213834,\n",
       " 4.213401506996771,\n",
       " 4.133481646273637]"
      ]
     },
     "execution_count": 71,
     "metadata": {},
     "output_type": "execute_result"
    }
   ],
   "source": [
    "rate"
   ]
  },
  {
   "cell_type": "code",
   "execution_count": 72,
   "id": "ba9397e1",
   "metadata": {},
   "outputs": [
    {
     "data": {
      "text/html": [
       "<div>\n",
       "<style scoped>\n",
       "    .dataframe tbody tr th:only-of-type {\n",
       "        vertical-align: middle;\n",
       "    }\n",
       "\n",
       "    .dataframe tbody tr th {\n",
       "        vertical-align: top;\n",
       "    }\n",
       "\n",
       "    .dataframe thead th {\n",
       "        text-align: right;\n",
       "    }\n",
       "</style>\n",
       "<table border=\"1\" class=\"dataframe\">\n",
       "  <thead>\n",
       "    <tr style=\"text-align: right;\">\n",
       "      <th></th>\n",
       "      <th>N</th>\n",
       "      <th>d</th>\n",
       "      <th>rate</th>\n",
       "    </tr>\n",
       "  </thead>\n",
       "  <tbody>\n",
       "    <tr>\n",
       "      <th>0</th>\n",
       "      <td>1</td>\n",
       "      <td>1.134256e-02</td>\n",
       "      <td>0.000000</td>\n",
       "    </tr>\n",
       "    <tr>\n",
       "      <th>1</th>\n",
       "      <td>2</td>\n",
       "      <td>2.334260e-03</td>\n",
       "      <td>4.859168</td>\n",
       "    </tr>\n",
       "    <tr>\n",
       "      <th>2</th>\n",
       "      <td>4</td>\n",
       "      <td>5.259791e-04</td>\n",
       "      <td>4.437933</td>\n",
       "    </tr>\n",
       "    <tr>\n",
       "      <th>3</th>\n",
       "      <td>8</td>\n",
       "      <td>1.247534e-04</td>\n",
       "      <td>4.216152</td>\n",
       "    </tr>\n",
       "    <tr>\n",
       "      <th>4</th>\n",
       "      <td>16</td>\n",
       "      <td>3.037722e-05</td>\n",
       "      <td>4.106806</td>\n",
       "    </tr>\n",
       "    <tr>\n",
       "      <th>5</th>\n",
       "      <td>32</td>\n",
       "      <td>7.494956e-06</td>\n",
       "      <td>4.053022</td>\n",
       "    </tr>\n",
       "    <tr>\n",
       "      <th>6</th>\n",
       "      <td>64</td>\n",
       "      <td>1.861450e-06</td>\n",
       "      <td>4.026409</td>\n",
       "    </tr>\n",
       "    <tr>\n",
       "      <th>7</th>\n",
       "      <td>128</td>\n",
       "      <td>4.638343e-07</td>\n",
       "      <td>4.013178</td>\n",
       "    </tr>\n",
       "    <tr>\n",
       "      <th>8</th>\n",
       "      <td>256</td>\n",
       "      <td>1.157680e-07</td>\n",
       "      <td>4.006584</td>\n",
       "    </tr>\n",
       "    <tr>\n",
       "      <th>9</th>\n",
       "      <td>512</td>\n",
       "      <td>2.891818e-08</td>\n",
       "      <td>4.003295</td>\n",
       "    </tr>\n",
       "    <tr>\n",
       "      <th>10</th>\n",
       "      <td>1024</td>\n",
       "      <td>7.226526e-09</td>\n",
       "      <td>4.001671</td>\n",
       "    </tr>\n",
       "    <tr>\n",
       "      <th>11</th>\n",
       "      <td>2048</td>\n",
       "      <td>1.806210e-09</td>\n",
       "      <td>4.000933</td>\n",
       "    </tr>\n",
       "    <tr>\n",
       "      <th>12</th>\n",
       "      <td>4096</td>\n",
       "      <td>4.514473e-10</td>\n",
       "      <td>4.000933</td>\n",
       "    </tr>\n",
       "    <tr>\n",
       "      <th>13</th>\n",
       "      <td>8192</td>\n",
       "      <td>1.127805e-10</td>\n",
       "      <td>4.002886</td>\n",
       "    </tr>\n",
       "    <tr>\n",
       "      <th>14</th>\n",
       "      <td>16384</td>\n",
       "      <td>2.813483e-11</td>\n",
       "      <td>4.008571</td>\n",
       "    </tr>\n",
       "    <tr>\n",
       "      <th>15</th>\n",
       "      <td>32768</td>\n",
       "      <td>6.953105e-12</td>\n",
       "      <td>4.046369</td>\n",
       "    </tr>\n",
       "    <tr>\n",
       "      <th>16</th>\n",
       "      <td>65536</td>\n",
       "      <td>1.650236e-12</td>\n",
       "      <td>4.213402</td>\n",
       "    </tr>\n",
       "    <tr>\n",
       "      <th>17</th>\n",
       "      <td>131072</td>\n",
       "      <td>3.992362e-13</td>\n",
       "      <td>4.133482</td>\n",
       "    </tr>\n",
       "  </tbody>\n",
       "</table>\n",
       "</div>"
      ],
      "text/plain": [
       "         N             d      rate\n",
       "0        1  1.134256e-02  0.000000\n",
       "1        2  2.334260e-03  4.859168\n",
       "2        4  5.259791e-04  4.437933\n",
       "3        8  1.247534e-04  4.216152\n",
       "4       16  3.037722e-05  4.106806\n",
       "5       32  7.494956e-06  4.053022\n",
       "6       64  1.861450e-06  4.026409\n",
       "7      128  4.638343e-07  4.013178\n",
       "8      256  1.157680e-07  4.006584\n",
       "9      512  2.891818e-08  4.003295\n",
       "10    1024  7.226526e-09  4.001671\n",
       "11    2048  1.806210e-09  4.000933\n",
       "12    4096  4.514473e-10  4.000933\n",
       "13    8192  1.127805e-10  4.002886\n",
       "14   16384  2.813483e-11  4.008571\n",
       "15   32768  6.953105e-12  4.046369\n",
       "16   65536  1.650236e-12  4.213402\n",
       "17  131072  3.992362e-13  4.133482"
      ]
     },
     "execution_count": 72,
     "metadata": {},
     "output_type": "execute_result"
    }
   ],
   "source": [
    "pd.DataFrame({'N': N, 'd': d, 'rate': rate})"
   ]
  },
  {
   "cell_type": "code",
   "execution_count": 73,
   "id": "95215572",
   "metadata": {},
   "outputs": [
    {
     "data": {
      "text/plain": [
       "0"
      ]
     },
     "execution_count": 73,
     "metadata": {},
     "output_type": "execute_result"
    }
   ],
   "source": [
    "norm = max(diff)\n",
    "norm"
   ]
  }
 ],
 "metadata": {
  "kernelspec": {
   "display_name": "Python 3 (ipykernel)",
   "language": "python",
   "name": "python3"
  },
  "language_info": {
   "codemirror_mode": {
    "name": "ipython",
    "version": 3
   },
   "file_extension": ".py",
   "mimetype": "text/x-python",
   "name": "python",
   "nbconvert_exporter": "python",
   "pygments_lexer": "ipython3",
   "version": "3.9.7"
  }
 },
 "nbformat": 4,
 "nbformat_minor": 5
}
