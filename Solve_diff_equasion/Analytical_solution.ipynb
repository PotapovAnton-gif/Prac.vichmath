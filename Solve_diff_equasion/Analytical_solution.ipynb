{
 "cells": [
  {
   "cell_type": "markdown",
   "metadata": {},
   "source": [
    "Вычислить с заданой погрешностью решение задачи Коши\n",
    "\n",
    "$\\left\\{ \\begin{gathered} \\frac{dy}{dx} = -\\frac{y^2 + 4x(x + 1)}{y} \\\\ y(1) = 12 \\end{gathered}\\right. ,\\space \\epsilon = 10^{-4}, \\space x \\in (1, 2)$"
   ]
  },
  {
   "cell_type": "markdown",
   "metadata": {},
   "source": [
    "Аналитическое решение данного уравнения:\n",
    "\n",
    "$y(x) = 2 \\cdot \\sqrt{x^2 + 35e^{2 - 2x}} $\n",
    "\n"
   ]
  },
  {
   "cell_type": "code",
   "execution_count": 17,
   "metadata": {},
   "outputs": [],
   "source": [
    "import numpy as np\n",
    "import math"
   ]
  },
  {
   "cell_type": "code",
   "execution_count": 18,
   "metadata": {},
   "outputs": [
    {
     "data": {
      "text/plain": [
       "5.911593664412819"
      ]
     },
     "execution_count": 18,
     "metadata": {},
     "output_type": "execute_result"
    }
   ],
   "source": [
    "def solve(x):\n",
    "    return 2*np.sqrt(x**2 + 35*np.e**(2 - 2*x))\n",
    "\n",
    "solve(2)"
   ]
  },
  {
   "cell_type": "code",
   "execution_count": 19,
   "metadata": {},
   "outputs": [],
   "source": [
    "a = 1\n",
    "b = 2\n",
    "eps = 1e-4\n",
    "k = 1\n",
    "y0 = 12\n",
    "target = np.linspace(a, b, 11)\n",
    "\n",
    "def f(x,y):\n",
    "    if y != 0:\n",
    "        return -(y**2 + 4*x*(x + 1))/y\n",
    "    else:\n",
    "        print('error')\n",
    "        return 0"
   ]
  },
  {
   "cell_type": "code",
   "execution_count": 20,
   "metadata": {},
   "outputs": [],
   "source": [
    "def genX(n):\n",
    "    xx = []\n",
    "    for i in range(10):\n",
    "        xx.extend(list(np.linspace(target[i], target[i+1], n, endpoint=False)))\n",
    "\n",
    "    xx.append(b)\n",
    "    \n",
    "    return xx\n",
    "    \n",
    "def getStep(xx):\n",
    "    h = (b-a)/(len(xx)-1)\n",
    "    return h"
   ]
  },
  {
   "cell_type": "code",
   "execution_count": 21,
   "metadata": {},
   "outputs": [],
   "source": [
    "def iterate(x, y, h):\n",
    "    f1 = f(x,y)\n",
    "    f2 = f(x + h/3, y + h/3*f1)\n",
    "    f3 = f(x + 2*h/3, y + 2*h/3*f2)\n",
    "    return y + h/4*(f1 + 3*f3)"
   ]
  },
  {
   "cell_type": "code",
   "execution_count": 22,
   "metadata": {},
   "outputs": [],
   "source": [
    "def rk(xx, h):\n",
    "    x = a\n",
    "    y_prev = y0\n",
    "    y_curr = y0\n",
    "\n",
    "    res = []\n",
    "    for x in xx:\n",
    "        for t in target:\n",
    "            if abs(t-x)<1e-8:\n",
    "                res.append(y_curr)\n",
    "        y_prev = y_curr\n",
    "        y_curr = iterate(x, y_curr, h)\n",
    "\n",
    "        yh = iterate(x, y_curr, h)\n",
    "        y2h = iterate(x, y_curr, 2*h)\n",
    "        # assert abs(y2h - yh) <= (2**k - 1) * eps\n",
    "    return res"
   ]
  },
  {
   "cell_type": "code",
   "execution_count": null,
   "metadata": {},
   "outputs": [],
   "source": [
    "xx = genX(4096)\n",
    "res = rk(xx, getStep(xx))"
   ]
  },
  {
   "cell_type": "code",
   "execution_count": null,
   "metadata": {},
   "outputs": [],
   "source": [
    "xxmax = genX(2**20)\n",
    "resmax = rk(xxmax, getStep(xxmax))"
   ]
  },
  {
   "cell_type": "code",
   "execution_count": null,
   "metadata": {},
   "outputs": [
    {
     "data": {
      "text/plain": [
       "10485761"
      ]
     },
     "execution_count": 9,
     "metadata": {},
     "output_type": "execute_result"
    }
   ],
   "source": [
    "len(xxmax)"
   ]
  },
  {
   "cell_type": "code",
   "execution_count": null,
   "metadata": {},
   "outputs": [],
   "source": [
    "diff = []\n",
    "for i in range(len(res)):\n",
    "    diff.append((res[i]-resmax[i]))"
   ]
  },
  {
   "cell_type": "code",
   "execution_count": null,
   "metadata": {},
   "outputs": [
    {
     "data": {
      "text/html": [
       "<div>\n",
       "<style scoped>\n",
       "    .dataframe tbody tr th:only-of-type {\n",
       "        vertical-align: middle;\n",
       "    }\n",
       "\n",
       "    .dataframe tbody tr th {\n",
       "        vertical-align: top;\n",
       "    }\n",
       "\n",
       "    .dataframe thead th {\n",
       "        text-align: right;\n",
       "    }\n",
       "</style>\n",
       "<table border=\"1\" class=\"dataframe\">\n",
       "  <thead>\n",
       "    <tr style=\"text-align: right;\">\n",
       "      <th></th>\n",
       "      <th>0</th>\n",
       "      <th>1</th>\n",
       "      <th>2</th>\n",
       "      <th>3</th>\n",
       "      <th>4</th>\n",
       "      <th>5</th>\n",
       "      <th>6</th>\n",
       "      <th>7</th>\n",
       "      <th>8</th>\n",
       "      <th>9</th>\n",
       "      <th>10</th>\n",
       "    </tr>\n",
       "  </thead>\n",
       "  <tbody>\n",
       "    <tr>\n",
       "      <th>x</th>\n",
       "      <td>1.0</td>\n",
       "      <td>1.100000e+00</td>\n",
       "      <td>1.200000e+00</td>\n",
       "      <td>1.300000e+00</td>\n",
       "      <td>1.400000e+00</td>\n",
       "      <td>1.500000e+00</td>\n",
       "      <td>1.600000e+00</td>\n",
       "      <td>1.700000e+00</td>\n",
       "      <td>1.800000e+00</td>\n",
       "      <td>1.900000e+00</td>\n",
       "      <td>2.000000e+00</td>\n",
       "    </tr>\n",
       "    <tr>\n",
       "      <th>y</th>\n",
       "      <td>12.0</td>\n",
       "      <td>1.092988e+01</td>\n",
       "      <td>9.980221e+00</td>\n",
       "      <td>9.142955e+00</td>\n",
       "      <td>8.411067e+00</td>\n",
       "      <td>7.778375e+00</td>\n",
       "      <td>7.239281e+00</td>\n",
       "      <td>6.788488e+00</td>\n",
       "      <td>6.420710e+00</td>\n",
       "      <td>6.130403e+00</td>\n",
       "      <td>5.911594e+00</td>\n",
       "    </tr>\n",
       "    <tr>\n",
       "      <th>y*</th>\n",
       "      <td>12.0</td>\n",
       "      <td>1.092988e+01</td>\n",
       "      <td>9.980221e+00</td>\n",
       "      <td>9.142955e+00</td>\n",
       "      <td>8.411067e+00</td>\n",
       "      <td>7.778375e+00</td>\n",
       "      <td>7.239281e+00</td>\n",
       "      <td>6.788488e+00</td>\n",
       "      <td>6.420710e+00</td>\n",
       "      <td>6.130403e+00</td>\n",
       "      <td>5.911594e+00</td>\n",
       "    </tr>\n",
       "    <tr>\n",
       "      <th>d</th>\n",
       "      <td>0.0</td>\n",
       "      <td>4.156675e-13</td>\n",
       "      <td>7.158718e-13</td>\n",
       "      <td>7.105427e-13</td>\n",
       "      <td>-4.831691e-13</td>\n",
       "      <td>-1.456613e-13</td>\n",
       "      <td>-1.900702e-13</td>\n",
       "      <td>-5.053735e-13</td>\n",
       "      <td>-8.189005e-13</td>\n",
       "      <td>-9.166001e-13</td>\n",
       "      <td>-9.245937e-13</td>\n",
       "    </tr>\n",
       "  </tbody>\n",
       "</table>\n",
       "</div>"
      ],
      "text/plain": [
       "      0             1             2             3             4   \\\n",
       "x    1.0  1.100000e+00  1.200000e+00  1.300000e+00  1.400000e+00   \n",
       "y   12.0  1.092988e+01  9.980221e+00  9.142955e+00  8.411067e+00   \n",
       "y*  12.0  1.092988e+01  9.980221e+00  9.142955e+00  8.411067e+00   \n",
       "d    0.0  4.156675e-13  7.158718e-13  7.105427e-13 -4.831691e-13   \n",
       "\n",
       "              5             6             7             8             9   \\\n",
       "x   1.500000e+00  1.600000e+00  1.700000e+00  1.800000e+00  1.900000e+00   \n",
       "y   7.778375e+00  7.239281e+00  6.788488e+00  6.420710e+00  6.130403e+00   \n",
       "y*  7.778375e+00  7.239281e+00  6.788488e+00  6.420710e+00  6.130403e+00   \n",
       "d  -1.456613e-13 -1.900702e-13 -5.053735e-13 -8.189005e-13 -9.166001e-13   \n",
       "\n",
       "              10  \n",
       "x   2.000000e+00  \n",
       "y   5.911594e+00  \n",
       "y*  5.911594e+00  \n",
       "d  -9.245937e-13  "
      ]
     },
     "execution_count": 11,
     "metadata": {},
     "output_type": "execute_result"
    }
   ],
   "source": [
    "import pandas as pd\n",
    "pd.DataFrame({'x': target, 'y': res, 'y*': resmax, 'd': diff}).transpose()"
   ]
  },
  {
   "cell_type": "code",
   "execution_count": null,
   "metadata": {},
   "outputs": [],
   "source": [
    "N = []\n",
    "d = []\n",
    "\n",
    "for i in range(18):\n",
    "    xx = genX(2**i)\n",
    "    res = rk(xx, getStep(xx))\n",
    "    norm = 0\n",
    "    for j in range(len(res)):\n",
    "        norm = max(abs(res[j]-resmax[j]), norm)\n",
    "    d.append(norm)\n",
    "    N.append(2**i)"
   ]
  },
  {
   "cell_type": "code",
   "execution_count": null,
   "metadata": {},
   "outputs": [
    {
     "data": {
      "text/plain": [
       "[0,\n",
       " 8.379702660289992,\n",
       " 8.189338504107182,\n",
       " 8.094478243091993,\n",
       " 8.047097662658269,\n",
       " 8.022813079879171,\n",
       " 8.005638011355972,\n",
       " 7.956756541848614,\n",
       " 7.630346850035393,\n",
       " 5.823910482921083,\n",
       " 2.5174203113417346,\n",
       " 1.2319634703196347,\n",
       " 1.0518731988472623,\n",
       " 0.9621072088724584,\n",
       " 1.0207547169811322,\n",
       " 0.9540954095409541,\n",
       " 1.0354147250698975,\n",
       " 0.8298530549110595]"
      ]
     },
     "execution_count": 13,
     "metadata": {},
     "output_type": "execute_result"
    }
   ],
   "source": [
    "rate = [0]\n",
    "for i in range(len(d)-1):\n",
    "    rate.append(d[i]/d[i+1])\n",
    "\n",
    "rate"
   ]
  },
  {
   "cell_type": "code",
   "execution_count": null,
   "metadata": {},
   "outputs": [
    {
     "data": {
      "text/html": [
       "<div>\n",
       "<style scoped>\n",
       "    .dataframe tbody tr th:only-of-type {\n",
       "        vertical-align: middle;\n",
       "    }\n",
       "\n",
       "    .dataframe tbody tr th {\n",
       "        vertical-align: top;\n",
       "    }\n",
       "\n",
       "    .dataframe thead th {\n",
       "        text-align: right;\n",
       "    }\n",
       "</style>\n",
       "<table border=\"1\" class=\"dataframe\">\n",
       "  <thead>\n",
       "    <tr style=\"text-align: right;\">\n",
       "      <th></th>\n",
       "      <th>N</th>\n",
       "      <th>d</th>\n",
       "      <th>rate</th>\n",
       "    </tr>\n",
       "  </thead>\n",
       "  <tbody>\n",
       "    <tr>\n",
       "      <th>0</th>\n",
       "      <td>1</td>\n",
       "      <td>3.061901e-04</td>\n",
       "      <td>0.000000</td>\n",
       "    </tr>\n",
       "    <tr>\n",
       "      <th>1</th>\n",
       "      <td>2</td>\n",
       "      <td>3.653949e-05</td>\n",
       "      <td>8.379703</td>\n",
       "    </tr>\n",
       "    <tr>\n",
       "      <th>2</th>\n",
       "      <td>4</td>\n",
       "      <td>4.461837e-06</td>\n",
       "      <td>8.189339</td>\n",
       "    </tr>\n",
       "    <tr>\n",
       "      <th>3</th>\n",
       "      <td>8</td>\n",
       "      <td>5.512198e-07</td>\n",
       "      <td>8.094478</td>\n",
       "    </tr>\n",
       "    <tr>\n",
       "      <th>4</th>\n",
       "      <td>16</td>\n",
       "      <td>6.849921e-08</td>\n",
       "      <td>8.047098</td>\n",
       "    </tr>\n",
       "    <tr>\n",
       "      <th>5</th>\n",
       "      <td>32</td>\n",
       "      <td>8.538054e-09</td>\n",
       "      <td>8.022813</td>\n",
       "    </tr>\n",
       "    <tr>\n",
       "      <th>6</th>\n",
       "      <td>64</td>\n",
       "      <td>1.066505e-09</td>\n",
       "      <td>8.005638</td>\n",
       "    </tr>\n",
       "    <tr>\n",
       "      <th>7</th>\n",
       "      <td>128</td>\n",
       "      <td>1.340377e-10</td>\n",
       "      <td>7.956757</td>\n",
       "    </tr>\n",
       "    <tr>\n",
       "      <th>8</th>\n",
       "      <td>256</td>\n",
       "      <td>1.756639e-11</td>\n",
       "      <td>7.630347</td>\n",
       "    </tr>\n",
       "    <tr>\n",
       "      <th>9</th>\n",
       "      <td>512</td>\n",
       "      <td>3.016254e-12</td>\n",
       "      <td>5.823910</td>\n",
       "    </tr>\n",
       "    <tr>\n",
       "      <th>10</th>\n",
       "      <td>1024</td>\n",
       "      <td>1.198153e-12</td>\n",
       "      <td>2.517420</td>\n",
       "    </tr>\n",
       "    <tr>\n",
       "      <th>11</th>\n",
       "      <td>2048</td>\n",
       "      <td>9.725554e-13</td>\n",
       "      <td>1.231963</td>\n",
       "    </tr>\n",
       "    <tr>\n",
       "      <th>12</th>\n",
       "      <td>4096</td>\n",
       "      <td>9.245937e-13</td>\n",
       "      <td>1.051873</td>\n",
       "    </tr>\n",
       "    <tr>\n",
       "      <th>13</th>\n",
       "      <td>8192</td>\n",
       "      <td>9.610091e-13</td>\n",
       "      <td>0.962107</td>\n",
       "    </tr>\n",
       "    <tr>\n",
       "      <th>14</th>\n",
       "      <td>16384</td>\n",
       "      <td>9.414691e-13</td>\n",
       "      <td>1.020755</td>\n",
       "    </tr>\n",
       "    <tr>\n",
       "      <th>15</th>\n",
       "      <td>32768</td>\n",
       "      <td>9.867662e-13</td>\n",
       "      <td>0.954095</td>\n",
       "    </tr>\n",
       "    <tr>\n",
       "      <th>16</th>\n",
       "      <td>65536</td>\n",
       "      <td>9.530154e-13</td>\n",
       "      <td>1.035415</td>\n",
       "    </tr>\n",
       "    <tr>\n",
       "      <th>17</th>\n",
       "      <td>131072</td>\n",
       "      <td>1.148415e-12</td>\n",
       "      <td>0.829853</td>\n",
       "    </tr>\n",
       "  </tbody>\n",
       "</table>\n",
       "</div>"
      ],
      "text/plain": [
       "         N             d      rate\n",
       "0        1  3.061901e-04  0.000000\n",
       "1        2  3.653949e-05  8.379703\n",
       "2        4  4.461837e-06  8.189339\n",
       "3        8  5.512198e-07  8.094478\n",
       "4       16  6.849921e-08  8.047098\n",
       "5       32  8.538054e-09  8.022813\n",
       "6       64  1.066505e-09  8.005638\n",
       "7      128  1.340377e-10  7.956757\n",
       "8      256  1.756639e-11  7.630347\n",
       "9      512  3.016254e-12  5.823910\n",
       "10    1024  1.198153e-12  2.517420\n",
       "11    2048  9.725554e-13  1.231963\n",
       "12    4096  9.245937e-13  1.051873\n",
       "13    8192  9.610091e-13  0.962107\n",
       "14   16384  9.414691e-13  1.020755\n",
       "15   32768  9.867662e-13  0.954095\n",
       "16   65536  9.530154e-13  1.035415\n",
       "17  131072  1.148415e-12  0.829853"
      ]
     },
     "execution_count": 14,
     "metadata": {},
     "output_type": "execute_result"
    }
   ],
   "source": [
    "pd.DataFrame({'N': N, 'd': d, 'rate': rate})"
   ]
  },
  {
   "cell_type": "code",
   "execution_count": null,
   "metadata": {},
   "outputs": [
    {
     "data": {
      "text/plain": [
       "7.158718062783009e-13"
      ]
     },
     "execution_count": 15,
     "metadata": {},
     "output_type": "execute_result"
    }
   ],
   "source": [
    "norm = max(diff)\n",
    "norm"
   ]
  }
 ],
 "metadata": {
  "interpreter": {
   "hash": "469b108ee6088b42383d6649ea000749c485900e46f50462f3ca26dcec417061"
  },
  "kernelspec": {
   "display_name": "Python 3.9.7 64-bit ('base': conda)",
   "language": "python",
   "name": "python3"
  },
  "language_info": {
   "codemirror_mode": {
    "name": "ipython",
    "version": 3
   },
   "file_extension": ".py",
   "mimetype": "text/x-python",
   "name": "python",
   "nbconvert_exporter": "python",
   "pygments_lexer": "ipython3",
   "version": "3.8.8"
  },
  "orig_nbformat": 4
 },
 "nbformat": 4,
 "nbformat_minor": 2
}
