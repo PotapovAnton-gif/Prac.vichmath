{
 "cells": [
  {
   "cell_type": "markdown",
   "metadata": {},
   "source": [
    "Вычислить с заданой погрешностью решение задачи Коши\n",
    "\n",
    "$\\left\\{ \\begin{gathered} \\frac{dy}{dx} = -\\frac{y^2 + 4x(x + 1)}{y} \\\\ y(1) = 12 \\end{gathered}\\right. ,\\space \\epsilon = 10^{-4}, \\space x \\in (1, 2)$"
   ]
  },
  {
   "cell_type": "code",
   "execution_count": 15,
   "metadata": {},
   "outputs": [],
   "source": [
    "import numpy as np\n",
    "import math"
   ]
  },
  {
   "cell_type": "code",
   "execution_count": 16,
   "metadata": {},
   "outputs": [],
   "source": [
    "a = 1\n",
    "b = 2\n",
    "eps = 1e-4\n",
    "k = 1\n",
    "y0 = 12\n",
    "target = np.linspace(a, b, 11)\n",
    "\n",
    "def f(x,y):\n",
    "    if y != 0:\n",
    "        return (-y**2 + 4*x*(x + 1))/y\n",
    "    else:\n",
    "        print('error')\n",
    "        return 0"
   ]
  },
  {
   "cell_type": "code",
   "execution_count": 17,
   "metadata": {},
   "outputs": [],
   "source": [
    "def genX(n):\n",
    "    xx = []\n",
    "    for i in range(10):\n",
    "        xx.extend(list(np.linspace(target[i], target[i+1], n, endpoint=False)))\n",
    "\n",
    "    xx.append(b)\n",
    "    \n",
    "    return xx\n",
    "    \n",
    "def getStep(xx):\n",
    "    h = (b-a)/(len(xx)-1)\n",
    "    return h"
   ]
  },
  {
   "cell_type": "code",
   "execution_count": 18,
   "metadata": {},
   "outputs": [],
   "source": [
    "def iterate(x, y, h):\n",
    "    f1 = f(x,y)\n",
    "    f2 = f(x + h/3, y + h/3*f1)\n",
    "    f3 = f(x + 2*h/3, y + 2*h/3*f2)\n",
    "    return y + h/4*(f1 + 3*f3)"
   ]
  },
  {
   "cell_type": "code",
   "execution_count": 19,
   "metadata": {},
   "outputs": [],
   "source": [
    "def rk(xx, h):\n",
    "    x = a\n",
    "    y_prev = y0\n",
    "    y_curr = y0\n",
    "\n",
    "    res = []\n",
    "    for x in xx:\n",
    "        for t in target:\n",
    "            if abs(t-x)<1e-8:\n",
    "                res.append(y_curr)\n",
    "        y_prev = y_curr\n",
    "        y_curr = iterate(x, y_curr, h)\n",
    "\n",
    "        yh = iterate(x, y_curr, h)\n",
    "        y2h = iterate(x, y_curr, 2*h)\n",
    "        # assert abs(y2h - yh) <= (2**k - 1) * eps\n",
    "    return res"
   ]
  },
  {
   "cell_type": "code",
   "execution_count": 20,
   "metadata": {},
   "outputs": [],
   "source": [
    "xx = genX(4096)\n",
    "res = rk(xx, getStep(xx))"
   ]
  },
  {
   "cell_type": "code",
   "execution_count": 21,
   "metadata": {},
   "outputs": [],
   "source": [
    "xxmax = genX(2**20)\n",
    "resmax = rk(xxmax, getStep(xxmax))"
   ]
  },
  {
   "cell_type": "code",
   "execution_count": 22,
   "metadata": {},
   "outputs": [
    {
     "data": {
      "text/plain": [
       "10485761"
      ]
     },
     "execution_count": 22,
     "metadata": {},
     "output_type": "execute_result"
    }
   ],
   "source": [
    "len(xxmax)"
   ]
  }
 ],
 "metadata": {
  "interpreter": {
   "hash": "469b108ee6088b42383d6649ea000749c485900e46f50462f3ca26dcec417061"
  },
  "kernelspec": {
   "display_name": "Python 3.9.7 64-bit ('base': conda)",
   "language": "python",
   "name": "python3"
  },
  "language_info": {
   "codemirror_mode": {
    "name": "ipython",
    "version": 3
   },
   "file_extension": ".py",
   "mimetype": "text/x-python",
   "name": "python",
   "nbconvert_exporter": "python",
   "pygments_lexer": "ipython3",
   "version": "3.9.7"
  },
  "orig_nbformat": 4
 },
 "nbformat": 4,
 "nbformat_minor": 2
}
