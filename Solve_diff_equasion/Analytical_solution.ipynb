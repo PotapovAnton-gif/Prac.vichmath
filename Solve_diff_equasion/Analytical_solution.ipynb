{
 "cells": [
  {
   "cell_type": "markdown",
   "metadata": {},
   "source": [
    "Вычислить с заданой погрешностью решение задачи Коши\n",
    "\n",
    "$\\left\\{ \\begin{gathered} \\frac{dy}{dx} = -\\frac{y^2 + 4x(x + 1)}{y} \\\\ y(1) = 12 \\end{gathered}\\right. ,\\space \\epsilon = 10^{-4}, \\space x \\in (1, 2)$"
   ]
  },
  {
   "cell_type": "markdown",
   "metadata": {},
   "source": [
    "Аналитическое решение данного уравнения:\n",
    "\n",
    "$y(x) = 2 \\cdot \\sqrt{x^2 + 35e^{2 - 2x}} $\n",
    "\n"
   ]
  },
  {
   "cell_type": "code",
   "execution_count": 17,
   "metadata": {},
   "outputs": [],
   "source": [
    "import numpy as np\n",
    "import math"
   ]
  },
  {
   "cell_type": "code",
   "execution_count": 18,
   "metadata": {},
   "outputs": [
    {
     "data": {
      "text/plain": [
       "5.911593664412819"
      ]
     },
     "execution_count": 18,
     "metadata": {},
     "output_type": "execute_result"
    }
   ],
   "source": [
    "def solve(x):\n",
    "    return 2*np.sqrt(x**2 + 35*np.e**(2 - 2*x))\n",
    "\n",
    "solve(2)"
   ]
  },
  {
   "cell_type": "code",
   "execution_count": 19,
   "metadata": {},
   "outputs": [],
   "source": [
    "a = 1\n",
    "b = 2\n",
    "eps = 1e-4\n",
    "k = 1\n",
    "y0 = 12\n",
    "target = np.linspace(a, b, 11)\n",
    "\n",
    "def f(x,y):\n",
    "    if y != 0:\n",
    "        return -(y**2 + 4*x*(x + 1))/y\n",
    "    else:\n",
    "        print('error')\n",
    "        return 0"
   ]
  },
  {
   "cell_type": "code",
   "execution_count": 20,
   "metadata": {},
   "outputs": [],
   "source": [
    "def genX(n):\n",
    "    xx = []\n",
    "    for i in range(10):\n",
    "        xx.extend(list(np.linspace(target[i], target[i+1], n, endpoint=False)))\n",
    "\n",
    "    xx.append(b)\n",
    "    \n",
    "    return xx\n",
    "    \n",
    "def getStep(xx):\n",
    "    h = (b-a)/(len(xx)-1)\n",
    "    return h"
   ]
  },
  {
   "cell_type": "code",
   "execution_count": 21,
   "metadata": {},
   "outputs": [],
   "source": [
    "def iterate(x, y, h):\n",
    "    f1 = f(x,y)\n",
    "    f2 = f(x + h/3, y + h/3*f1)\n",
    "    f3 = f(x + 2*h/3, y + 2*h/3*f2)\n",
    "    return y + h/4*(f1 + 3*f3)"
   ]
  },
  {
   "cell_type": "code",
   "execution_count": 22,
   "metadata": {},
   "outputs": [],
   "source": [
    "def rk(xx, h):\n",
    "    x = a\n",
    "    y_prev = y0\n",
    "    y_curr = y0\n",
    "\n",
    "    res = []\n",
    "    for x in xx:\n",
    "        for t in target:\n",
    "            if abs(t-x)<1e-8:\n",
    "                res.append(y_curr)\n",
    "        y_prev = y_curr\n",
    "        y_curr = iterate(x, y_curr, h)\n",
    "\n",
    "        yh = iterate(x, y_curr, h)\n",
    "        y2h = iterate(x, y_curr, 2*h)\n",
    "        # assert abs(y2h - yh) <= (2**k - 1) * eps\n",
    "    return res"
   ]
  },
  {
   "cell_type": "code",
   "execution_count": 23,
   "metadata": {},
   "outputs": [],
   "source": [
    "xx = genX(4096)\n",
    "res = rk(xx, getStep(xx))"
   ]
  },
  {
   "cell_type": "code",
   "execution_count": 24,
   "metadata": {},
   "outputs": [],
   "source": [
    "xxmax = genX(2**20)\n",
    "resmax = rk(xxmax, getStep(xxmax))"
   ]
  },
  {
   "cell_type": "code",
   "execution_count": 25,
   "metadata": {},
   "outputs": [
    {
     "data": {
      "text/plain": [
       "10485761"
      ]
     },
     "execution_count": 25,
     "metadata": {},
     "output_type": "execute_result"
    }
   ],
   "source": [
    "len(xxmax)"
   ]
  },
  {
   "cell_type": "code",
   "execution_count": 26,
   "metadata": {},
   "outputs": [],
   "source": [
    "diff = []\n",
    "for i in range(len(res)):\n",
    "    diff.append((res[i]-resmax[i]))"
   ]
  },
  {
   "cell_type": "code",
   "execution_count": 27,
   "metadata": {},
   "outputs": [
    {
     "data": {
      "text/html": [
       "<div>\n",
       "<style scoped>\n",
       "    .dataframe tbody tr th:only-of-type {\n",
       "        vertical-align: middle;\n",
       "    }\n",
       "\n",
       "    .dataframe tbody tr th {\n",
       "        vertical-align: top;\n",
       "    }\n",
       "\n",
       "    .dataframe thead th {\n",
       "        text-align: right;\n",
       "    }\n",
       "</style>\n",
       "<table border=\"1\" class=\"dataframe\">\n",
       "  <thead>\n",
       "    <tr style=\"text-align: right;\">\n",
       "      <th></th>\n",
       "      <th>0</th>\n",
       "      <th>1</th>\n",
       "      <th>2</th>\n",
       "      <th>3</th>\n",
       "      <th>4</th>\n",
       "      <th>5</th>\n",
       "      <th>6</th>\n",
       "      <th>7</th>\n",
       "      <th>8</th>\n",
       "      <th>9</th>\n",
       "      <th>10</th>\n",
       "    </tr>\n",
       "  </thead>\n",
       "  <tbody>\n",
       "    <tr>\n",
       "      <th>x</th>\n",
       "      <td>1.0</td>\n",
       "      <td>1.100000e+00</td>\n",
       "      <td>1.200000e+00</td>\n",
       "      <td>1.300000e+00</td>\n",
       "      <td>1.400000e+00</td>\n",
       "      <td>1.500000e+00</td>\n",
       "      <td>1.600000e+00</td>\n",
       "      <td>1.700000e+00</td>\n",
       "      <td>1.800000e+00</td>\n",
       "      <td>1.900000e+00</td>\n",
       "      <td>2.000000e+00</td>\n",
       "    </tr>\n",
       "    <tr>\n",
       "      <th>y</th>\n",
       "      <td>12.0</td>\n",
       "      <td>1.078574e+01</td>\n",
       "      <td>9.666818e+00</td>\n",
       "      <td>8.629260e+00</td>\n",
       "      <td>7.659026e+00</td>\n",
       "      <td>6.741377e+00</td>\n",
       "      <td>5.859756e+00</td>\n",
       "      <td>4.993631e+00</td>\n",
       "      <td>4.113476e+00</td>\n",
       "      <td>3.166107e+00</td>\n",
       "      <td>2.007392e+00</td>\n",
       "    </tr>\n",
       "    <tr>\n",
       "      <th>y*</th>\n",
       "      <td>12.0</td>\n",
       "      <td>1.078574e+01</td>\n",
       "      <td>9.666818e+00</td>\n",
       "      <td>8.629260e+00</td>\n",
       "      <td>7.659026e+00</td>\n",
       "      <td>6.741377e+00</td>\n",
       "      <td>5.859756e+00</td>\n",
       "      <td>4.993631e+00</td>\n",
       "      <td>4.113476e+00</td>\n",
       "      <td>3.166107e+00</td>\n",
       "      <td>2.007392e+00</td>\n",
       "    </tr>\n",
       "    <tr>\n",
       "      <th>d</th>\n",
       "      <td>0.0</td>\n",
       "      <td>9.610091e-13</td>\n",
       "      <td>8.135714e-13</td>\n",
       "      <td>1.094236e-12</td>\n",
       "      <td>1.090683e-12</td>\n",
       "      <td>8.526513e-13</td>\n",
       "      <td>1.066702e-12</td>\n",
       "      <td>1.285194e-12</td>\n",
       "      <td>8.517631e-13</td>\n",
       "      <td>9.965362e-13</td>\n",
       "      <td>1.644462e-12</td>\n",
       "    </tr>\n",
       "  </tbody>\n",
       "</table>\n",
       "</div>"
      ],
      "text/plain": [
       "      0             1             2             3             4   \\\n",
       "x    1.0  1.100000e+00  1.200000e+00  1.300000e+00  1.400000e+00   \n",
       "y   12.0  1.078574e+01  9.666818e+00  8.629260e+00  7.659026e+00   \n",
       "y*  12.0  1.078574e+01  9.666818e+00  8.629260e+00  7.659026e+00   \n",
       "d    0.0  9.610091e-13  8.135714e-13  1.094236e-12  1.090683e-12   \n",
       "\n",
       "              5             6             7             8             9   \\\n",
       "x   1.500000e+00  1.600000e+00  1.700000e+00  1.800000e+00  1.900000e+00   \n",
       "y   6.741377e+00  5.859756e+00  4.993631e+00  4.113476e+00  3.166107e+00   \n",
       "y*  6.741377e+00  5.859756e+00  4.993631e+00  4.113476e+00  3.166107e+00   \n",
       "d   8.526513e-13  1.066702e-12  1.285194e-12  8.517631e-13  9.965362e-13   \n",
       "\n",
       "              10  \n",
       "x   2.000000e+00  \n",
       "y   2.007392e+00  \n",
       "y*  2.007392e+00  \n",
       "d   1.644462e-12  "
      ]
     },
     "execution_count": 27,
     "metadata": {},
     "output_type": "execute_result"
    }
   ],
   "source": [
    "import pandas as pd\n",
    "pd.DataFrame({'x': target, 'y': res, 'y*': resmax, 'd': diff}).transpose()"
   ]
  },
  {
   "cell_type": "code",
   "execution_count": 28,
   "metadata": {},
   "outputs": [],
   "source": [
    "N = []\n",
    "d = []\n",
    "\n",
    "for i in range(18):\n",
    "    xx = genX(2**i)\n",
    "    res = rk(xx, getStep(xx))\n",
    "    norm = 0\n",
    "    for j in range(len(res)):\n",
    "        norm = max(abs(res[j]-resmax[j]), norm)\n",
    "    d.append(norm)\n",
    "    N.append(2**i)"
   ]
  },
  {
   "cell_type": "code",
   "execution_count": 29,
   "metadata": {},
   "outputs": [
    {
     "data": {
      "text/plain": [
       "[0,\n",
       " 5.842638654607297,\n",
       " 6.933987024459049,\n",
       " 7.530509750730704,\n",
       " 7.794211590724498,\n",
       " 7.906066890594131,\n",
       " 7.955268659055196,\n",
       " 7.976583338680392,\n",
       " 7.975222228903287,\n",
       " 7.88288386147511,\n",
       " 7.197626070578201,\n",
       " 4.499360409338023,\n",
       " 1.6889008911693222,\n",
       " 1.056189389617798,\n",
       " 0.9980074010816966,\n",
       " 1.1047169811320754,\n",
       " 1.3327745180217938,\n",
       " 0.5042265426880812]"
      ]
     },
     "execution_count": 29,
     "metadata": {},
     "output_type": "execute_result"
    }
   ],
   "source": [
    "rate = [0]\n",
    "for i in range(len(d)-1):\n",
    "    rate.append(d[i]/d[i+1])\n",
    "\n",
    "rate"
   ]
  },
  {
   "cell_type": "code",
   "execution_count": 30,
   "metadata": {},
   "outputs": [
    {
     "data": {
      "text/html": [
       "<div>\n",
       "<style scoped>\n",
       "    .dataframe tbody tr th:only-of-type {\n",
       "        vertical-align: middle;\n",
       "    }\n",
       "\n",
       "    .dataframe tbody tr th {\n",
       "        vertical-align: top;\n",
       "    }\n",
       "\n",
       "    .dataframe thead th {\n",
       "        text-align: right;\n",
       "    }\n",
       "</style>\n",
       "<table border=\"1\" class=\"dataframe\">\n",
       "  <thead>\n",
       "    <tr style=\"text-align: right;\">\n",
       "      <th></th>\n",
       "      <th>N</th>\n",
       "      <th>d</th>\n",
       "      <th>rate</th>\n",
       "    </tr>\n",
       "  </thead>\n",
       "  <tbody>\n",
       "    <tr>\n",
       "      <th>0</th>\n",
       "      <td>1</td>\n",
       "      <td>6.745543e-03</td>\n",
       "      <td>0.000000</td>\n",
       "    </tr>\n",
       "    <tr>\n",
       "      <th>1</th>\n",
       "      <td>2</td>\n",
       "      <td>1.154537e-03</td>\n",
       "      <td>5.842639</td>\n",
       "    </tr>\n",
       "    <tr>\n",
       "      <th>2</th>\n",
       "      <td>4</td>\n",
       "      <td>1.665041e-04</td>\n",
       "      <td>6.933987</td>\n",
       "    </tr>\n",
       "    <tr>\n",
       "      <th>3</th>\n",
       "      <td>8</td>\n",
       "      <td>2.211060e-05</td>\n",
       "      <td>7.530510</td>\n",
       "    </tr>\n",
       "    <tr>\n",
       "      <th>4</th>\n",
       "      <td>16</td>\n",
       "      <td>2.836797e-06</td>\n",
       "      <td>7.794212</td>\n",
       "    </tr>\n",
       "    <tr>\n",
       "      <th>5</th>\n",
       "      <td>32</td>\n",
       "      <td>3.588127e-07</td>\n",
       "      <td>7.906067</td>\n",
       "    </tr>\n",
       "    <tr>\n",
       "      <th>6</th>\n",
       "      <td>64</td>\n",
       "      <td>4.510379e-08</td>\n",
       "      <td>7.955269</td>\n",
       "    </tr>\n",
       "    <tr>\n",
       "      <th>7</th>\n",
       "      <td>128</td>\n",
       "      <td>5.654524e-09</td>\n",
       "      <td>7.976583</td>\n",
       "    </tr>\n",
       "    <tr>\n",
       "      <th>8</th>\n",
       "      <td>256</td>\n",
       "      <td>7.090115e-10</td>\n",
       "      <td>7.975222</td>\n",
       "    </tr>\n",
       "    <tr>\n",
       "      <th>9</th>\n",
       "      <td>512</td>\n",
       "      <td>8.994316e-11</td>\n",
       "      <td>7.882884</td>\n",
       "    </tr>\n",
       "    <tr>\n",
       "      <th>10</th>\n",
       "      <td>1024</td>\n",
       "      <td>1.249623e-11</td>\n",
       "      <td>7.197626</td>\n",
       "    </tr>\n",
       "    <tr>\n",
       "      <th>11</th>\n",
       "      <td>2048</td>\n",
       "      <td>2.777334e-12</td>\n",
       "      <td>4.499360</td>\n",
       "    </tr>\n",
       "    <tr>\n",
       "      <th>12</th>\n",
       "      <td>4096</td>\n",
       "      <td>1.644462e-12</td>\n",
       "      <td>1.688901</td>\n",
       "    </tr>\n",
       "    <tr>\n",
       "      <th>13</th>\n",
       "      <td>8192</td>\n",
       "      <td>1.556977e-12</td>\n",
       "      <td>1.056189</td>\n",
       "    </tr>\n",
       "    <tr>\n",
       "      <th>14</th>\n",
       "      <td>16384</td>\n",
       "      <td>1.560085e-12</td>\n",
       "      <td>0.998007</td>\n",
       "    </tr>\n",
       "    <tr>\n",
       "      <th>15</th>\n",
       "      <td>32768</td>\n",
       "      <td>1.412204e-12</td>\n",
       "      <td>1.104717</td>\n",
       "    </tr>\n",
       "    <tr>\n",
       "      <th>16</th>\n",
       "      <td>65536</td>\n",
       "      <td>1.059597e-12</td>\n",
       "      <td>1.332775</td>\n",
       "    </tr>\n",
       "    <tr>\n",
       "      <th>17</th>\n",
       "      <td>131072</td>\n",
       "      <td>2.101430e-12</td>\n",
       "      <td>0.504227</td>\n",
       "    </tr>\n",
       "  </tbody>\n",
       "</table>\n",
       "</div>"
      ],
      "text/plain": [
       "         N             d      rate\n",
       "0        1  6.745543e-03  0.000000\n",
       "1        2  1.154537e-03  5.842639\n",
       "2        4  1.665041e-04  6.933987\n",
       "3        8  2.211060e-05  7.530510\n",
       "4       16  2.836797e-06  7.794212\n",
       "5       32  3.588127e-07  7.906067\n",
       "6       64  4.510379e-08  7.955269\n",
       "7      128  5.654524e-09  7.976583\n",
       "8      256  7.090115e-10  7.975222\n",
       "9      512  8.994316e-11  7.882884\n",
       "10    1024  1.249623e-11  7.197626\n",
       "11    2048  2.777334e-12  4.499360\n",
       "12    4096  1.644462e-12  1.688901\n",
       "13    8192  1.556977e-12  1.056189\n",
       "14   16384  1.560085e-12  0.998007\n",
       "15   32768  1.412204e-12  1.104717\n",
       "16   65536  1.059597e-12  1.332775\n",
       "17  131072  2.101430e-12  0.504227"
      ]
     },
     "execution_count": 30,
     "metadata": {},
     "output_type": "execute_result"
    }
   ],
   "source": [
    "    pd.DataFrame({'N': N, 'd': d, 'rate': rate})"
   ]
  },
  {
   "cell_type": "code",
   "execution_count": 31,
   "metadata": {},
   "outputs": [
    {
     "data": {
      "text/plain": [
       "1.6444623440747819e-12"
      ]
     },
     "execution_count": 31,
     "metadata": {},
     "output_type": "execute_result"
    }
   ],
   "source": [
    "norm = max(diff)\n",
    "norm"
   ]
  }
 ],
 "metadata": {
  "interpreter": {
   "hash": "469b108ee6088b42383d6649ea000749c485900e46f50462f3ca26dcec417061"
  },
  "kernelspec": {
   "display_name": "Python 3.9.7 64-bit ('base': conda)",
   "language": "python",
   "name": "python3"
  },
  "language_info": {
   "codemirror_mode": {
    "name": "ipython",
    "version": 3
   },
   "file_extension": ".py",
   "mimetype": "text/x-python",
   "name": "python",
   "nbconvert_exporter": "python",
   "pygments_lexer": "ipython3",
   "version": "3.8.8"
  },
  "orig_nbformat": 4
 },
 "nbformat": 4,
 "nbformat_minor": 2
}
