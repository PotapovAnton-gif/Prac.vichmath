{
 "cells": [
  {
   "cell_type": "markdown",
   "metadata": {},
   "source": [
    "Решить систему уравнений\n",
    "\n",
    "$ \\left\\{ \\begin{gathered} \\frac{dy_1}{dx} = -101y_1 + 250y_2 \\\\ \\frac{dy_2}{dx} = 40y_1 - 101y_2 \\\\ \\end{gathered} \\right.; \\space \\left\\{ \\begin{gathered} y_1(0) = A \\\\ y_2(0) = B \\\\ \\end{gathered} \\right.; 0 < x < D = 1$\n",
    "\n",
    "11\n",
    "21\n",
    "41\n",
    "81\n",
    "...\n",
    "2^n + 1\n",
    "\n",
    "$\\delta = 10^{-6} $"
   ]
  },
  {
   "cell_type": "markdown",
   "metadata": {},
   "source": [
    "Точное решение\n",
    "\n",
    "$C_1 = \\frac{2A + 5B}{10}; \\space \\space C_2 = \\frac{5B - 2A}{10} $\n",
    "\n",
    "$y_1(t) = -\\frac{5C_1exp(-201x)}{2} + \\frac{5C_2exp(-t)}{2} $\n",
    "\n",
    "$y_2(t) = C_1exp(-201t) + C2exp(-t) $"
   ]
  },
  {
   "cell_type": "code",
   "execution_count": 2,
   "metadata": {},
   "outputs": [],
   "source": [
    "import numpy as np\n",
    "import matplotlib.pyplot as plt\n",
    "import scipy as sc\n",
    "from scipy.integrate import odeint as od"
   ]
  },
  {
   "cell_type": "code",
   "execution_count": 19,
   "metadata": {},
   "outputs": [],
   "source": [
    "\"\"\"\n",
    "Пользовательские параметры\n",
    "\"\"\"\n",
    "A = 1\n",
    "B = 1\n",
    "D = 1\n",
    "delta = 1e-6\n",
    "\"\"\"\n",
    "Параметры задачи \n",
    "\"\"\"\n",
    "#Матрица системы\n",
    "MATR = np.array([[-101, 250],[40, -101]])\n",
    "# Шаг задачи\n",
    "h = D/n\n",
    "#Предыидущая итерация решения\n",
    "pr = 1\n",
    "#Текушяя итерация решения\n",
    "cur = 2\n",
    "#Костанты точного решения\n",
    "C1 = (2*A + 5*B) / 10\n",
    "C2 = (5*B - 2*A) / 10 \n",
    "#Вектор начальных параметров\n",
    "y0 = [A, B]\n",
    "#Вектор количества ршений\n",
    "n = np.array([11, 21, 41, 81, 81921])\n",
    "\n",
    "\n",
    "\n",
    "\n"
   ]
  },
  {
   "cell_type": "code",
   "execution_count": 20,
   "metadata": {},
   "outputs": [
    {
     "data": {
      "image/png": "[encoded data removed]",
      "text/plain": [
       "<Figure size 432x288 with 1 Axes>"
      ]
     },
     "metadata": {
      "needs_background": "light"
     },
     "output_type": "display_data"
    }
   ],
   "source": [
    "#Точное решение с помощью scipy\n",
    "\n",
    "def system(y, x):\n",
    "    y1, y2 = y\n",
    "    dydx = [-101*y1 + 250*y2, 40*y1 - 101*y2]\n",
    "    return dydx \n",
    "\n",
    "x = np.arange(0, D, 0.001)\n",
    "\n",
    "def y1_solution(x):\n",
    "    return od(system, y0, x)\n",
    "\n",
    "#Аналитическое решение(может не совпадать с вашим)\n",
    "\n",
    "def anal_sol(x):\n",
    "    return [(-5 * C1 * np.exp(-201*x))/2 + (5 * C1 * np.exp(-x)),\n",
    "            (C1 * np.exp(-201 * x)) + (C2 * np.exp(-x))]\n",
    "\n",
    "fig2 = plt.subplot()\n",
    "fig2.plot(x, anal_sol(x)[0], )\n",
    "fig2.plot(x, anal_sol(x)[1])\n",
    "\n",
    "\n",
    "fig = plt.subplot()\n",
    "fig.plot(x, y1_solution(x), '--')\n",
    "plt.grid()\n"
   ]
  },
  {
   "cell_type": "code",
   "execution_count": 18,
   "metadata": {},
   "outputs": [
    {
     "name": "stdout",
     "output_type": "stream",
     "text": [
      "[9.09090909e-02 4.76190476e-02 2.43902439e-02 1.23456790e-02\n",
      " 1.22068822e-05]\n",
      "[[-101  250]\n",
      " [  40 -101]]\n"
     ]
    },
    {
     "ename": "NameError",
     "evalue": "name 'pr' is not defined",
     "output_type": "error",
     "traceback": [
      "\u001b[1;31m---------------------------------------------------------------------------\u001b[0m",
      "\u001b[1;31mNameError\u001b[0m                                 Traceback (most recent call last)",
      "\u001b[1;32m~\\AppData\\Local\\Temp/ipykernel_9116/2124873954.py\u001b[0m in \u001b[0;36m<module>\u001b[1;34m\u001b[0m\n\u001b[0;32m     15\u001b[0m \u001b[1;32mfor\u001b[0m \u001b[0mhight\u001b[0m \u001b[1;32min\u001b[0m \u001b[0mh\u001b[0m\u001b[1;33m:\u001b[0m\u001b[1;33m\u001b[0m\u001b[1;33m\u001b[0m\u001b[0m\n\u001b[0;32m     16\u001b[0m     \u001b[1;32mfor\u001b[0m \u001b[0mi\u001b[0m \u001b[1;32min\u001b[0m \u001b[0mnp\u001b[0m\u001b[1;33m.\u001b[0m\u001b[0marange\u001b[0m\u001b[1;33m(\u001b[0m\u001b[1;36m0\u001b[0m\u001b[1;33m,\u001b[0m \u001b[0mD\u001b[0m\u001b[1;33m,\u001b[0m \u001b[0mhight\u001b[0m\u001b[1;33m)\u001b[0m\u001b[1;33m:\u001b[0m\u001b[1;33m\u001b[0m\u001b[1;33m\u001b[0m\u001b[0m\n\u001b[1;32m---> 17\u001b[1;33m         \u001b[1;32mwhile\u001b[0m \u001b[0mabs\u001b[0m\u001b[1;33m(\u001b[0m\u001b[0mpr\u001b[0m \u001b[1;33m-\u001b[0m \u001b[0mcur\u001b[0m\u001b[1;33m)\u001b[0m \u001b[1;33m>\u001b[0m \u001b[0mdelta\u001b[0m\u001b[1;33m:\u001b[0m\u001b[1;33m\u001b[0m\u001b[1;33m\u001b[0m\u001b[0m\n\u001b[0m\u001b[0;32m     18\u001b[0m             \u001b[0mpr\u001b[0m \u001b[1;33m=\u001b[0m \u001b[0mcur\u001b[0m\u001b[1;33m\u001b[0m\u001b[1;33m\u001b[0m\u001b[0m\n\u001b[0;32m     19\u001b[0m             \u001b[0mcur\u001b[0m \u001b[1;33m=\u001b[0m \u001b[0miterate\u001b[0m\u001b[1;33m(\u001b[0m\u001b[0mi\u001b[0m\u001b[1;33m)\u001b[0m\u001b[1;33m\u001b[0m\u001b[1;33m\u001b[0m\u001b[0m\n",
      "\u001b[1;31mNameError\u001b[0m: name 'pr' is not defined"
     ]
    }
   ],
   "source": [
    "#Метод Эйлера\n",
    "precise_solution = []\n",
    "approximate_solurion = []\n",
    "\n",
    "def iterate(y, h):\n",
    "    f1 = MATR.dot(y)\n",
    "    f2 = MATR.dot(y + h*f1)\n",
    "    y += h*f2\n",
    "    return y\n",
    "\n",
    "for hight in h:\n",
    "    for i in np.arange(0, D, hight):\n",
    "        while abs(pr - cur) > delta:\n",
    "            pr = cur\n",
    "            cur = iterate(pr)\n",
    "        precise_solution.append(anal_sol(i))\n",
    "\n",
    "\n",
    "            \n",
    "\n",
    "\n",
    "\n"
   ]
  }
 ],
 "metadata": {
  "interpreter": {
   "hash": "469b108ee6088b42383d6649ea000749c485900e46f50462f3ca26dcec417061"
  },
  "kernelspec": {
   "display_name": "Python 3.9.7 ('base')",
   "language": "python",
   "name": "python3"
  },
  "language_info": {
   "codemirror_mode": {
    "name": "ipython",
    "version": 3
   },
   "file_extension": ".py",
   "mimetype": "text/x-python",
   "name": "python",
   "nbconvert_exporter": "python",
   "pygments_lexer": "ipython3",
   "version": "3.9.7"
  },
  "orig_nbformat": 4
 },
 "nbformat": 4,
 "nbformat_minor": 2
}
