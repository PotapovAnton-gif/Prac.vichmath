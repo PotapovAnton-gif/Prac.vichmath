{
 "cells": [
  {
   "cell_type": "code",
   "execution_count": 20,
   "source": [
    "import math\n",
    "import numpy as np\n",
    "from numpy import linalg"
   ],
   "outputs": [],
   "metadata": {}
  },
  {
   "cell_type": "markdown",
   "source": [
    " $ arctg(1) y_{n + 1} + y_n - 5ey_{n-1} = \\pi$\n",
    "\n",
    " $y_0 = \\frac{\\pi}{arctg(1) + 1 - 5e}= y_1 $\n",
    "\n",
    " $\\arctg(1)\\lambda^2 + \\lambda - 5e = 0 \\to \\left[ \\begin{gathered} \\lambda_{1} = \\frac{-1 + \\sqrt{1 + 20e \\cdot arctg(1)}}{2arctg(1)}  \\\\ \\lambda_{2} = \\frac{-1 - \\sqrt{1 + 20e \\cdot arctg(1)}}{2arctg(1)}  \\\\ \\end{gathered}\\right.$\n",
    "\n",
    " $y_n = C_1 \\lambda_{1}^2  + C_2 \\lambda_{2}^n + \\frac{\\pi}{arctg(1) + 1 - 5e}$"
   ],
   "metadata": {}
  },
  {
   "cell_type": "code",
   "execution_count": 21,
   "source": [
    "lambda1 = (-1 + math.sqrt(1 + 20*math.e*math.atan(1)))/2*math.atan(1)\n",
    "lambda2 = (-1 - math.sqrt(1 + 20*math.e*math.atan(1)))/2*math.atan(1)\n",
    "\n",
    "print(\"lambda1 = \", lambda1)\n",
    "print(\"lambda2 = \", lambda2)"
   ],
   "outputs": [
    {
     "output_type": "stream",
     "name": "stdout",
     "text": [
      "lambda1 =  2.20323703540772\n",
      "lambda2 =  -2.9886351988051683\n"
     ]
    }
   ],
   "metadata": {}
  },
  {
   "cell_type": "markdown",
   "source": [
    "1. Если нет возмущений, то:\n",
    "\n",
    "$C1 = C2 = 0 \\to y_n = y_{n-1} = ... = y_0 = \\frac{\\pi}{arctg(1) + 1 - 5e}$\n",
    "\n",
    "2. Если возмущение не равно 0 (есть погрешность вычислений), и:\n",
    "\n",
    "$\\Delta y_0 = \\Delta y_1 = \\Delta y \\to y_0 = y_1 = \\frac{\\pi}{arctg(1) + 1 - 5e} + \\Delta y \\Rightarrow$ , то имеем систему:\n",
    "\n",
    "$\\left\\{  \\begin{gathered} C1 + C2 = \\Delta y \\\\ C_1 \\lambda_{1} + C_2 \\lambda_{2} = \\Delta y \\\\ \\end{gathered} \\right.$\n",
    "\n",
    "Откуда, решая систему, получим:\n",
    "\n",
    "$C_1 = \\frac{1 - \\lambda_{2}}{\\lambda_{1} - \\lambda_{2}} \\Delta y$\n",
    "\n",
    "$C_2 = \\frac{1 - \\lambda_{1}}{\\lambda_{1} - \\lambda_{2}} \\Delta y$\n"
   ],
   "metadata": {}
  },
  {
   "cell_type": "code",
   "execution_count": 22,
   "source": [
    "C1 = (1 - lambda2) / (lambda1 - lambda2)\n",
    "C2 = (1 - lambda1) / (lambda1 - lambda2)\n",
    "\n",
    "print(\"C1 = \", C1 , \"dy\")\n",
    "print(\"C2 = \", C2 , \"dy\")"
   ],
   "outputs": [
    {
     "output_type": "stream",
     "name": "stdout",
     "text": [
      "C1 =  0.7682460235676165 dy\n",
      "C2 =  -0.2317539764323835 dy\n"
     ]
    }
   ],
   "metadata": {}
  },
  {
   "cell_type": "markdown",
   "source": [
    "Допустим точность определения велечины равна:  $\\Delta y = 10^{-16}$ ,тогда получим при n = 50 следующую погрешность:"
   ],
   "metadata": {}
  },
  {
   "cell_type": "code",
   "execution_count": 23,
   "source": [
    "yn = C1 * lambda1**50 * 10**(-16) + C2 * lambda2**50 * 10**(-16) + (math.pi)/(math.atan(1) + 1 - 5*math.e)\n",
    "y0 = (math.pi)/(math.atan(1) + 1 - 5*math.e)\n",
    "\n",
    "print(\"yn = \", yn)\n",
    "print(\"y0 = \", y0)\n",
    "print(\"epsilon = \", yn/y0)"
   ],
   "outputs": [
    {
     "output_type": "stream",
     "name": "stdout",
     "text": [
      "yn =  -13761703.975221079\n",
      "y0 =  -0.26610111232363903\n",
      "epsilon =  51716070.83883114\n"
     ]
    }
   ],
   "metadata": {}
  },
  {
   "cell_type": "markdown",
   "source": [
    "Тоесть погрешность составит: $\\epsilon \\approx 5 \\cdot 10^{6}$"
   ],
   "metadata": {}
  },
  {
   "cell_type": "markdown",
   "source": [
    "Оценим теперь норму матрицы:"
   ],
   "metadata": {}
  },
  {
   "cell_type": "code",
   "execution_count": 25,
   "source": [
    "N = 50\n",
    "a = math.atan(1)\n",
    "b = 1\n",
    "c = -5*math.e\n",
    "\n",
    "matrix = np.zeros((N + 1, N + 1))\n",
    "matrix[0][0] = 1\n",
    "matrix[1][1] = 1\n",
    "for i in range(2, N + 1):\n",
    "    matrix[i][i - 2] = c\n",
    "    matrix[i][i - 1] = b\n",
    "    matrix[i][i] = a\n",
    "\n",
    "reversed_matrix = linalg.inv(matrix)\n",
    "print(max(np.sum(np.absolute(reversed_matrix), axis=1)))"
   ],
   "outputs": [
    {
     "output_type": "stream",
     "name": "stdout",
     "text": [
      "1.07143471842342e+34\n"
     ]
    }
   ],
   "metadata": {}
  }
 ],
 "metadata": {
  "orig_nbformat": 4,
  "language_info": {
   "name": "python",
   "version": "3.8.8",
   "mimetype": "text/x-python",
   "codemirror_mode": {
    "name": "ipython",
    "version": 3
   },
   "pygments_lexer": "ipython3",
   "nbconvert_exporter": "python",
   "file_extension": ".py"
  },
  "kernelspec": {
   "name": "python3",
   "display_name": "Python 3.8.8 64-bit ('base': conda)"
  },
  "interpreter": {
   "hash": "1b7486bc079aa99e792c260252617544eb2ad02d9a3355500c323ab98237b2e4"
  }
 },
 "nbformat": 4,
 "nbformat_minor": 2
}