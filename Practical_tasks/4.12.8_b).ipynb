{
 "cells": [
  {
   "cell_type": "markdown",
   "metadata": {},
   "source": [
    "Методом простой итерации найти ширину функции на полувыстоте с точностью $\\;10^{-3}$\n",
    "\n",
    "$f(x) = x\\cdot exp(-x^{2})$"
   ]
  },
  {
   "cell_type": "code",
   "execution_count": 15,
   "metadata": {},
   "outputs": [],
   "source": [
    "import matplotlib.pyplot as plt\n",
    "import math\n",
    "import numpy as np "
   ]
  },
  {
   "cell_type": "code",
   "execution_count": 16,
   "metadata": {},
   "outputs": [],
   "source": [
    "def f(x):\n",
    "\n",
    "    return x*math.e**(-x**2)"
   ]
  },
  {
   "cell_type": "code",
   "execution_count": 17,
   "metadata": {},
   "outputs": [
    {
     "data": {
      "image/png": "[encoded data removed]",
      "text/plain": [
       "<Figure size 432x288 with 1 Axes>"
      ]
     },
     "metadata": {
      "needs_background": "light"
     },
     "output_type": "display_data"
    }
   ],
   "source": [
    "x_es = np.arange(0, 3, 0.0001)\n",
    "y_es = f(x_es)\n",
    "\n",
    "fig, ax = plt.subplots()\n",
    "ax.plot(x_es, y_es)\n",
    "\n",
    "ax.grid()\n",
    "\n",
    "plt.show()"
   ]
  },
  {
   "cell_type": "markdown",
   "metadata": {},
   "source": [
    "Производная нашей функции: $f'(x) = exp(-x^{2)} - 2x^2\\cdot exp(-x^2) = 0 \\to  $\n",
    "\n",
    "$1 = 2x^2 \\to x = \\frac{1}{\\sqrt{2}}$\n",
    "\n",
    "Откуда высота: $f(\\frac{1}{\\sqrt{2}})$"
   ]
  },
  {
   "cell_type": "code",
   "execution_count": 19,
   "metadata": {},
   "outputs": [
    {
     "name": "stdout",
     "output_type": "stream",
     "text": [
      "0.42888194248035344\n"
     ]
    }
   ],
   "source": [
    "H = f(1/math.sqrt(2))"
   ]
  },
  {
   "cell_type": "code",
   "execution_count": 21,
   "metadata": {},
   "outputs": [],
   "source": [
    "def new_f(x):\n",
    "    return f(x) - H/2"
   ]
  },
  {
   "cell_type": "code",
   "execution_count": 24,
   "metadata": {},
   "outputs": [
    {
     "data": {
      "image/png": "[encoded data removed]",
      "text/plain": [
       "<Figure size 432x288 with 1 Axes>"
      ]
     },
     "metadata": {
      "needs_background": "light"
     },
     "output_type": "display_data"
    }
   ],
   "source": [
    "new_y_es = new_f(x_es)\n",
    "\n",
    "fig, ax = plt.subplots()\n",
    "ax.plot(x_es, new_y_es)\n",
    "\n",
    "ax.grid()\n",
    "\n",
    "plt.show()\n",
    "\n",
    "\n"
   ]
  },
  {
   "cell_type": "markdown",
   "metadata": {},
   "source": [
    "Определим метод простых итераций для каждого из отрезков: [0, 0.5] (1), [1, 1.5] (2)\n",
    "\n",
    "$\\frac{H}{2}= x\\cdot exp(-x^{2}) \\to x_{n+1} = \\frac{H}{2} \\cdot exp(x_n^2) \\to \\phi_1'(x) = 2x\\frac{H}{2}\\cdot exp(x^{2}) \\hspace{1in} (1)$\n",
    "\n",
    "$\\frac{H}{2}= x\\cdot exp(-x^{2}) \\to x_{n+1} =\\sqrt{ln(x) - ln(\\frac{H}{2})} \\to \\phi_2'(x) = \\frac{1}{\\sqrt{ln(x) - ln(\\frac{H}{2})}} \\cdot \\frac{1}{x} \\hspace{0.6321in} (2)$\n",
    "\n",
    "Очевидно, что обе функции либо возрастают либо убывают на соответствующих отрезках, следовательно оценим модуль каждой из них по крайним точкам интервалов"
   ]
  },
  {
   "cell_type": "code",
   "execution_count": 39,
   "metadata": {},
   "outputs": [],
   "source": [
    "def modfi_1(x):\n",
    "    return abs(2*x*(H/2)*math.e**(x**2))\n",
    "\n",
    "def modfi_2(x):\n",
    "    return abs((1/math.sqrt(math.log(x) - math.log(H/2))) * (1/x))\n",
    "\n",
    "\n",
    "\n",
    "def method_1(x):\n",
    "    return (H/2)*math.e**(x**2)\n",
    "\n",
    "def method_2(x):\n",
    "    return math.sqrt(math.log(x) - math.log(H/2))"
   ]
  },
  {
   "cell_type": "code",
   "execution_count": 27,
   "metadata": {},
   "outputs": [
    {
     "name": "stdout",
     "output_type": "stream",
     "text": [
      "0.0 0.2753476574515919\n",
      "0.8058960289190997 0.478000319466233\n"
     ]
    }
   ],
   "source": [
    "modfi_1_left = modfi_1(0)\n",
    "modfi_1_right = modfi_1(0.5)\n",
    "\n",
    "modfi_2_left = modfi_2(1)\n",
    "modfi_2_right = modfi_2(1.5)\n",
    "\n",
    "print(modfi_1_left, modfi_1_right)\n",
    "print(modfi_2_left, modfi_2_right)"
   ]
  },
  {
   "cell_type": "markdown",
   "metadata": {},
   "source": [
    "Можем убедится что каждый метод простой итерации подходит для выбранных отрезков, следовательно:"
   ]
  },
  {
   "cell_type": "code",
   "execution_count": 41,
   "metadata": {},
   "outputs": [
    {
     "name": "stdout",
     "output_type": "stream",
     "text": [
      "0.22566098369485846\n"
     ]
    }
   ],
   "source": [
    "prpr_x = 0\n",
    "x1 = math.sqrt(1/2)\n",
    "pr_x = x1\n",
    "#Поиск х на первом отрезке\n",
    "while pr_x != prpr_x:\n",
    "    prpr_x = pr_x\n",
    "    x1 = method_1(x1)\n",
    "    pr_x = math.floor(x1*10**3)\n",
    "print(x1)"
   ]
  },
  {
   "cell_type": "code",
   "execution_count": 42,
   "metadata": {},
   "outputs": [
    {
     "name": "stdout",
     "output_type": "stream",
     "text": [
      "1.3586650776957503\n"
     ]
    }
   ],
   "source": [
    "prpr_x = 0\n",
    "x2 = math.sqrt(1/2)\n",
    "pr_x = x2\n",
    "#Поиск х на первом отрезке\n",
    "while pr_x != prpr_x:\n",
    "    prpr_x = pr_x\n",
    "    x2 = method_2(x2)\n",
    "    pr_x = math.floor(x2*10**3)\n",
    "print(x2)"
   ]
  },
  {
   "cell_type": "markdown",
   "metadata": {},
   "source": [
    "Тогда полуширина будет:"
   ]
  },
  {
   "cell_type": "code",
   "execution_count": 43,
   "metadata": {},
   "outputs": [
    {
     "name": "stdout",
     "output_type": "stream",
     "text": [
      "1.1330040940008919\n"
     ]
    }
   ],
   "source": [
    "print(x2 - x1)"
   ]
  }
 ],
 "metadata": {
  "interpreter": {
   "hash": "adecd6b6d58611e84e3e7b2ac98042998dbb0b3f7cea641082e40b408a19065e"
  },
  "kernelspec": {
   "display_name": "Python 3.8.8 64-bit ('base': conda)",
   "name": "python3"
  },
  "language_info": {
   "codemirror_mode": {
    "name": "ipython",
    "version": 3
   },
   "file_extension": ".py",
   "mimetype": "text/x-python",
   "name": "python",
   "nbconvert_exporter": "python",
   "pygments_lexer": "ipython3",
   "version": "3.8.8"
  },
  "orig_nbformat": 4
 },
 "nbformat": 4,
 "nbformat_minor": 2
}
