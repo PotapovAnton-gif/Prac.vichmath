{
 "cells": [
  {
   "cell_type": "markdown",
   "metadata": {},
   "source": [
    "Требуется решить систему уравнений с точностью $10^{-6}$\n",
    "\n",
    "$\\left\\{ \n",
    "    \\begin{gathered}\n",
    "        x^2 + y^2 = 1 \\\\ \n",
    "        y = tg(x) \\\\ \n",
    "    \\end{gathered}\n",
    "\\right.$"
   ]
  },
  {
   "cell_type": "code",
   "execution_count": 3,
   "metadata": {},
   "outputs": [],
   "source": [
    "import matplotlib.pyplot as plt \n",
    "import numpy as np \n",
    "import math"
   ]
  },
  {
   "cell_type": "code",
   "execution_count": 4,
   "metadata": {},
   "outputs": [
    {
     "data": {
      "image/png": "[encoded data removed]",
      "text/plain": [
       "<Figure size 432x288 with 1 Axes>"
      ]
     },
     "metadata": {
      "needs_background": "light"
     },
     "output_type": "display_data"
    }
   ],
   "source": [
    "x_es = np.arange(-1, 1, 0.0001)\n",
    "y_es_1 = np.sqrt(1 - x_es**2)\n",
    "y_es_2 = -np.sqrt(1 - x_es**2)\n",
    "y_es_3 = np.tan(x_es)ррррр   ррр\n",
    "\n",
    "fig, ax = plt.subplots()\n",
    "ax.plot(x_es, y_es_1, x_es, y_es_2, x_es, y_es_3)\n",
    "ax.grid()\n",
    "ax.set_ylim(-1.5, 1.5)\n",
    "ax.set_xlim(-1.5, 1.5)\n",
    "\n",
    "plt.show()"
   ]
  },
  {
   "cell_type": "markdown",
   "metadata": {},
   "source": [
    "Предложим метод Ньютона для нахождения каждого из корней:\n",
    "\n",
    "$\\left\\{ \\begin{gathered} x^2 + y^2 = 1 \\\\ y = tg(x) \\\\ \\end{gathered} \\right. \\to \\left\\{ \\begin{gathered}x^2 + y^2 = 1 \\\\ y - tg(x) = 0 \\\\ \\end{gathered} \\right. \\to J = \\left( \\begin{gathered} 2x \\;\\;\\; 2y \\\\ -\\frac{1}{cos^2(x)} \\;\\;\\; 1 \\\\ \\end{gathered} \\right) \\to detJ = 2x + 2y\\frac{1}{cos^2(x)} \\to $\n",
    "\n",
    "$detJ = 2x(1 + \\frac{y}{x} \\frac{1}{cos^2(x)})$\n",
    "\n",
    "Область поиска наших решений лежит выше прямой y = x и отличен от точки х = 0 $\\to$ Якобиан в области поиска отлчен от 0. Тогда, найдем обратную матрицу:\n",
    "\n",
    "$$J^{-1} = \\frac{1}{2x + 2y\\frac{1}{cos^2(x)}} \\left( \\begin{gathered} 1 \\;\\;\\; -2y \\\\ \\frac{1}{cos^2(x)} \\;\\;\\; 2x \\\\ \\end{gathered} \\right) $$\n",
    "\n",
    "Откуда наше решение примет вид: \n",
    "\n",
    "$$\\left( \\begin{gathered} x_{n + 1} \\\\ y_{n + 1} \\\\ \\end{gathered} \\right) = \\left( \\begin{gathered} x_n \\\\ y_n \\\\ \\end{gathered} \\right) -  \\frac{1}{2x + 2y\\frac{1}{cos^2(x)}} \\left( \\begin{gathered} 1 \\;\\;\\; -2y \\\\ \\frac{1}{cos^2(x)} \\;\\;\\; 2x \\\\ \\end{gathered} \\right) \\left( \\begin{gathered} x^2 + y^2 - 1 \\\\ y - tg(x) \\\\ \\end{gathered} \\right) $$"
   ]
  },
  {
   "cell_type": "code",
   "execution_count": 5,
   "metadata": {},
   "outputs": [],
   "source": [
    "def next_x_y(x, y):\n",
    "    pr_x = x\n",
    "    x = x - (1/(2*x + 2*y*1/(math.cos(x)**2))) * (x**2 + y**2 - 1 - 2*y*(y - math.tan(x)))\n",
    "    y = y - (1/(2*pr_x + 2*y*1/(math.cos(pr_x)**2))) * (1/(math.cos(pr_x)**2) * (pr_x**2 + y**2 - 1) + 2*pr_x*(y - math.tan(pr_x)))\n",
    "    return[x, y]\n",
    "    "
   ]
  },
  {
   "cell_type": "code",
   "execution_count": 7,
   "metadata": {},
   "outputs": [
    {
     "name": "stdout",
     "output_type": "stream",
     "text": [
      "0.7071067811865475 0.7071067811865475\n",
      "0.7610970729135277 0.6531164894595671\n",
      "0.8599976069598771 0.5423277457373396\n",
      "1.0252617376479154 0.3113435779421372\n",
      "1.249884203821914 -0.1905090503077871\n",
      "0.783342157334417 -1.6805769670733708\n",
      "-0.4955100599065263 -1.5513338033578417\n",
      "-0.7923377616062932 -0.9240255447487635\n",
      "-0.6708525185604539 -0.7675863389431203\n",
      "-0.6502395249680639 -0.7600462542186486\n",
      "-0.6498890405598629 -0.7600291823943003\n"
     ]
    }
   ],
   "source": [
    "y = 1/math.sqrt(2)\n",
    "x = 1/math.sqrt(2)\n",
    "n=0\n",
    "#Поиск х, у на верхей дуге окружности\n",
    "while n != 10:\n",
    "    n+=1\n",
    "    mass = next_x_y(x, y)\n",
    "    x = mass[0]\n",
    "    y = mass[1]\n",
    "    \n",
    "print(x, y)"
   ]
  },
  {
   "cell_type": "markdown",
   "metadata": {},
   "source": [
    "Таким образом мы получили сходимость по методу Ньютона\n",
    "Так как точки диаметрально противоположноые $\\to$ корни будут такими же, только с противоположными знаками.\n",
    "\n",
    "$\\left( \\begin{gathered} x_{1} \\\\ y_{1} \\\\ \\end{gathered} \\right) = \\left( \\begin{gathered} 0.649888 \\\\    0.760029 \\\\ \\end{gathered} \\right) $\n",
    "\n",
    "$\\left( \\begin{gathered} x_{2} \\\\ y_{2} \\\\ \\end{gathered} \\right) = \\left( \\begin{gathered} -0.649888 \\\\  -0.760029 \\\\ \\end{gathered} \\right) $"
   ]
  }
 ],
 "metadata": {
  "interpreter": {
   "hash": "adecd6b6d58611e84e3e7b2ac98042998dbb0b3f7cea641082e40b408a19065e"
  },
  "kernelspec": {
   "display_name": "Python 3.8.8 64-bit ('base': conda)",
   "name": "python3"
  },
  "language_info": {
   "codemirror_mode": {
    "name": "ipython",
    "version": 3
   },
   "file_extension": ".py",
   "mimetype": "text/x-python",
   "name": "python",
   "nbconvert_exporter": "python",
   "pygments_lexer": "ipython3",
   "version": "3.8.8"
  },
  "orig_nbformat": 4
 },
 "nbformat": 4,
 "nbformat_minor": 2
}
