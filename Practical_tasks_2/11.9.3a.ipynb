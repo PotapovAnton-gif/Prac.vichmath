{
 "cells": [
  {
   "cell_type": "markdown",
   "metadata": {},
   "source": [
    "Построить алгоритм метода престрелки\n",
    "\n",
    "$\\left\\{ \n",
    "    \\begin{gathered}\n",
    "        y'' - x \\sqrt{y} = 0,\\quad 0 \\geqslant x \\geqslant 1\\\\ \n",
    "        y(0) = 0, y(1) = 2 \\\\ \n",
    "    \\end{gathered}\n",
    "\\right.$"
   ]
  },
  {
   "cell_type": "code",
   "execution_count": 14,
   "metadata": {},
   "outputs": [],
   "source": [
    "import numpy\n",
    "import math\n",
    "import matplotlib.pyplot as plt"
   ]
  },
  {
   "cell_type": "code",
   "execution_count": 15,
   "metadata": {},
   "outputs": [],
   "source": [
    "x = [0, 1]\n",
    "y = [0, 2]\n",
    "con = 2\n",
    "y_0 = 0\n",
    "err = 1e-6\n",
    "h = 0.1"
   ]
  },
  {
   "cell_type": "code",
   "execution_count": 16,
   "metadata": {},
   "outputs": [],
   "source": [
    "def f(x, y):\n",
    "    return x * y**(1/2)\n",
    "\n",
    "def foo(x, q, f):\n",
    "    y = q[0]\n",
    "    y1 = q[1]\n",
    "    return numpy.array([y1, f(x, y)])\n",
    "\n",
    "\n",
    "def rung_k(h, q_0, x, f):\n",
    "    xes = numpy.arange(x[0], x[1], h)\n",
    "    q = []\n",
    "    q.append(q_0)\n",
    "    for i in range(1, len(xes) + 1):\n",
    "        xees = x[0] + (i - 1) * h\n",
    "        f1 = foo(xees, q[-1], f)\n",
    "        f2 = foo(xees + h * 0.5, q[-1] + 0.5 * h *  f1, f)\n",
    "        f3 = foo(xees + h * 0.5, q[-1]  + 0.5 * h * f2, f)\n",
    "        f4 = foo(xees + h, q[-1] + h * f3, f)\n",
    "        q.append(q[-1] + (1/6) * h * (f1 + 2 * f2 + 2 * f3 + f4))\n",
    "    return q\n"
   ]
  },
  {
   "cell_type": "code",
   "execution_count": 17,
   "metadata": {},
   "outputs": [],
   "source": [
    "def sol(a, x, h, y_0, f):\n",
    "    q = rung_k(h, numpy.array([y_0, a]), x, f)\n",
    "    y = [q[i][0] for i in range(len(q))]\n",
    "    y1 = [q[i][1] for i in range(len(q))]\n",
    "    return y, y1\n",
    "\n",
    "def diff(y):\n",
    "    return y[-1] - con\n",
    "\n",
    "def change_interval(a_mid, d_mid, a, diff):\n",
    "    if diff[1] * d_mid > 0:\n",
    "        diff[1] = d_mid\n",
    "        a[1] = a_mid\n",
    "    else:\n",
    "        diff[0] = d_mid\n",
    "        a[0] = a_mid\n",
    "    return a, d    "
   ]
  },
  {
   "cell_type": "code",
   "execution_count": 18,
   "metadata": {},
   "outputs": [],
   "source": [
    "def graph(x, solution):\n",
    "    h = (x[1] - x[0]) / (len(solution) - 1)\n",
    "    xes = numpy.arange(x[0], x[1] + h/2 , h)\n",
    "    plt.plot(xes, solution)\n",
    "    plt.grid()\n",
    "    plt.show()\n"
   ]
  },
  {
   "cell_type": "code",
   "execution_count": 19,
   "metadata": {},
   "outputs": [
    {
     "data": {
      "image/png": "[encoded data removed]",
      "text/plain": [
       "<Figure size 432x288 with 1 Axes>"
      ]
     },
     "metadata": {
      "needs_background": "light"
     },
     "output_type": "display_data"
    }
   ],
   "source": [
    "a = [0, 2]\n",
    "y_1, y1_1 = sol(a[0], x, h, y_0, f)\n",
    "y_2, y1_2 = sol(a[1], x, h, y_0, f)\n",
    "d = list([diff(y_1), diff(y_2)])\n",
    "y = y_1\n",
    "\n",
    "while(abs(diff(y)) >= err):  # деление пополам\n",
    "    a_mid = sum(a) / len(a)\n",
    "    y, v = sol(a_mid, x, h, y_0, f)\n",
    "    d_mid = diff(y)\n",
    "    a, d = change_interval(a_mid, d_mid, a, d)\n",
    "\n",
    "graph(x, y)"
   ]
  }
 ],
 "metadata": {
  "interpreter": {
   "hash": "adecd6b6d58611e84e3e7b2ac98042998dbb0b3f7cea641082e40b408a19065e"
  },
  "kernelspec": {
   "display_name": "Python 3.8.8 64-bit ('base': conda)",
   "language": "python",
   "name": "python3"
  },
  "language_info": {
   "codemirror_mode": {
    "name": "ipython",
    "version": 3
   },
   "file_extension": ".py",
   "mimetype": "text/x-python",
   "name": "python",
   "nbconvert_exporter": "python",
   "pygments_lexer": "ipython3",
   "version": "3.8.8"
  },
  "orig_nbformat": 4
 },
 "nbformat": 4,
 "nbformat_minor": 2
}
