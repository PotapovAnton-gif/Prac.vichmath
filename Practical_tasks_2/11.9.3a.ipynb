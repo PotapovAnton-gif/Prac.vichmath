{
 "cells": [
  {
   "cell_type": "markdown",
   "metadata": {},
   "source": [
    "Построить алгоритм метода престрелки\n",
    "\n",
    "$\\left\\{ \n",
    "    \\begin{gathered}\n",
    "        y'' - x \\sqrt{y} = 0,\\quad 0 \\geqslant x \\geqslant 1\\\\ \n",
    "        y(0) = 0, y(1) = 2 \\\\ \n",
    "    \\end{gathered}\n",
    "\\right.$"
   ]
  },
  {
   "cell_type": "code",
   "execution_count": 20,
   "metadata": {},
   "outputs": [],
   "source": [
    "import numpy as np\n",
    "import matplotlib.pyplot as plt"
   ]
  },
  {
   "cell_type": "code",
   "execution_count": 21,
   "metadata": {},
   "outputs": [],
   "source": [
    "x0 = 0\n",
    "x1 = 1\n",
    "y0 = 0\n",
    "y1 = 2\n",
    "\n",
    "\n",
    "N = 10000\n",
    "h = (x1 - x0) / N\n",
    "eps = 1e-4"
   ]
  },
  {
   "cell_type": "code",
   "execution_count": 22,
   "metadata": {},
   "outputs": [],
   "source": [
    "def f(x, y):\n",
    "    return np.sqrt(y) * x\n",
    "\n",
    "def sm(alpha, points: bool = False):\n",
    "    xn = x0\n",
    "    yn = y0\n",
    "    vn = alpha\n",
    "    yn_array = [yn]\n",
    "    while xn < x1:\n",
    "        yn, vn = iterate(xn, yn, vn)\n",
    "        xn += h\n",
    "        if points:\n",
    "            yn_array.append(yn)\n",
    "    if points:\n",
    "        return yn_array\n",
    "    return yn"
   ]
  },
  {
   "cell_type": "code",
   "execution_count": 23,
   "metadata": {},
   "outputs": [],
   "source": [
    "def iterate(xn, yn, vn):\n",
    "    y_es = yn + h * vn\n",
    "    f1 = f(xn, yn)\n",
    "    f2 = f(xn + h, yn + h * f1)\n",
    "    v_es = vn + (h / 2) * (f1 + f2)\n",
    "    return y_es, v_es"
   ]
  },
  {
   "cell_type": "code",
   "execution_count": 24,
   "metadata": {},
   "outputs": [],
   "source": [
    "al_1 = 2\n",
    "al_2 = 1\n",
    "al = (al_1 + al_2)/2\n",
    "\n",
    "\n",
    "while abs(sm(al) - y1) > eps:\n",
    "    if sm(al) - y1 > 0:\n",
    "        al_1 = al\n",
    "    else:\n",
    "        al_2 = al\n",
    "    al = (al_1 + al_2)/2\n",
    "    yn_points = sm(al, points=True)"
   ]
  },
  {
   "cell_type": "code",
   "execution_count": 25,
   "metadata": {},
   "outputs": [
    {
     "data": {
      "image/png": "[encoded data removed]",
      "text/plain": [
       "<Figure size 432x288 with 1 Axes>"
      ]
     },
     "metadata": {
      "needs_background": "light"
     },
     "output_type": "display_data"
    }
   ],
   "source": [
    "plt.plot(np.linspace(0, 1, len(yn_points)), yn_points)\n",
    "plt.grid()\n",
    "plt.show()\n"
   ]
  }
 ],
 "metadata": {
  "interpreter": {
   "hash": "adecd6b6d58611e84e3e7b2ac98042998dbb0b3f7cea641082e40b408a19065e"
  },
  "kernelspec": {
   "display_name": "Python 3.8.8 64-bit ('base': conda)",
   "language": "python",
   "name": "python3"
  },
  "language_info": {
   "codemirror_mode": {
    "name": "ipython",
    "version": 3
   },
   "file_extension": ".py",
   "mimetype": "text/x-python",
   "name": "python",
   "nbconvert_exporter": "python",
   "pygments_lexer": "ipython3",
   "version": "3.9.7"
  },
  "orig_nbformat": 4
 },
 "nbformat": 4,
 "nbformat_minor": 2
}
