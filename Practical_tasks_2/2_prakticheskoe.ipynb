{
 "cells": [
  {
   "cell_type": "markdown",
   "id": "8e4cbb08",
   "metadata": {},
   "source": [
    "# XI.9.3a"
   ]
  },
  {
   "cell_type": "markdown",
   "id": "2a8f7aa0",
   "metadata": {},
   "source": [
    "Построить алгоритм метода пристрелки для вычисления нелинейных задач"
   ]
  },
  {
   "cell_type": "code",
   "execution_count": 2,
   "id": "17e3c9a2",
   "metadata": {},
   "outputs": [
    {
     "data": {
      "image/png": "[encoded data removed]",
      "text/plain": [
       "<Figure size 432x288 with 1 Axes>"
      ]
     },
     "metadata": {
      "needs_background": "light"
     },
     "output_type": "display_data"
    }
   ],
   "source": [
    "import numpy\n",
    "import math\n",
    "import matplotlib.pyplot as plt\n",
    "\n",
    "\n",
    "x = [0, 1]\n",
    "y = [0, 2]\n",
    "con = 2\n",
    "y_0 = 0\n",
    "err = 1e-6\n",
    "h = 0.1\n",
    "\n",
    "def f(x, y):\n",
    "    return x * y**(1/2)\n",
    "\n",
    "def func(x, q, f):\n",
    "    y = q[0]\n",
    "    v = q[1]\n",
    "    return numpy.array([v, f(x, y)])\n",
    "\n",
    "\n",
    "def rung_k(h, q_0, x, f):  # метод рунге-кутты 4 порядка\n",
    "    x_ = numpy.arange(x[0], x[1], h)\n",
    "    q = []\n",
    "    q.append(q_0)\n",
    "    for i in range(1, len(x_) + 1):\n",
    "        x__ = x[0] + (i - 1) * h\n",
    "        f_1 = func(x__, q[-1], f)\n",
    "        f_2 = func(x__ + h * 0.5, q[-1] + 0.5 * h *  f_1, f)\n",
    "        f_3 = func(x__ + h * 0.5, q[-1]  + 0.5 * h * f_2, f)\n",
    "        f_4 = func(x__ + h, q[-1] + h * f_3, f)\n",
    "        q.append(q[-1] + (1/6) * h * (f_1 + 2 * f_2 + 2 * f_3 + f_4))\n",
    "    return q\n",
    "\n",
    "def solve(a, x, h, y_0, f):\n",
    "    q = rung_k(h, numpy.array([y_0, a]), x, f)\n",
    "    y = [q[i][0] for i in range(len(q))]\n",
    "    v = [q[i][1] for i in range(len(q))]\n",
    "    return y, v\n",
    "\n",
    "def delta(y):\n",
    "    return y[-1] - con\n",
    "\n",
    "def change_interval(a_mid, d_mid, a, d):\n",
    "    if d[1] * d_mid > 0:\n",
    "        d[1] = d_mid\n",
    "        a[1] = a_mid\n",
    "    else:\n",
    "        d[0] = d_mid\n",
    "        a[0] = a_mid\n",
    "    return a, d    \n",
    "\n",
    "def visual(x, answer):\n",
    "    h = (x[1] - x[0]) / (len(answer) - 1)\n",
    "    x_ = numpy.arange(x[0], x[1] + h/2 , h)\n",
    "    plt.plot(x_, answer, label = 'experiment')\n",
    "    plt.legend()\n",
    "    plt.grid()\n",
    "    plt.show()\n",
    "\n",
    "a = [0, 2] # start a of different sign\n",
    "y_1, v_1 = solve(a[0], x, h, y_0, f)\n",
    "y_2, v_2 = solve(a[1], x, h, y_0, f)\n",
    "d = [delta(y_1), delta(y_2)]\n",
    "y = y_1\n",
    "\n",
    "while(abs(delta(y)) >= err):  # деление пополам\n",
    "    a_mid = sum(a) / len(a)\n",
    "    y, v = solve(a_mid, x, h, y_0, f)\n",
    "    d_mid = delta(y)\n",
    "    a, d = change_interval(a_mid, d_mid, a, d)\n",
    "\n",
    "visual(x, y)\n"
   ]
  },
  {
   "cell_type": "markdown",
   "id": "45496b36",
   "metadata": {},
   "source": [
    "# X.9.3"
   ]
  },
  {
   "cell_type": "markdown",
   "id": "0125b073",
   "metadata": {},
   "source": [
    "Уравнение Релея"
   ]
  },
  {
   "cell_type": "code",
   "execution_count": 3,
   "id": "c2ccd6f2",
   "metadata": {},
   "outputs": [
    {
     "name": "stderr",
     "output_type": "stream",
     "text": [
      "  5%|▍         | 478882/10000000 [00:18<06:16, 25282.39it/s]\n"
     ]
    },
    {
     "ename": "KeyboardInterrupt",
     "evalue": "",
     "output_type": "error",
     "traceback": [
      "\u001b[0;31m---------------------------------------------------------------------------\u001b[0m",
      "\u001b[0;31mKeyboardInterrupt\u001b[0m                         Traceback (most recent call last)",
      "\u001b[0;32m<ipython-input-3-c05a32cc9b33>\u001b[0m in \u001b[0;36m<module>\u001b[0;34m\u001b[0m\n\u001b[1;32m     31\u001b[0m \u001b[0;32mwith\u001b[0m \u001b[0mtqdm\u001b[0m\u001b[0;34m(\u001b[0m\u001b[0mtotal\u001b[0m\u001b[0;34m=\u001b[0m\u001b[0mN\u001b[0m\u001b[0;34m)\u001b[0m \u001b[0;32mas\u001b[0m \u001b[0mpbar\u001b[0m\u001b[0;34m:\u001b[0m\u001b[0;34m\u001b[0m\u001b[0;34m\u001b[0m\u001b[0m\n\u001b[1;32m     32\u001b[0m     \u001b[0;32mfor\u001b[0m \u001b[0mi\u001b[0m \u001b[0;32min\u001b[0m \u001b[0mrange\u001b[0m\u001b[0;34m(\u001b[0m\u001b[0mN\u001b[0m\u001b[0;34m)\u001b[0m\u001b[0;34m:\u001b[0m\u001b[0;34m\u001b[0m\u001b[0;34m\u001b[0m\u001b[0m\n\u001b[0;32m---> 33\u001b[0;31m         \u001b[0mu\u001b[0m\u001b[0;34m.\u001b[0m\u001b[0mappend\u001b[0m\u001b[0;34m(\u001b[0m\u001b[0mNewton_method\u001b[0m\u001b[0;34m(\u001b[0m\u001b[0mu\u001b[0m\u001b[0;34m[\u001b[0m\u001b[0;34m-\u001b[0m\u001b[0;36m1\u001b[0m\u001b[0;34m]\u001b[0m\u001b[0;34m)\u001b[0m\u001b[0;34m)\u001b[0m\u001b[0;34m\u001b[0m\u001b[0;34m\u001b[0m\u001b[0m\n\u001b[0m\u001b[1;32m     34\u001b[0m         \u001b[0mpbar\u001b[0m\u001b[0;34m.\u001b[0m\u001b[0mupdate\u001b[0m\u001b[0;34m(\u001b[0m\u001b[0;36m1\u001b[0m\u001b[0;34m)\u001b[0m\u001b[0;34m\u001b[0m\u001b[0;34m\u001b[0m\u001b[0m\n\u001b[1;32m     35\u001b[0m \u001b[0mt\u001b[0m \u001b[0;34m=\u001b[0m \u001b[0mnp\u001b[0m\u001b[0;34m.\u001b[0m\u001b[0marange\u001b[0m\u001b[0;34m(\u001b[0m\u001b[0;36m0.0\u001b[0m\u001b[0;34m,\u001b[0m \u001b[0;36m1000\u001b[0m \u001b[0;34m+\u001b[0m \u001b[0mh\u001b[0m\u001b[0;34m,\u001b[0m \u001b[0mh\u001b[0m\u001b[0;34m)\u001b[0m\u001b[0;34m\u001b[0m\u001b[0;34m\u001b[0m\u001b[0m\n",
      "\u001b[0;32m<ipython-input-3-c05a32cc9b33>\u001b[0m in \u001b[0;36mNewton_method\u001b[0;34m(u0)\u001b[0m\n\u001b[1;32m     17\u001b[0m     \u001b[0meps\u001b[0m \u001b[0;34m=\u001b[0m \u001b[0;36m1e-6\u001b[0m\u001b[0;34m\u001b[0m\u001b[0;34m\u001b[0m\u001b[0m\n\u001b[1;32m     18\u001b[0m     \u001b[0mf\u001b[0m \u001b[0;34m=\u001b[0m \u001b[0mnp\u001b[0m\u001b[0;34m.\u001b[0m\u001b[0marray\u001b[0m\u001b[0;34m(\u001b[0m\u001b[0;34m[\u001b[0m\u001b[0;34m-\u001b[0m\u001b[0mh\u001b[0m \u001b[0;34m*\u001b[0m \u001b[0mu_old\u001b[0m\u001b[0;34m[\u001b[0m\u001b[0;36m1\u001b[0m\u001b[0;34m]\u001b[0m\u001b[0;34m,\u001b[0m \u001b[0;34m-\u001b[0m\u001b[0mh\u001b[0m \u001b[0;34m*\u001b[0m \u001b[0;34m(\u001b[0m\u001b[0mm\u001b[0m \u001b[0;34m*\u001b[0m \u001b[0;34m(\u001b[0m\u001b[0;36m1\u001b[0m \u001b[0;34m-\u001b[0m \u001b[0mu_old\u001b[0m\u001b[0;34m[\u001b[0m\u001b[0;36m1\u001b[0m\u001b[0;34m]\u001b[0m \u001b[0;34m*\u001b[0m \u001b[0mu_old\u001b[0m\u001b[0;34m[\u001b[0m\u001b[0;36m1\u001b[0m\u001b[0;34m]\u001b[0m\u001b[0;34m)\u001b[0m \u001b[0;34m*\u001b[0m \u001b[0mu_old\u001b[0m\u001b[0;34m[\u001b[0m\u001b[0;36m1\u001b[0m\u001b[0;34m]\u001b[0m \u001b[0;34m-\u001b[0m \u001b[0mu_old\u001b[0m\u001b[0;34m[\u001b[0m\u001b[0;36m0\u001b[0m\u001b[0;34m]\u001b[0m\u001b[0;34m)\u001b[0m\u001b[0;34m]\u001b[0m\u001b[0;34m)\u001b[0m\u001b[0;34m\u001b[0m\u001b[0;34m\u001b[0m\u001b[0m\n\u001b[0;32m---> 19\u001b[0;31m     \u001b[0mu_new\u001b[0m \u001b[0;34m=\u001b[0m \u001b[0mu_old\u001b[0m \u001b[0;34m-\u001b[0m \u001b[0mrev_matrix\u001b[0m\u001b[0;34m(\u001b[0m\u001b[0mu_old\u001b[0m\u001b[0;34m)\u001b[0m\u001b[0;34m.\u001b[0m\u001b[0mdot\u001b[0m\u001b[0;34m(\u001b[0m\u001b[0mf\u001b[0m\u001b[0;34m)\u001b[0m\u001b[0;34m\u001b[0m\u001b[0;34m\u001b[0m\u001b[0m\n\u001b[0m\u001b[1;32m     20\u001b[0m     \u001b[0;32mwhile\u001b[0m \u001b[0;34m(\u001b[0m\u001b[0mu_old\u001b[0m\u001b[0;34m[\u001b[0m\u001b[0;36m0\u001b[0m\u001b[0;34m]\u001b[0m \u001b[0;34m-\u001b[0m \u001b[0mu_new\u001b[0m\u001b[0;34m[\u001b[0m\u001b[0;36m0\u001b[0m\u001b[0;34m]\u001b[0m\u001b[0;34m)\u001b[0m \u001b[0;34m**\u001b[0m \u001b[0;36m2\u001b[0m \u001b[0;34m+\u001b[0m \u001b[0;34m(\u001b[0m\u001b[0mu_old\u001b[0m\u001b[0;34m[\u001b[0m\u001b[0;36m1\u001b[0m\u001b[0;34m]\u001b[0m \u001b[0;34m-\u001b[0m \u001b[0mu_new\u001b[0m\u001b[0;34m[\u001b[0m\u001b[0;36m1\u001b[0m\u001b[0;34m]\u001b[0m\u001b[0;34m)\u001b[0m \u001b[0;34m**\u001b[0m \u001b[0;36m2\u001b[0m \u001b[0;34m>\u001b[0m \u001b[0meps\u001b[0m\u001b[0;34m:\u001b[0m\u001b[0;34m\u001b[0m\u001b[0;34m\u001b[0m\u001b[0m\n\u001b[1;32m     21\u001b[0m         \u001b[0mu_old\u001b[0m \u001b[0;34m=\u001b[0m \u001b[0mu_new\u001b[0m\u001b[0;34m\u001b[0m\u001b[0;34m\u001b[0m\u001b[0m\n",
      "\u001b[0;32m<ipython-input-3-c05a32cc9b33>\u001b[0m in \u001b[0;36mrev_matrix\u001b[0;34m(x)\u001b[0m\n\u001b[1;32m     10\u001b[0m     \u001b[0mb\u001b[0m \u001b[0;34m=\u001b[0m \u001b[0mnp\u001b[0m\u001b[0;34m.\u001b[0m\u001b[0marray\u001b[0m\u001b[0;34m(\u001b[0m\u001b[0;34m[\u001b[0m\u001b[0;34m[\u001b[0m\u001b[0;36m1\u001b[0m \u001b[0;34m-\u001b[0m \u001b[0mh\u001b[0m \u001b[0;34m*\u001b[0m \u001b[0mm\u001b[0m \u001b[0;34m*\u001b[0m \u001b[0;34m(\u001b[0m\u001b[0;36m1\u001b[0m \u001b[0;34m-\u001b[0m \u001b[0;36m3\u001b[0m \u001b[0;34m*\u001b[0m \u001b[0mx\u001b[0m\u001b[0;34m[\u001b[0m\u001b[0;36m1\u001b[0m\u001b[0;34m]\u001b[0m \u001b[0;34m*\u001b[0m \u001b[0mx\u001b[0m\u001b[0;34m[\u001b[0m\u001b[0;36m1\u001b[0m\u001b[0;34m]\u001b[0m\u001b[0;34m)\u001b[0m\u001b[0;34m,\u001b[0m \u001b[0mh\u001b[0m\u001b[0;34m]\u001b[0m\u001b[0;34m,\u001b[0m \u001b[0;34m[\u001b[0m\u001b[0;34m-\u001b[0m\u001b[0mh\u001b[0m\u001b[0;34m,\u001b[0m \u001b[0;36m1\u001b[0m\u001b[0;34m]\u001b[0m\u001b[0;34m]\u001b[0m\u001b[0;34m)\u001b[0m\u001b[0;34m\u001b[0m\u001b[0;34m\u001b[0m\u001b[0m\n\u001b[1;32m     11\u001b[0m     \u001b[0mdet\u001b[0m \u001b[0;34m=\u001b[0m \u001b[0;36m1\u001b[0m \u001b[0;34m-\u001b[0m \u001b[0mh\u001b[0m \u001b[0;34m*\u001b[0m \u001b[0mm\u001b[0m \u001b[0;34m*\u001b[0m \u001b[0;34m(\u001b[0m\u001b[0;36m1\u001b[0m \u001b[0;34m-\u001b[0m \u001b[0;36m3\u001b[0m \u001b[0;34m*\u001b[0m \u001b[0mx\u001b[0m\u001b[0;34m[\u001b[0m\u001b[0;36m1\u001b[0m\u001b[0;34m]\u001b[0m \u001b[0;34m*\u001b[0m \u001b[0mx\u001b[0m\u001b[0;34m[\u001b[0m\u001b[0;36m1\u001b[0m\u001b[0;34m]\u001b[0m\u001b[0;34m)\u001b[0m \u001b[0;34m+\u001b[0m \u001b[0mh\u001b[0m \u001b[0;34m*\u001b[0m \u001b[0mh\u001b[0m\u001b[0;34m\u001b[0m\u001b[0;34m\u001b[0m\u001b[0m\n\u001b[0;32m---> 12\u001b[0;31m     \u001b[0;32mreturn\u001b[0m \u001b[0mb\u001b[0m \u001b[0;34m/\u001b[0m \u001b[0mdet\u001b[0m\u001b[0;34m\u001b[0m\u001b[0;34m\u001b[0m\u001b[0m\n\u001b[0m\u001b[1;32m     13\u001b[0m \u001b[0;34m\u001b[0m\u001b[0m\n\u001b[1;32m     14\u001b[0m \u001b[0;34m\u001b[0m\u001b[0m\n",
      "\u001b[0;31mKeyboardInterrupt\u001b[0m: "
     ]
    }
   ],
   "source": [
    "import numpy as np\n",
    "import matplotlib.pyplot as plt\n",
    "from tqdm import tqdm\n",
    "\n",
    "m = 1000\n",
    "h = 0.0001\n",
    "\n",
    "\n",
    "def rev_matrix(x):\n",
    "    b = np.array([[1 - h * m * (1 - 3 * x[1] * x[1]), h], [-h, 1]])\n",
    "    det = 1 - h * m * (1 - 3 * x[1] * x[1]) + h * h\n",
    "    return b / det\n",
    "\n",
    "\n",
    "def Newton_method(u0):\n",
    "    u_old = u0\n",
    "    eps = 1e-6\n",
    "    f = np.array([-h * u_old[1], -h * (m * (1 - u_old[1] * u_old[1]) * u_old[1] - u_old[0])])\n",
    "    u_new = u_old - rev_matrix(u_old).dot(f)\n",
    "    while (u_old[0] - u_new[0]) ** 2 + (u_old[1] - u_new[1]) ** 2 > eps:\n",
    "        u_old = u_new\n",
    "        f = np.array([-h * u_old[1], -h * (m * (1 - u_old[1] * u_old[1]) * u_old[1] - u_old[0])])\n",
    "        u_new = u_old - rev_matrix(u_old).dot(f)\n",
    "    return u_new\n",
    "\n",
    "\n",
    "x0, p0 = 0, 0.001\n",
    "u = [np.array([x0, p0])]\n",
    "T = 1000\n",
    "N = int(T / h)\n",
    "with tqdm(total=N) as pbar:\n",
    "    for i in range(N):\n",
    "        u.append(Newton_method(u[-1]))\n",
    "        pbar.update(1)\n",
    "t = np.arange(0.0, 1000 + h, h)\n",
    "fig, ax = plt.subplots()\n",
    "ax.plot(t, u)\n",
    "ax.grid()\n",
    "plt.show()"
   ]
  },
  {
   "cell_type": "code",
   "execution_count": null,
   "id": "bb7d586a",
   "metadata": {},
   "outputs": [
    {
     "name": "stderr",
     "output_type": "stream",
     "text": [
      "100%|████████████████████████████████████████████████████████████████████▉| 785396/785397 [00:00<00:00, 1089364.98it/s]\n"
     ]
    },
    {
     "name": "stdout",
     "output_type": "stream",
     "text": [
      "y(0.5) = 0.17393963558108771\n",
      "y(1) = 0.49490734524961877\n",
      "y(1.5) = 0.9601014516218845\n",
      "y(2) = 1.55110657973199\n",
      "y(2.5) = 2.2290556080532697\n",
      "y(3) = 2.9385281456577803\n"
     ]
    },
    {
     "data": {
      "image/png": "[encoded data removed]",
      "text/plain": [
       "<Figure size 432x288 with 1 Axes>"
      ]
     },
     "metadata": {
      "needs_background": "light"
     },
     "output_type": "display_data"
    }
   ],
   "source": [
    "import math as m\n",
    "import numpy as np\n",
    "import matplotlib.pyplot as plt\n",
    "from tqdm import tqdm\n",
    "\n",
    "\n",
    "# Метод прогонки\n",
    "def solveTriagonalSlae(a, b, c, d):\n",
    "    N = len(a)\n",
    "    a = [0] + a\n",
    "\n",
    "    p = [0] + [-c[0] / b[0]]\n",
    "    q = [0] + [d[0] / b[0]]\n",
    "    with tqdm(total=N) as pbar:\n",
    "        for i in range(1, N):\n",
    "            znam = a[i] * p[i] + b[i]\n",
    "            p.append(-c[i] / znam)\n",
    "            q.append((d[i] - a[i] * q[i]) / znam)\n",
    "            pbar.update(1)\n",
    "\n",
    "    yN = (d[N] - a[N] * q[N]) / (a[N] * p[N] + b[N])\n",
    "    result = [0 for _ in range(N)] + [yN]\n",
    "    for i in range(N - 1, -1, -1):\n",
    "        result[i] = p[i + 1] * result[i + 1] + q[i + 1]\n",
    "    return result\n",
    "\n",
    "\n",
    "def g(x): return x ** 2 - 3\n",
    "\n",
    "\n",
    "def h(x): return (x ** 2 - 3) * m.cos(x)\n",
    "\n",
    "\n",
    "def f(x): return 2 - 6 * x + 2 * x ** 3 + (x * x - 3) * m.exp(x) * m.sin(x) * (1 + m.cos(x)) + m.cos(x) * (\n",
    "        m.exp(x) + (x * x - 1) + x ** 4 - 3 * x * x)\n",
    "\n",
    "\n",
    "y0, yN = 0, m.pi ** 2\n",
    "x0, xN = 0, 3.14159\n",
    "tau = 0.000004\n",
    "n = int(xN / tau)\n",
    "a = [1 for i in range(1, n)] + [0]\n",
    "b = [1] + [-2 - tau * g(i * tau) + tau * tau * h(i * tau) for i in range(1, n)] + [1]\n",
    "c = [0] + [1 + g(i * tau) * tau for i in range(1, n)]\n",
    "d = [y0] + [tau * tau * f(i * tau) for i in range(1, n)] + [yN]\n",
    "y = solveTriagonalSlae(a, b, c, d)\n",
    "print('y(0.5) =', y[50000])\n",
    "print('y(1) =', y[2 * 50000])\n",
    "print('y(1.5) =', y[3 * 50000])\n",
    "print('y(2) =', y[4 * 50000])\n",
    "print('y(2.5) =', y[5 * 50000])\n",
    "print('y(3) =', y[6 * 50000])\n",
    "\n",
    "t = np.arange(x0, xN, tau)\n",
    "fig, ax = plt.subplots()\n",
    "ax.plot(t, y)\n",
    "ax.grid()\n",
    "plt.show()\n"
   ]
  },
  {
   "cell_type": "code",
   "execution_count": null,
   "id": "636d0037",
   "metadata": {},
   "outputs": [],
   "source": []
  }
 ],
 "metadata": {
  "kernelspec": {
   "display_name": "Python 3",
   "language": "python",
   "name": "python3"
  },
  "language_info": {
   "codemirror_mode": {
    "name": "ipython",
    "version": 3
   },
   "file_extension": ".py",
   "mimetype": "text/x-python",
   "name": "python",
   "nbconvert_exporter": "python",
   "pygments_lexer": "ipython3",
   "version": "3.8.8"
  }
 },
 "nbformat": 4,
 "nbformat_minor": 5
}
