{
 "cells": [
  {
   "cell_type": "code",
   "execution_count": 2,
   "metadata": {},
   "outputs": [
    {
     "name": "stderr",
     "output_type": "stream",
     "text": [
      "  9%|▉         | 938388/10000000 [00:30<06:35, 22913.87it/s]"
     ]
    }
   ],
   "source": [
    "import numpy as np\n",
    "import matplotlib.pyplot as plt\n",
    "from tqdm import tqdm\n",
    "\n",
    "m = 1000\n",
    "h = 0.0001\n",
    "\n",
    "\n",
    "def rev_matrix(x):\n",
    "    b = np.array([[1 - h * m * (1 - 3 * x[1] * x[1]), h], [-h, 1]])\n",
    "    det = 1 - h * m * (1 - 3 * x[1] * x[1]) + h * h\n",
    "    return b / det\n",
    "\n",
    "\n",
    "def Newton_method(u0):\n",
    "    u_old = u0\n",
    "    eps = 1e-6\n",
    "    f = np.array([-h * u_old[1], -h * (m * (1 - u_old[1] * u_old[1]) * u_old[1] - u_old[0])])\n",
    "    u_new = u_old - rev_matrix(u_old).dot(f)\n",
    "    while (u_old[0] - u_new[0]) ** 2 + (u_old[1] - u_new[1]) ** 2 > eps:\n",
    "        u_old = u_new\n",
    "        f = np.array([-h * u_old[1], -h * (m * (1 - u_old[1] * u_old[1]) * u_old[1] - u_old[0])])\n",
    "        u_new = u_old - rev_matrix(u_old).dot(f)\n",
    "    return u_new\n",
    "\n",
    "\n",
    "x0, p0 = 0, 0.001\n",
    "u = [np.array([x0, p0])]\n",
    "T = 1000\n",
    "N = int(T / h)\n",
    "with tqdm(total=N) as pbar:\n",
    "    for i in range(N):\n",
    "        u.append(Newton_method(u[-1]))\n",
    "        pbar.update(1)\n",
    "t = np.arange(0.0, 1000 + h, h)\n",
    "fig, ax = plt.subplots()\n",
    "ax.plot(t, u)\n",
    "ax.grid()\n",
    "plt.show()"
   ]
  }
 ],
 "metadata": {
  "interpreter": {
   "hash": "adecd6b6d58611e84e3e7b2ac98042998dbb0b3f7cea641082e40b408a19065e"
  },
  "kernelspec": {
   "display_name": "Python 3.8.8 64-bit ('base': conda)",
   "language": "python",
   "name": "python3"
  },
  "language_info": {
   "codemirror_mode": {
    "name": "ipython",
    "version": 3
   },
   "file_extension": ".py",
   "mimetype": "text/x-python",
   "name": "python",
   "nbconvert_exporter": "python",
   "pygments_lexer": "ipython3",
   "version": "3.8.8"
  },
  "orig_nbformat": 4
 },
 "nbformat": 4,
 "nbformat_minor": 2
}
