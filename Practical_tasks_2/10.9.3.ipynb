{
 "cells": [
  {
   "cell_type": "markdown",
   "metadata": {},
   "source": [
    "Решить уравнение Релея\n",
    "\n",
    "$$\\frac {d^2x}{dt^2} - \\mu(1 - {\\frac{dx}{dt}^2 })\\frac{dx}{dt} + x = 0$$\n",
    "\n",
    "Начальные условия задачи\n",
    "\n",
    "$ x(0) = 0; \\dot{x}(0) = 0.001, \\mu = 1000, T_k = 1000 $ "
   ]
  },
  {
   "cell_type": "code",
   "execution_count": 8,
   "metadata": {},
   "outputs": [],
   "source": [
    "import numpy as np\n",
    "import matplotlib.pyplot as plt\n"
   ]
  },
  {
   "cell_type": "code",
   "execution_count": 13,
   "metadata": {},
   "outputs": [],
   "source": [
    "m = 1000\n",
    "h = 0.0001\n",
    "x0, y0 = 0, 0.001\n",
    "T = 1000\n",
    "N = int(T / h)"
   ]
  },
  {
   "cell_type": "code",
   "execution_count": 14,
   "metadata": {},
   "outputs": [],
   "source": [
    "def rk(xn, yn):\n",
    "    x_es = xn + h*yn + (h**2 * yn)/2\n",
    "    y_es = yn + h*(m*(1-(yn**2))*yn - xn)\n",
    "    return x_es, y_es"
   ]
  },
  {
   "cell_type": "code",
   "execution_count": 15,
   "metadata": {},
   "outputs": [],
   "source": [
    "xn = x0\n",
    "yn = y0\n",
    "xn_points = [x0]\n",
    "tn = 0\n",
    "while tn < T:\n",
    "    xn, yn = rk(xn, yn)\n",
    "    xn_points.append(xn)\n",
    "    tn += h"
   ]
  },
  {
   "cell_type": "code",
   "execution_count": 17,
   "metadata": {},
   "outputs": [
    {
     "data": {
      "image/png": "[encoded data removed]",
      "text/plain": [
       "<Figure size 432x288 with 1 Axes>"
      ]
     },
     "metadata": {
      "needs_background": "light"
     },
     "output_type": "display_data"
    }
   ],
   "source": [
    "plt.plot(np.linspace(0, T, len(xn_points)), xn_points)\n",
    "plt.grid()\n",
    "plt.show()"
   ]
  }
 ],
 "metadata": {
  "interpreter": {
   "hash": "adecd6b6d58611e84e3e7b2ac98042998dbb0b3f7cea641082e40b408a19065e"
  },
  "kernelspec": {
   "display_name": "Python 3.8.8 64-bit ('base': conda)",
   "language": "python",
   "name": "python3"
  },
  "language_info": {
   "codemirror_mode": {
    "name": "ipython",
    "version": 3
   },
   "file_extension": ".py",
   "mimetype": "text/x-python",
   "name": "python",
   "nbconvert_exporter": "python",
   "pygments_lexer": "ipython3",
   "version": "3.9.7"
  },
  "orig_nbformat": 4
 },
 "nbformat": 4,
 "nbformat_minor": 2
}
