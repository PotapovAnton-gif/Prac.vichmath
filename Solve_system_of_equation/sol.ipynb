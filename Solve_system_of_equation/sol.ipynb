{
 "cells": [
  {
   "cell_type": "markdown",
   "metadata": {},
   "source": [
    "$\\left\\{ \\begin{gathered} \\frac{\\partial u}{\\partial t} + \\frac{\\partial v}{\\partial x} = f \\\\ \\frac{\\partial v}{\\partial t} + \\frac{\\partial u}{\\partial x} = g \\end{gathered} \\right. ; \\space x \\in [0, \\pi], t \\in [0, 10]$\n",
    "\n",
    "$u(0,x) = sin(x), \\space v(0,x) = cos(x) $\n",
    "\n",
    "$ (f,g)^T = (0,0), \\space (f,g)^T = (1,0) $\n",
    "\n"
   ]
  },
  {
   "cell_type": "code",
   "execution_count": null,
   "metadata": {},
   "outputs": [],
   "source": [
    "import "
   ]
  }
 ],
 "metadata": {
  "language_info": {
   "name": "python"
  },
  "orig_nbformat": 4
 },
 "nbformat": 4,
 "nbformat_minor": 2
}
